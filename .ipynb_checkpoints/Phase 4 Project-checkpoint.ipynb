{
 "cells": [
  {
   "cell_type": "markdown",
   "metadata": {},
   "source": [
    "## Phase 4 Project\n",
    "\n",
    "##### Student Name:  Terry Thompson\n",
    "##### Flex Student\n",
    "##### Teacher: Morgan Jones\n",
    "\n",
    "## Business Understanding:  \n",
    "##### Bluestone Investment Group is looking to expand its interests in the state of Utah.  Bluestone has tasked us with finding the top areas in the state with the best ROI.  Bluestone would like to see what the ROI in these areas would be for three and five years.  We will predict the top 5 zipcodes that Bluestone should invest in using time series modelling."
   ]
  },
  {
   "cell_type": "code",
   "execution_count": 1,
   "metadata": {},
   "outputs": [],
   "source": [
    "# Import all tools needed.\n",
    "import pandas as pd\n",
    "from pandas.plotting import autocorrelation_plot,lag_plot\n",
    "import numpy as np\n",
    "import matplotlib.pyplot as plt\n",
    "%matplotlib inline\n",
    "from datetime import datetime\n",
    "import statsmodels.api as sm\n",
    "from statsmodels.graphics.tsaplots import plot_pacf\n",
    "from statsmodels.graphics.tsaplots import plot_acf\n",
    "from statsmodels.tsa.arima.model import ARIMA\n",
    "from statsmodels.tsa.statespace.sarimax import SARIMAX\n",
    "from statsmodels.tsa.seasonal import seasonal_decompose\n",
    "from sklearn import metrics\n",
    "import warnings\n",
    "warnings.filterwarnings('ignore')"
   ]
  },
  {
   "cell_type": "markdown",
   "metadata": {},
   "source": [
    "## Data Understanding\n",
    "\n",
    "##### Here we will look at the data and see what we have."
   ]
  },
  {
   "cell_type": "code",
   "execution_count": 2,
   "metadata": {},
   "outputs": [
    {
     "name": "stdout",
     "output_type": "stream",
     "text": [
      "<class 'pandas.core.frame.DataFrame'>\n",
      "RangeIndex: 14723 entries, 0 to 14722\n",
      "Columns: 272 entries, RegionID to 2018-04\n",
      "dtypes: float64(219), int64(49), object(4)\n",
      "memory usage: 30.6+ MB\n"
     ]
    },
    {
     "data": {
      "text/html": [
       "<div>\n",
       "<style scoped>\n",
       "    .dataframe tbody tr th:only-of-type {\n",
       "        vertical-align: middle;\n",
       "    }\n",
       "\n",
       "    .dataframe tbody tr th {\n",
       "        vertical-align: top;\n",
       "    }\n",
       "\n",
       "    .dataframe thead th {\n",
       "        text-align: right;\n",
       "    }\n",
       "</style>\n",
       "<table border=\"1\" class=\"dataframe\">\n",
       "  <thead>\n",
       "    <tr style=\"text-align: right;\">\n",
       "      <th></th>\n",
       "      <th>RegionID</th>\n",
       "      <th>RegionName</th>\n",
       "      <th>City</th>\n",
       "      <th>State</th>\n",
       "      <th>Metro</th>\n",
       "      <th>CountyName</th>\n",
       "      <th>SizeRank</th>\n",
       "      <th>1996-04</th>\n",
       "      <th>1996-05</th>\n",
       "      <th>1996-06</th>\n",
       "      <th>...</th>\n",
       "      <th>2017-07</th>\n",
       "      <th>2017-08</th>\n",
       "      <th>2017-09</th>\n",
       "      <th>2017-10</th>\n",
       "      <th>2017-11</th>\n",
       "      <th>2017-12</th>\n",
       "      <th>2018-01</th>\n",
       "      <th>2018-02</th>\n",
       "      <th>2018-03</th>\n",
       "      <th>2018-04</th>\n",
       "    </tr>\n",
       "  </thead>\n",
       "  <tbody>\n",
       "    <tr>\n",
       "      <th>0</th>\n",
       "      <td>84654</td>\n",
       "      <td>60657</td>\n",
       "      <td>Chicago</td>\n",
       "      <td>IL</td>\n",
       "      <td>Chicago</td>\n",
       "      <td>Cook</td>\n",
       "      <td>1</td>\n",
       "      <td>334200.0</td>\n",
       "      <td>335400.0</td>\n",
       "      <td>336500.0</td>\n",
       "      <td>...</td>\n",
       "      <td>1005500</td>\n",
       "      <td>1007500</td>\n",
       "      <td>1007800</td>\n",
       "      <td>1009600</td>\n",
       "      <td>1013300</td>\n",
       "      <td>1018700</td>\n",
       "      <td>1024400</td>\n",
       "      <td>1030700</td>\n",
       "      <td>1033800</td>\n",
       "      <td>1030600</td>\n",
       "    </tr>\n",
       "    <tr>\n",
       "      <th>1</th>\n",
       "      <td>90668</td>\n",
       "      <td>75070</td>\n",
       "      <td>McKinney</td>\n",
       "      <td>TX</td>\n",
       "      <td>Dallas-Fort Worth</td>\n",
       "      <td>Collin</td>\n",
       "      <td>2</td>\n",
       "      <td>235700.0</td>\n",
       "      <td>236900.0</td>\n",
       "      <td>236700.0</td>\n",
       "      <td>...</td>\n",
       "      <td>308000</td>\n",
       "      <td>310000</td>\n",
       "      <td>312500</td>\n",
       "      <td>314100</td>\n",
       "      <td>315000</td>\n",
       "      <td>316600</td>\n",
       "      <td>318100</td>\n",
       "      <td>319600</td>\n",
       "      <td>321100</td>\n",
       "      <td>321800</td>\n",
       "    </tr>\n",
       "    <tr>\n",
       "      <th>2</th>\n",
       "      <td>91982</td>\n",
       "      <td>77494</td>\n",
       "      <td>Katy</td>\n",
       "      <td>TX</td>\n",
       "      <td>Houston</td>\n",
       "      <td>Harris</td>\n",
       "      <td>3</td>\n",
       "      <td>210400.0</td>\n",
       "      <td>212200.0</td>\n",
       "      <td>212200.0</td>\n",
       "      <td>...</td>\n",
       "      <td>321000</td>\n",
       "      <td>320600</td>\n",
       "      <td>320200</td>\n",
       "      <td>320400</td>\n",
       "      <td>320800</td>\n",
       "      <td>321200</td>\n",
       "      <td>321200</td>\n",
       "      <td>323000</td>\n",
       "      <td>326900</td>\n",
       "      <td>329900</td>\n",
       "    </tr>\n",
       "    <tr>\n",
       "      <th>3</th>\n",
       "      <td>84616</td>\n",
       "      <td>60614</td>\n",
       "      <td>Chicago</td>\n",
       "      <td>IL</td>\n",
       "      <td>Chicago</td>\n",
       "      <td>Cook</td>\n",
       "      <td>4</td>\n",
       "      <td>498100.0</td>\n",
       "      <td>500900.0</td>\n",
       "      <td>503100.0</td>\n",
       "      <td>...</td>\n",
       "      <td>1289800</td>\n",
       "      <td>1287700</td>\n",
       "      <td>1287400</td>\n",
       "      <td>1291500</td>\n",
       "      <td>1296600</td>\n",
       "      <td>1299000</td>\n",
       "      <td>1302700</td>\n",
       "      <td>1306400</td>\n",
       "      <td>1308500</td>\n",
       "      <td>1307000</td>\n",
       "    </tr>\n",
       "    <tr>\n",
       "      <th>4</th>\n",
       "      <td>93144</td>\n",
       "      <td>79936</td>\n",
       "      <td>El Paso</td>\n",
       "      <td>TX</td>\n",
       "      <td>El Paso</td>\n",
       "      <td>El Paso</td>\n",
       "      <td>5</td>\n",
       "      <td>77300.0</td>\n",
       "      <td>77300.0</td>\n",
       "      <td>77300.0</td>\n",
       "      <td>...</td>\n",
       "      <td>119100</td>\n",
       "      <td>119400</td>\n",
       "      <td>120000</td>\n",
       "      <td>120300</td>\n",
       "      <td>120300</td>\n",
       "      <td>120300</td>\n",
       "      <td>120300</td>\n",
       "      <td>120500</td>\n",
       "      <td>121000</td>\n",
       "      <td>121500</td>\n",
       "    </tr>\n",
       "  </tbody>\n",
       "</table>\n",
       "<p>5 rows × 272 columns</p>\n",
       "</div>"
      ],
      "text/plain": [
       "   RegionID  RegionName      City State              Metro CountyName  \\\n",
       "0     84654       60657   Chicago    IL            Chicago       Cook   \n",
       "1     90668       75070  McKinney    TX  Dallas-Fort Worth     Collin   \n",
       "2     91982       77494      Katy    TX            Houston     Harris   \n",
       "3     84616       60614   Chicago    IL            Chicago       Cook   \n",
       "4     93144       79936   El Paso    TX            El Paso    El Paso   \n",
       "\n",
       "   SizeRank   1996-04   1996-05   1996-06  ...  2017-07  2017-08  2017-09  \\\n",
       "0         1  334200.0  335400.0  336500.0  ...  1005500  1007500  1007800   \n",
       "1         2  235700.0  236900.0  236700.0  ...   308000   310000   312500   \n",
       "2         3  210400.0  212200.0  212200.0  ...   321000   320600   320200   \n",
       "3         4  498100.0  500900.0  503100.0  ...  1289800  1287700  1287400   \n",
       "4         5   77300.0   77300.0   77300.0  ...   119100   119400   120000   \n",
       "\n",
       "   2017-10  2017-11  2017-12  2018-01  2018-02  2018-03  2018-04  \n",
       "0  1009600  1013300  1018700  1024400  1030700  1033800  1030600  \n",
       "1   314100   315000   316600   318100   319600   321100   321800  \n",
       "2   320400   320800   321200   321200   323000   326900   329900  \n",
       "3  1291500  1296600  1299000  1302700  1306400  1308500  1307000  \n",
       "4   120300   120300   120300   120300   120500   121000   121500  \n",
       "\n",
       "[5 rows x 272 columns]"
      ]
     },
     "execution_count": 2,
     "metadata": {},
     "output_type": "execute_result"
    }
   ],
   "source": [
    "# Bring data in, assess the information.\n",
    "df= pd.read_csv('zillow_data.csv')\n",
    "df.info()\n",
    "df.head()"
   ]
  },
  {
   "cell_type": "code",
   "execution_count": 3,
   "metadata": {},
   "outputs": [
    {
     "data": {
      "text/plain": [
       "RegionID         0\n",
       "RegionName       0\n",
       "City             0\n",
       "State            0\n",
       "Metro         1043\n",
       "              ... \n",
       "2017-12          0\n",
       "2018-01          0\n",
       "2018-02          0\n",
       "2018-03          0\n",
       "2018-04          0\n",
       "Length: 272, dtype: int64"
      ]
     },
     "execution_count": 3,
     "metadata": {},
     "output_type": "execute_result"
    }
   ],
   "source": [
    "# Check for null values.  The column \"Metro\" has 1043 null values.\n",
    "df.isna().sum()"
   ]
  },
  {
   "cell_type": "code",
   "execution_count": 4,
   "metadata": {
    "scrolled": true
   },
   "outputs": [
    {
     "data": {
      "text/plain": [
       "60657    1\n",
       "7764     1\n",
       "1226     1\n",
       "13624    1\n",
       "45335    1\n",
       "        ..\n",
       "22556    1\n",
       "33761    1\n",
       "38242    1\n",
       "33602    1\n",
       "89155    1\n",
       "Name: RegionName, Length: 14723, dtype: int64"
      ]
     },
     "execution_count": 4,
     "metadata": {},
     "output_type": "execute_result"
    }
   ],
   "source": [
    "# RegionName is zipcodes.  Some of the zipcodes have only 4 numbers.  We will correct this.\n",
    "df.RegionName.value_counts()"
   ]
  },
  {
   "cell_type": "code",
   "execution_count": 5,
   "metadata": {},
   "outputs": [],
   "source": [
    "df.RegionName = df.RegionName.astype('string')"
   ]
  },
  {
   "cell_type": "code",
   "execution_count": 6,
   "metadata": {},
   "outputs": [
    {
     "data": {
      "text/plain": [
       "14718    01338\n",
       "14719    03293\n",
       "14720    40404\n",
       "14721    81225\n",
       "14722    89155\n",
       "Name: Zipcode, dtype: string"
      ]
     },
     "execution_count": 6,
     "metadata": {},
     "output_type": "execute_result"
    }
   ],
   "source": [
    "# https://www.skytowner.com/explore/adding_leading_zeros_to_strings_of_a_column_in_pandas\n",
    "df.rename(columns={'RegionName': 'Zipcode'}, inplace=True)\n",
    "df['Zipcode'] = df['Zipcode'].str.zfill(5)\n",
    "df['Zipcode'].tail(5)"
   ]
  },
  {
   "cell_type": "code",
   "execution_count": 7,
   "metadata": {},
   "outputs": [
    {
     "data": {
      "text/html": [
       "<div>\n",
       "<style scoped>\n",
       "    .dataframe tbody tr th:only-of-type {\n",
       "        vertical-align: middle;\n",
       "    }\n",
       "\n",
       "    .dataframe tbody tr th {\n",
       "        vertical-align: top;\n",
       "    }\n",
       "\n",
       "    .dataframe thead th {\n",
       "        text-align: right;\n",
       "    }\n",
       "</style>\n",
       "<table border=\"1\" class=\"dataframe\">\n",
       "  <thead>\n",
       "    <tr style=\"text-align: right;\">\n",
       "      <th></th>\n",
       "      <th>Zipcode</th>\n",
       "      <th>City</th>\n",
       "      <th>State</th>\n",
       "    </tr>\n",
       "  </thead>\n",
       "  <tbody>\n",
       "    <tr>\n",
       "      <th>5850</th>\n",
       "      <td>01001</td>\n",
       "      <td>Agawam</td>\n",
       "      <td>MA</td>\n",
       "    </tr>\n",
       "    <tr>\n",
       "      <th>4199</th>\n",
       "      <td>01002</td>\n",
       "      <td>Amherst</td>\n",
       "      <td>MA</td>\n",
       "    </tr>\n",
       "    <tr>\n",
       "      <th>11213</th>\n",
       "      <td>01005</td>\n",
       "      <td>Barre</td>\n",
       "      <td>MA</td>\n",
       "    </tr>\n",
       "    <tr>\n",
       "      <th>6850</th>\n",
       "      <td>01007</td>\n",
       "      <td>Belchertown</td>\n",
       "      <td>MA</td>\n",
       "    </tr>\n",
       "    <tr>\n",
       "      <th>14547</th>\n",
       "      <td>01008</td>\n",
       "      <td>Blandford</td>\n",
       "      <td>MA</td>\n",
       "    </tr>\n",
       "    <tr>\n",
       "      <th>...</th>\n",
       "      <td>...</td>\n",
       "      <td>...</td>\n",
       "      <td>...</td>\n",
       "    </tr>\n",
       "    <tr>\n",
       "      <th>4526</th>\n",
       "      <td>99709</td>\n",
       "      <td>Fairbanks</td>\n",
       "      <td>AK</td>\n",
       "    </tr>\n",
       "    <tr>\n",
       "      <th>8438</th>\n",
       "      <td>99712</td>\n",
       "      <td>Fairbanks</td>\n",
       "      <td>AK</td>\n",
       "    </tr>\n",
       "    <tr>\n",
       "      <th>4106</th>\n",
       "      <td>99801</td>\n",
       "      <td>Juneau</td>\n",
       "      <td>AK</td>\n",
       "    </tr>\n",
       "    <tr>\n",
       "      <th>8658</th>\n",
       "      <td>99835</td>\n",
       "      <td>Sitka</td>\n",
       "      <td>AK</td>\n",
       "    </tr>\n",
       "    <tr>\n",
       "      <th>7293</th>\n",
       "      <td>99901</td>\n",
       "      <td>Ketchikan</td>\n",
       "      <td>AK</td>\n",
       "    </tr>\n",
       "  </tbody>\n",
       "</table>\n",
       "<p>14723 rows × 3 columns</p>\n",
       "</div>"
      ],
      "text/plain": [
       "      Zipcode         City State\n",
       "5850    01001       Agawam    MA\n",
       "4199    01002      Amherst    MA\n",
       "11213   01005        Barre    MA\n",
       "6850    01007  Belchertown    MA\n",
       "14547   01008    Blandford    MA\n",
       "...       ...          ...   ...\n",
       "4526    99709    Fairbanks    AK\n",
       "8438    99712    Fairbanks    AK\n",
       "4106    99801       Juneau    AK\n",
       "8658    99835        Sitka    AK\n",
       "7293    99901    Ketchikan    AK\n",
       "\n",
       "[14723 rows x 3 columns]"
      ]
     },
     "execution_count": 7,
     "metadata": {},
     "output_type": "execute_result"
    }
   ],
   "source": [
    "# Verify that the zip codes are real.  The 01001 zip code is for Agawam, MA.\n",
    "df[['Zipcode','City', 'State']].sort_values(by=['Zipcode'])"
   ]
  },
  {
   "cell_type": "code",
   "execution_count": 8,
   "metadata": {
    "scrolled": true
   },
   "outputs": [
    {
     "data": {
      "text/html": [
       "<div>\n",
       "<style scoped>\n",
       "    .dataframe tbody tr th:only-of-type {\n",
       "        vertical-align: middle;\n",
       "    }\n",
       "\n",
       "    .dataframe tbody tr th {\n",
       "        vertical-align: top;\n",
       "    }\n",
       "\n",
       "    .dataframe thead th {\n",
       "        text-align: right;\n",
       "    }\n",
       "</style>\n",
       "<table border=\"1\" class=\"dataframe\">\n",
       "  <thead>\n",
       "    <tr style=\"text-align: right;\">\n",
       "      <th></th>\n",
       "      <th>RegionID</th>\n",
       "      <th>Zipcode</th>\n",
       "      <th>City</th>\n",
       "      <th>State</th>\n",
       "      <th>Metro</th>\n",
       "      <th>CountyName</th>\n",
       "      <th>SizeRank</th>\n",
       "      <th>1996-04</th>\n",
       "      <th>1996-05</th>\n",
       "      <th>1996-06</th>\n",
       "      <th>...</th>\n",
       "      <th>2017-07</th>\n",
       "      <th>2017-08</th>\n",
       "      <th>2017-09</th>\n",
       "      <th>2017-10</th>\n",
       "      <th>2017-11</th>\n",
       "      <th>2017-12</th>\n",
       "      <th>2018-01</th>\n",
       "      <th>2018-02</th>\n",
       "      <th>2018-03</th>\n",
       "      <th>2018-04</th>\n",
       "    </tr>\n",
       "  </thead>\n",
       "  <tbody>\n",
       "    <tr>\n",
       "      <th>0</th>\n",
       "      <td>84654</td>\n",
       "      <td>60657</td>\n",
       "      <td>Chicago</td>\n",
       "      <td>IL</td>\n",
       "      <td>Chicago</td>\n",
       "      <td>Cook</td>\n",
       "      <td>1</td>\n",
       "      <td>334200.0</td>\n",
       "      <td>335400.0</td>\n",
       "      <td>336500.0</td>\n",
       "      <td>...</td>\n",
       "      <td>1005500</td>\n",
       "      <td>1007500</td>\n",
       "      <td>1007800</td>\n",
       "      <td>1009600</td>\n",
       "      <td>1013300</td>\n",
       "      <td>1018700</td>\n",
       "      <td>1024400</td>\n",
       "      <td>1030700</td>\n",
       "      <td>1033800</td>\n",
       "      <td>1030600</td>\n",
       "    </tr>\n",
       "    <tr>\n",
       "      <th>1</th>\n",
       "      <td>90668</td>\n",
       "      <td>75070</td>\n",
       "      <td>McKinney</td>\n",
       "      <td>TX</td>\n",
       "      <td>Dallas-Fort Worth</td>\n",
       "      <td>Collin</td>\n",
       "      <td>2</td>\n",
       "      <td>235700.0</td>\n",
       "      <td>236900.0</td>\n",
       "      <td>236700.0</td>\n",
       "      <td>...</td>\n",
       "      <td>308000</td>\n",
       "      <td>310000</td>\n",
       "      <td>312500</td>\n",
       "      <td>314100</td>\n",
       "      <td>315000</td>\n",
       "      <td>316600</td>\n",
       "      <td>318100</td>\n",
       "      <td>319600</td>\n",
       "      <td>321100</td>\n",
       "      <td>321800</td>\n",
       "    </tr>\n",
       "    <tr>\n",
       "      <th>2</th>\n",
       "      <td>91982</td>\n",
       "      <td>77494</td>\n",
       "      <td>Katy</td>\n",
       "      <td>TX</td>\n",
       "      <td>Houston</td>\n",
       "      <td>Harris</td>\n",
       "      <td>3</td>\n",
       "      <td>210400.0</td>\n",
       "      <td>212200.0</td>\n",
       "      <td>212200.0</td>\n",
       "      <td>...</td>\n",
       "      <td>321000</td>\n",
       "      <td>320600</td>\n",
       "      <td>320200</td>\n",
       "      <td>320400</td>\n",
       "      <td>320800</td>\n",
       "      <td>321200</td>\n",
       "      <td>321200</td>\n",
       "      <td>323000</td>\n",
       "      <td>326900</td>\n",
       "      <td>329900</td>\n",
       "    </tr>\n",
       "    <tr>\n",
       "      <th>3</th>\n",
       "      <td>84616</td>\n",
       "      <td>60614</td>\n",
       "      <td>Chicago</td>\n",
       "      <td>IL</td>\n",
       "      <td>Chicago</td>\n",
       "      <td>Cook</td>\n",
       "      <td>4</td>\n",
       "      <td>498100.0</td>\n",
       "      <td>500900.0</td>\n",
       "      <td>503100.0</td>\n",
       "      <td>...</td>\n",
       "      <td>1289800</td>\n",
       "      <td>1287700</td>\n",
       "      <td>1287400</td>\n",
       "      <td>1291500</td>\n",
       "      <td>1296600</td>\n",
       "      <td>1299000</td>\n",
       "      <td>1302700</td>\n",
       "      <td>1306400</td>\n",
       "      <td>1308500</td>\n",
       "      <td>1307000</td>\n",
       "    </tr>\n",
       "    <tr>\n",
       "      <th>4</th>\n",
       "      <td>93144</td>\n",
       "      <td>79936</td>\n",
       "      <td>El Paso</td>\n",
       "      <td>TX</td>\n",
       "      <td>El Paso</td>\n",
       "      <td>El Paso</td>\n",
       "      <td>5</td>\n",
       "      <td>77300.0</td>\n",
       "      <td>77300.0</td>\n",
       "      <td>77300.0</td>\n",
       "      <td>...</td>\n",
       "      <td>119100</td>\n",
       "      <td>119400</td>\n",
       "      <td>120000</td>\n",
       "      <td>120300</td>\n",
       "      <td>120300</td>\n",
       "      <td>120300</td>\n",
       "      <td>120300</td>\n",
       "      <td>120500</td>\n",
       "      <td>121000</td>\n",
       "      <td>121500</td>\n",
       "    </tr>\n",
       "  </tbody>\n",
       "</table>\n",
       "<p>5 rows × 272 columns</p>\n",
       "</div>"
      ],
      "text/plain": [
       "   RegionID Zipcode      City State              Metro CountyName  SizeRank  \\\n",
       "0     84654   60657   Chicago    IL            Chicago       Cook         1   \n",
       "1     90668   75070  McKinney    TX  Dallas-Fort Worth     Collin         2   \n",
       "2     91982   77494      Katy    TX            Houston     Harris         3   \n",
       "3     84616   60614   Chicago    IL            Chicago       Cook         4   \n",
       "4     93144   79936   El Paso    TX            El Paso    El Paso         5   \n",
       "\n",
       "    1996-04   1996-05   1996-06  ...  2017-07  2017-08  2017-09  2017-10  \\\n",
       "0  334200.0  335400.0  336500.0  ...  1005500  1007500  1007800  1009600   \n",
       "1  235700.0  236900.0  236700.0  ...   308000   310000   312500   314100   \n",
       "2  210400.0  212200.0  212200.0  ...   321000   320600   320200   320400   \n",
       "3  498100.0  500900.0  503100.0  ...  1289800  1287700  1287400  1291500   \n",
       "4   77300.0   77300.0   77300.0  ...   119100   119400   120000   120300   \n",
       "\n",
       "   2017-11  2017-12  2018-01  2018-02  2018-03  2018-04  \n",
       "0  1013300  1018700  1024400  1030700  1033800  1030600  \n",
       "1   315000   316600   318100   319600   321100   321800  \n",
       "2   320800   321200   321200   323000   326900   329900  \n",
       "3  1296600  1299000  1302700  1306400  1308500  1307000  \n",
       "4   120300   120300   120300   120500   121000   121500  \n",
       "\n",
       "[5 rows x 272 columns]"
      ]
     },
     "execution_count": 8,
     "metadata": {},
     "output_type": "execute_result"
    }
   ],
   "source": [
    "df.head()"
   ]
  },
  {
   "cell_type": "markdown",
   "metadata": {},
   "source": [
    "## Data Preparation\n",
    "\n",
    "##### Since Bluestone is interested in Utah, we will prepare the data accordingly.  The approach will be by county, then zipcode."
   ]
  },
  {
   "cell_type": "code",
   "execution_count": 9,
   "metadata": {},
   "outputs": [
    {
     "name": "stdout",
     "output_type": "stream",
     "text": [
      "<class 'pandas.core.frame.DataFrame'>\n",
      "Int64Index: 121 entries, 525 to 14714\n",
      "Columns: 272 entries, RegionID to 2018-04\n",
      "dtypes: float64(219), int64(48), object(4), string(1)\n",
      "memory usage: 258.1+ KB\n"
     ]
    },
    {
     "data": {
      "text/html": [
       "<div>\n",
       "<style scoped>\n",
       "    .dataframe tbody tr th:only-of-type {\n",
       "        vertical-align: middle;\n",
       "    }\n",
       "\n",
       "    .dataframe tbody tr th {\n",
       "        vertical-align: top;\n",
       "    }\n",
       "\n",
       "    .dataframe thead th {\n",
       "        text-align: right;\n",
       "    }\n",
       "</style>\n",
       "<table border=\"1\" class=\"dataframe\">\n",
       "  <thead>\n",
       "    <tr style=\"text-align: right;\">\n",
       "      <th></th>\n",
       "      <th>RegionID</th>\n",
       "      <th>Zipcode</th>\n",
       "      <th>City</th>\n",
       "      <th>State</th>\n",
       "      <th>Metro</th>\n",
       "      <th>CountyName</th>\n",
       "      <th>SizeRank</th>\n",
       "      <th>1996-04</th>\n",
       "      <th>1996-05</th>\n",
       "      <th>1996-06</th>\n",
       "      <th>...</th>\n",
       "      <th>2017-07</th>\n",
       "      <th>2017-08</th>\n",
       "      <th>2017-09</th>\n",
       "      <th>2017-10</th>\n",
       "      <th>2017-11</th>\n",
       "      <th>2017-12</th>\n",
       "      <th>2018-01</th>\n",
       "      <th>2018-02</th>\n",
       "      <th>2018-03</th>\n",
       "      <th>2018-04</th>\n",
       "    </tr>\n",
       "  </thead>\n",
       "  <tbody>\n",
       "    <tr>\n",
       "      <th>525</th>\n",
       "      <td>94562</td>\n",
       "      <td>84404</td>\n",
       "      <td>Ogden</td>\n",
       "      <td>UT</td>\n",
       "      <td>Ogden</td>\n",
       "      <td>Weber</td>\n",
       "      <td>526</td>\n",
       "      <td>107200.0</td>\n",
       "      <td>108200.0</td>\n",
       "      <td>109100.0</td>\n",
       "      <td>...</td>\n",
       "      <td>202900</td>\n",
       "      <td>204000</td>\n",
       "      <td>205300</td>\n",
       "      <td>206500</td>\n",
       "      <td>207800</td>\n",
       "      <td>209200</td>\n",
       "      <td>210700</td>\n",
       "      <td>213400</td>\n",
       "      <td>217000</td>\n",
       "      <td>219600</td>\n",
       "    </tr>\n",
       "    <tr>\n",
       "      <th>637</th>\n",
       "      <td>94384</td>\n",
       "      <td>84015</td>\n",
       "      <td>Clearfield</td>\n",
       "      <td>UT</td>\n",
       "      <td>Ogden</td>\n",
       "      <td>Davis</td>\n",
       "      <td>638</td>\n",
       "      <td>120600.0</td>\n",
       "      <td>121200.0</td>\n",
       "      <td>121800.0</td>\n",
       "      <td>...</td>\n",
       "      <td>217500</td>\n",
       "      <td>220400</td>\n",
       "      <td>222300</td>\n",
       "      <td>223900</td>\n",
       "      <td>226200</td>\n",
       "      <td>229000</td>\n",
       "      <td>230800</td>\n",
       "      <td>234900</td>\n",
       "      <td>239600</td>\n",
       "      <td>241500</td>\n",
       "    </tr>\n",
       "    <tr>\n",
       "      <th>1088</th>\n",
       "      <td>94410</td>\n",
       "      <td>84043</td>\n",
       "      <td>Lehi</td>\n",
       "      <td>UT</td>\n",
       "      <td>Provo</td>\n",
       "      <td>Utah</td>\n",
       "      <td>1089</td>\n",
       "      <td>174300.0</td>\n",
       "      <td>174800.0</td>\n",
       "      <td>175000.0</td>\n",
       "      <td>...</td>\n",
       "      <td>336200</td>\n",
       "      <td>338900</td>\n",
       "      <td>339700</td>\n",
       "      <td>340000</td>\n",
       "      <td>341900</td>\n",
       "      <td>344700</td>\n",
       "      <td>347300</td>\n",
       "      <td>349200</td>\n",
       "      <td>351900</td>\n",
       "      <td>354900</td>\n",
       "    </tr>\n",
       "    <tr>\n",
       "      <th>1231</th>\n",
       "      <td>94408</td>\n",
       "      <td>84041</td>\n",
       "      <td>Layton</td>\n",
       "      <td>UT</td>\n",
       "      <td>Ogden</td>\n",
       "      <td>Davis</td>\n",
       "      <td>1232</td>\n",
       "      <td>130500.0</td>\n",
       "      <td>131000.0</td>\n",
       "      <td>131500.0</td>\n",
       "      <td>...</td>\n",
       "      <td>235100</td>\n",
       "      <td>236000</td>\n",
       "      <td>236800</td>\n",
       "      <td>238600</td>\n",
       "      <td>241000</td>\n",
       "      <td>243900</td>\n",
       "      <td>246200</td>\n",
       "      <td>250700</td>\n",
       "      <td>255200</td>\n",
       "      <td>256300</td>\n",
       "    </tr>\n",
       "    <tr>\n",
       "      <th>1419</th>\n",
       "      <td>94479</td>\n",
       "      <td>84119</td>\n",
       "      <td>West Valley City</td>\n",
       "      <td>UT</td>\n",
       "      <td>Salt Lake City</td>\n",
       "      <td>Salt Lake</td>\n",
       "      <td>1420</td>\n",
       "      <td>118300.0</td>\n",
       "      <td>118200.0</td>\n",
       "      <td>118300.0</td>\n",
       "      <td>...</td>\n",
       "      <td>236800</td>\n",
       "      <td>242100</td>\n",
       "      <td>246900</td>\n",
       "      <td>249800</td>\n",
       "      <td>251900</td>\n",
       "      <td>254100</td>\n",
       "      <td>256000</td>\n",
       "      <td>258600</td>\n",
       "      <td>261400</td>\n",
       "      <td>262700</td>\n",
       "    </tr>\n",
       "  </tbody>\n",
       "</table>\n",
       "<p>5 rows × 272 columns</p>\n",
       "</div>"
      ],
      "text/plain": [
       "      RegionID Zipcode              City State           Metro CountyName  \\\n",
       "525      94562   84404             Ogden    UT           Ogden      Weber   \n",
       "637      94384   84015        Clearfield    UT           Ogden      Davis   \n",
       "1088     94410   84043              Lehi    UT           Provo       Utah   \n",
       "1231     94408   84041            Layton    UT           Ogden      Davis   \n",
       "1419     94479   84119  West Valley City    UT  Salt Lake City  Salt Lake   \n",
       "\n",
       "      SizeRank   1996-04   1996-05   1996-06  ...  2017-07  2017-08  2017-09  \\\n",
       "525        526  107200.0  108200.0  109100.0  ...   202900   204000   205300   \n",
       "637        638  120600.0  121200.0  121800.0  ...   217500   220400   222300   \n",
       "1088      1089  174300.0  174800.0  175000.0  ...   336200   338900   339700   \n",
       "1231      1232  130500.0  131000.0  131500.0  ...   235100   236000   236800   \n",
       "1419      1420  118300.0  118200.0  118300.0  ...   236800   242100   246900   \n",
       "\n",
       "      2017-10  2017-11  2017-12  2018-01  2018-02  2018-03  2018-04  \n",
       "525    206500   207800   209200   210700   213400   217000   219600  \n",
       "637    223900   226200   229000   230800   234900   239600   241500  \n",
       "1088   340000   341900   344700   347300   349200   351900   354900  \n",
       "1231   238600   241000   243900   246200   250700   255200   256300  \n",
       "1419   249800   251900   254100   256000   258600   261400   262700  \n",
       "\n",
       "[5 rows x 272 columns]"
      ]
     },
     "execution_count": 9,
     "metadata": {},
     "output_type": "execute_result"
    }
   ],
   "source": [
    "utah =  df[df['State']=='UT']\n",
    "utah.info()\n",
    "utah.head()"
   ]
  },
  {
   "cell_type": "code",
   "execution_count": 10,
   "metadata": {},
   "outputs": [],
   "source": [
    "## Create a 5 year ROI.\n",
    "utah['ROI_5yr'] = round((utah['2018-04'] - utah['2013-01'])/ utah['2013-01'],4)\n",
    "## Create a 3 year ROI.\n",
    "utah['ROI_3yr'] = round((utah['2018-04'] - utah['2015-01'])/ utah['2015-01'],4)"
   ]
  },
  {
   "cell_type": "code",
   "execution_count": 11,
   "metadata": {},
   "outputs": [
    {
     "data": {
      "text/plain": [
       "0"
      ]
     },
     "execution_count": 11,
     "metadata": {},
     "output_type": "execute_result"
    }
   ],
   "source": [
    "utah['ROI_3yr'].isna().sum()"
   ]
  },
  {
   "cell_type": "code",
   "execution_count": 12,
   "metadata": {},
   "outputs": [
    {
     "data": {
      "text/plain": [
       "0"
      ]
     },
     "execution_count": 12,
     "metadata": {},
     "output_type": "execute_result"
    }
   ],
   "source": [
    "utah['ROI_5yr'].isna().sum()"
   ]
  },
  {
   "cell_type": "code",
   "execution_count": 13,
   "metadata": {},
   "outputs": [
    {
     "data": {
      "text/html": [
       "<div>\n",
       "<style scoped>\n",
       "    .dataframe tbody tr th:only-of-type {\n",
       "        vertical-align: middle;\n",
       "    }\n",
       "\n",
       "    .dataframe tbody tr th {\n",
       "        vertical-align: top;\n",
       "    }\n",
       "\n",
       "    .dataframe thead th {\n",
       "        text-align: right;\n",
       "    }\n",
       "</style>\n",
       "<table border=\"1\" class=\"dataframe\">\n",
       "  <thead>\n",
       "    <tr style=\"text-align: right;\">\n",
       "      <th></th>\n",
       "      <th>Zipcode</th>\n",
       "      <th>CountyName</th>\n",
       "      <th>State</th>\n",
       "      <th>ROI_5yr</th>\n",
       "    </tr>\n",
       "  </thead>\n",
       "  <tbody>\n",
       "    <tr>\n",
       "      <th>6557</th>\n",
       "      <td>84111</td>\n",
       "      <td>Salt Lake</td>\n",
       "      <td>UT</td>\n",
       "      <td>0.8112</td>\n",
       "    </tr>\n",
       "    <tr>\n",
       "      <th>9058</th>\n",
       "      <td>84101</td>\n",
       "      <td>Salt Lake</td>\n",
       "      <td>UT</td>\n",
       "      <td>0.7784</td>\n",
       "    </tr>\n",
       "    <tr>\n",
       "      <th>6211</th>\n",
       "      <td>84104</td>\n",
       "      <td>Salt Lake</td>\n",
       "      <td>UT</td>\n",
       "      <td>0.7536</td>\n",
       "    </tr>\n",
       "    <tr>\n",
       "      <th>3637</th>\n",
       "      <td>84116</td>\n",
       "      <td>Salt Lake</td>\n",
       "      <td>UT</td>\n",
       "      <td>0.7383</td>\n",
       "    </tr>\n",
       "    <tr>\n",
       "      <th>5280</th>\n",
       "      <td>84044</td>\n",
       "      <td>Salt Lake</td>\n",
       "      <td>UT</td>\n",
       "      <td>0.7239</td>\n",
       "    </tr>\n",
       "  </tbody>\n",
       "</table>\n",
       "</div>"
      ],
      "text/plain": [
       "     Zipcode CountyName State  ROI_5yr\n",
       "6557   84111  Salt Lake    UT   0.8112\n",
       "9058   84101  Salt Lake    UT   0.7784\n",
       "6211   84104  Salt Lake    UT   0.7536\n",
       "3637   84116  Salt Lake    UT   0.7383\n",
       "5280   84044  Salt Lake    UT   0.7239"
      ]
     },
     "execution_count": 13,
     "metadata": {},
     "output_type": "execute_result"
    }
   ],
   "source": [
    "utah.sort_values('ROI_5yr', ascending = False).head()[['Zipcode','CountyName','State','ROI_5yr']]"
   ]
  },
  {
   "cell_type": "code",
   "execution_count": 14,
   "metadata": {
    "scrolled": true
   },
   "outputs": [
    {
     "data": {
      "text/html": [
       "<div>\n",
       "<style scoped>\n",
       "    .dataframe tbody tr th:only-of-type {\n",
       "        vertical-align: middle;\n",
       "    }\n",
       "\n",
       "    .dataframe tbody tr th {\n",
       "        vertical-align: top;\n",
       "    }\n",
       "\n",
       "    .dataframe thead th {\n",
       "        text-align: right;\n",
       "    }\n",
       "</style>\n",
       "<table border=\"1\" class=\"dataframe\">\n",
       "  <thead>\n",
       "    <tr style=\"text-align: right;\">\n",
       "      <th></th>\n",
       "      <th>Zipcode</th>\n",
       "      <th>CountyName</th>\n",
       "      <th>State</th>\n",
       "      <th>ROI_3yr</th>\n",
       "    </tr>\n",
       "  </thead>\n",
       "  <tbody>\n",
       "    <tr>\n",
       "      <th>9058</th>\n",
       "      <td>84101</td>\n",
       "      <td>Salt Lake</td>\n",
       "      <td>UT</td>\n",
       "      <td>0.6230</td>\n",
       "    </tr>\n",
       "    <tr>\n",
       "      <th>6557</th>\n",
       "      <td>84111</td>\n",
       "      <td>Salt Lake</td>\n",
       "      <td>UT</td>\n",
       "      <td>0.6040</td>\n",
       "    </tr>\n",
       "    <tr>\n",
       "      <th>3637</th>\n",
       "      <td>84116</td>\n",
       "      <td>Salt Lake</td>\n",
       "      <td>UT</td>\n",
       "      <td>0.5812</td>\n",
       "    </tr>\n",
       "    <tr>\n",
       "      <th>6211</th>\n",
       "      <td>84104</td>\n",
       "      <td>Salt Lake</td>\n",
       "      <td>UT</td>\n",
       "      <td>0.5719</td>\n",
       "    </tr>\n",
       "    <tr>\n",
       "      <th>14411</th>\n",
       "      <td>84757</td>\n",
       "      <td>Washington</td>\n",
       "      <td>UT</td>\n",
       "      <td>0.5656</td>\n",
       "    </tr>\n",
       "  </tbody>\n",
       "</table>\n",
       "</div>"
      ],
      "text/plain": [
       "      Zipcode  CountyName State  ROI_3yr\n",
       "9058    84101   Salt Lake    UT   0.6230\n",
       "6557    84111   Salt Lake    UT   0.6040\n",
       "3637    84116   Salt Lake    UT   0.5812\n",
       "6211    84104   Salt Lake    UT   0.5719\n",
       "14411   84757  Washington    UT   0.5656"
      ]
     },
     "execution_count": 14,
     "metadata": {},
     "output_type": "execute_result"
    }
   ],
   "source": [
    "utah.sort_values('ROI_3yr', ascending = False).head()[['Zipcode','CountyName','State','ROI_3yr']]"
   ]
  },
  {
   "cell_type": "code",
   "execution_count": 15,
   "metadata": {},
   "outputs": [
    {
     "data": {
      "text/html": [
       "<div>\n",
       "<style scoped>\n",
       "    .dataframe tbody tr th:only-of-type {\n",
       "        vertical-align: middle;\n",
       "    }\n",
       "\n",
       "    .dataframe tbody tr th {\n",
       "        vertical-align: top;\n",
       "    }\n",
       "\n",
       "    .dataframe thead th {\n",
       "        text-align: right;\n",
       "    }\n",
       "</style>\n",
       "<table border=\"1\" class=\"dataframe\">\n",
       "  <thead>\n",
       "    <tr style=\"text-align: right;\">\n",
       "      <th></th>\n",
       "      <th>Zipcode</th>\n",
       "      <th>State</th>\n",
       "      <th>CountyName</th>\n",
       "      <th>SizeRank</th>\n",
       "      <th>1996-04</th>\n",
       "      <th>1996-05</th>\n",
       "      <th>1996-06</th>\n",
       "      <th>1996-07</th>\n",
       "      <th>1996-08</th>\n",
       "      <th>1996-09</th>\n",
       "      <th>...</th>\n",
       "      <th>2017-09</th>\n",
       "      <th>2017-10</th>\n",
       "      <th>2017-11</th>\n",
       "      <th>2017-12</th>\n",
       "      <th>2018-01</th>\n",
       "      <th>2018-02</th>\n",
       "      <th>2018-03</th>\n",
       "      <th>2018-04</th>\n",
       "      <th>ROI_5yr</th>\n",
       "      <th>ROI_3yr</th>\n",
       "    </tr>\n",
       "  </thead>\n",
       "  <tbody>\n",
       "    <tr>\n",
       "      <th>525</th>\n",
       "      <td>84404</td>\n",
       "      <td>UT</td>\n",
       "      <td>Weber</td>\n",
       "      <td>526</td>\n",
       "      <td>107200.0</td>\n",
       "      <td>108200.0</td>\n",
       "      <td>109100.0</td>\n",
       "      <td>109900.0</td>\n",
       "      <td>110700.0</td>\n",
       "      <td>111400.0</td>\n",
       "      <td>...</td>\n",
       "      <td>205300</td>\n",
       "      <td>206500</td>\n",
       "      <td>207800</td>\n",
       "      <td>209200</td>\n",
       "      <td>210700</td>\n",
       "      <td>213400</td>\n",
       "      <td>217000</td>\n",
       "      <td>219600</td>\n",
       "      <td>0.5093</td>\n",
       "      <td>0.4159</td>\n",
       "    </tr>\n",
       "    <tr>\n",
       "      <th>637</th>\n",
       "      <td>84015</td>\n",
       "      <td>UT</td>\n",
       "      <td>Davis</td>\n",
       "      <td>638</td>\n",
       "      <td>120600.0</td>\n",
       "      <td>121200.0</td>\n",
       "      <td>121800.0</td>\n",
       "      <td>122500.0</td>\n",
       "      <td>123100.0</td>\n",
       "      <td>123600.0</td>\n",
       "      <td>...</td>\n",
       "      <td>222300</td>\n",
       "      <td>223900</td>\n",
       "      <td>226200</td>\n",
       "      <td>229000</td>\n",
       "      <td>230800</td>\n",
       "      <td>234900</td>\n",
       "      <td>239600</td>\n",
       "      <td>241500</td>\n",
       "      <td>0.4672</td>\n",
       "      <td>0.3667</td>\n",
       "    </tr>\n",
       "    <tr>\n",
       "      <th>1088</th>\n",
       "      <td>84043</td>\n",
       "      <td>UT</td>\n",
       "      <td>Utah</td>\n",
       "      <td>1089</td>\n",
       "      <td>174300.0</td>\n",
       "      <td>174800.0</td>\n",
       "      <td>175000.0</td>\n",
       "      <td>175000.0</td>\n",
       "      <td>174600.0</td>\n",
       "      <td>173900.0</td>\n",
       "      <td>...</td>\n",
       "      <td>339700</td>\n",
       "      <td>340000</td>\n",
       "      <td>341900</td>\n",
       "      <td>344700</td>\n",
       "      <td>347300</td>\n",
       "      <td>349200</td>\n",
       "      <td>351900</td>\n",
       "      <td>354900</td>\n",
       "      <td>0.4575</td>\n",
       "      <td>0.2789</td>\n",
       "    </tr>\n",
       "    <tr>\n",
       "      <th>1231</th>\n",
       "      <td>84041</td>\n",
       "      <td>UT</td>\n",
       "      <td>Davis</td>\n",
       "      <td>1232</td>\n",
       "      <td>130500.0</td>\n",
       "      <td>131000.0</td>\n",
       "      <td>131500.0</td>\n",
       "      <td>132000.0</td>\n",
       "      <td>132500.0</td>\n",
       "      <td>133000.0</td>\n",
       "      <td>...</td>\n",
       "      <td>236800</td>\n",
       "      <td>238600</td>\n",
       "      <td>241000</td>\n",
       "      <td>243900</td>\n",
       "      <td>246200</td>\n",
       "      <td>250700</td>\n",
       "      <td>255200</td>\n",
       "      <td>256300</td>\n",
       "      <td>0.4407</td>\n",
       "      <td>0.3321</td>\n",
       "    </tr>\n",
       "    <tr>\n",
       "      <th>1419</th>\n",
       "      <td>84119</td>\n",
       "      <td>UT</td>\n",
       "      <td>Salt Lake</td>\n",
       "      <td>1420</td>\n",
       "      <td>118300.0</td>\n",
       "      <td>118200.0</td>\n",
       "      <td>118300.0</td>\n",
       "      <td>118400.0</td>\n",
       "      <td>118600.0</td>\n",
       "      <td>118800.0</td>\n",
       "      <td>...</td>\n",
       "      <td>246900</td>\n",
       "      <td>249800</td>\n",
       "      <td>251900</td>\n",
       "      <td>254100</td>\n",
       "      <td>256000</td>\n",
       "      <td>258600</td>\n",
       "      <td>261400</td>\n",
       "      <td>262700</td>\n",
       "      <td>0.6553</td>\n",
       "      <td>0.4960</td>\n",
       "    </tr>\n",
       "  </tbody>\n",
       "</table>\n",
       "<p>5 rows × 271 columns</p>\n",
       "</div>"
      ],
      "text/plain": [
       "     Zipcode State CountyName  SizeRank   1996-04   1996-05   1996-06  \\\n",
       "525    84404    UT      Weber       526  107200.0  108200.0  109100.0   \n",
       "637    84015    UT      Davis       638  120600.0  121200.0  121800.0   \n",
       "1088   84043    UT       Utah      1089  174300.0  174800.0  175000.0   \n",
       "1231   84041    UT      Davis      1232  130500.0  131000.0  131500.0   \n",
       "1419   84119    UT  Salt Lake      1420  118300.0  118200.0  118300.0   \n",
       "\n",
       "       1996-07   1996-08   1996-09  ...  2017-09  2017-10  2017-11  2017-12  \\\n",
       "525   109900.0  110700.0  111400.0  ...   205300   206500   207800   209200   \n",
       "637   122500.0  123100.0  123600.0  ...   222300   223900   226200   229000   \n",
       "1088  175000.0  174600.0  173900.0  ...   339700   340000   341900   344700   \n",
       "1231  132000.0  132500.0  133000.0  ...   236800   238600   241000   243900   \n",
       "1419  118400.0  118600.0  118800.0  ...   246900   249800   251900   254100   \n",
       "\n",
       "      2018-01  2018-02  2018-03  2018-04  ROI_5yr  ROI_3yr  \n",
       "525    210700   213400   217000   219600   0.5093   0.4159  \n",
       "637    230800   234900   239600   241500   0.4672   0.3667  \n",
       "1088   347300   349200   351900   354900   0.4575   0.2789  \n",
       "1231   246200   250700   255200   256300   0.4407   0.3321  \n",
       "1419   256000   258600   261400   262700   0.6553   0.4960  \n",
       "\n",
       "[5 rows x 271 columns]"
      ]
     },
     "execution_count": 15,
     "metadata": {},
     "output_type": "execute_result"
    }
   ],
   "source": [
    "# The time series does not require these columns.\n",
    "utah.drop(['RegionID', 'City', 'Metro'], axis=1, inplace=True)\n",
    "utah.head()"
   ]
  },
  {
   "cell_type": "code",
   "execution_count": 16,
   "metadata": {},
   "outputs": [],
   "source": [
    "# Function taken from starter notebook.\n",
    "def melt_data(df):\n",
    "    melted = pd.melt(df, id_vars=['Zipcode', 'State', 'CountyName', 'SizeRank', 'ROI_5yr', 'ROI_3yr'], \n",
    "                     var_name='Date')\n",
    "    melted['Date'] = pd.to_datetime(melted['Date'], infer_datetime_format=True)\n",
    "    melted = melted.dropna(subset=['value'])\n",
    "    return melted"
   ]
  },
  {
   "cell_type": "code",
   "execution_count": 17,
   "metadata": {},
   "outputs": [],
   "source": [
    "melted_target = melt_data(utah)"
   ]
  },
  {
   "cell_type": "code",
   "execution_count": 18,
   "metadata": {},
   "outputs": [
    {
     "data": {
      "text/html": [
       "<div>\n",
       "<style scoped>\n",
       "    .dataframe tbody tr th:only-of-type {\n",
       "        vertical-align: middle;\n",
       "    }\n",
       "\n",
       "    .dataframe tbody tr th {\n",
       "        vertical-align: top;\n",
       "    }\n",
       "\n",
       "    .dataframe thead th {\n",
       "        text-align: right;\n",
       "    }\n",
       "</style>\n",
       "<table border=\"1\" class=\"dataframe\">\n",
       "  <thead>\n",
       "    <tr style=\"text-align: right;\">\n",
       "      <th></th>\n",
       "      <th>Zipcode</th>\n",
       "      <th>State</th>\n",
       "      <th>CountyName</th>\n",
       "      <th>SizeRank</th>\n",
       "      <th>ROI_5yr</th>\n",
       "      <th>ROI_3yr</th>\n",
       "      <th>Date</th>\n",
       "      <th>value</th>\n",
       "    </tr>\n",
       "  </thead>\n",
       "  <tbody>\n",
       "    <tr>\n",
       "      <th>0</th>\n",
       "      <td>False</td>\n",
       "      <td>False</td>\n",
       "      <td>False</td>\n",
       "      <td>False</td>\n",
       "      <td>False</td>\n",
       "      <td>False</td>\n",
       "      <td>False</td>\n",
       "      <td>False</td>\n",
       "    </tr>\n",
       "    <tr>\n",
       "      <th>1</th>\n",
       "      <td>False</td>\n",
       "      <td>False</td>\n",
       "      <td>False</td>\n",
       "      <td>False</td>\n",
       "      <td>False</td>\n",
       "      <td>False</td>\n",
       "      <td>False</td>\n",
       "      <td>False</td>\n",
       "    </tr>\n",
       "    <tr>\n",
       "      <th>2</th>\n",
       "      <td>False</td>\n",
       "      <td>False</td>\n",
       "      <td>False</td>\n",
       "      <td>False</td>\n",
       "      <td>False</td>\n",
       "      <td>False</td>\n",
       "      <td>False</td>\n",
       "      <td>False</td>\n",
       "    </tr>\n",
       "    <tr>\n",
       "      <th>3</th>\n",
       "      <td>False</td>\n",
       "      <td>False</td>\n",
       "      <td>False</td>\n",
       "      <td>False</td>\n",
       "      <td>False</td>\n",
       "      <td>False</td>\n",
       "      <td>False</td>\n",
       "      <td>False</td>\n",
       "    </tr>\n",
       "    <tr>\n",
       "      <th>4</th>\n",
       "      <td>False</td>\n",
       "      <td>False</td>\n",
       "      <td>False</td>\n",
       "      <td>False</td>\n",
       "      <td>False</td>\n",
       "      <td>False</td>\n",
       "      <td>False</td>\n",
       "      <td>False</td>\n",
       "    </tr>\n",
       "    <tr>\n",
       "      <th>...</th>\n",
       "      <td>...</td>\n",
       "      <td>...</td>\n",
       "      <td>...</td>\n",
       "      <td>...</td>\n",
       "      <td>...</td>\n",
       "      <td>...</td>\n",
       "      <td>...</td>\n",
       "      <td>...</td>\n",
       "    </tr>\n",
       "    <tr>\n",
       "      <th>32060</th>\n",
       "      <td>False</td>\n",
       "      <td>False</td>\n",
       "      <td>False</td>\n",
       "      <td>False</td>\n",
       "      <td>False</td>\n",
       "      <td>False</td>\n",
       "      <td>False</td>\n",
       "      <td>False</td>\n",
       "    </tr>\n",
       "    <tr>\n",
       "      <th>32061</th>\n",
       "      <td>False</td>\n",
       "      <td>False</td>\n",
       "      <td>False</td>\n",
       "      <td>False</td>\n",
       "      <td>False</td>\n",
       "      <td>False</td>\n",
       "      <td>False</td>\n",
       "      <td>False</td>\n",
       "    </tr>\n",
       "    <tr>\n",
       "      <th>32062</th>\n",
       "      <td>False</td>\n",
       "      <td>False</td>\n",
       "      <td>False</td>\n",
       "      <td>False</td>\n",
       "      <td>False</td>\n",
       "      <td>False</td>\n",
       "      <td>False</td>\n",
       "      <td>False</td>\n",
       "    </tr>\n",
       "    <tr>\n",
       "      <th>32063</th>\n",
       "      <td>False</td>\n",
       "      <td>False</td>\n",
       "      <td>False</td>\n",
       "      <td>False</td>\n",
       "      <td>False</td>\n",
       "      <td>False</td>\n",
       "      <td>False</td>\n",
       "      <td>False</td>\n",
       "    </tr>\n",
       "    <tr>\n",
       "      <th>32064</th>\n",
       "      <td>False</td>\n",
       "      <td>False</td>\n",
       "      <td>False</td>\n",
       "      <td>False</td>\n",
       "      <td>False</td>\n",
       "      <td>False</td>\n",
       "      <td>False</td>\n",
       "      <td>False</td>\n",
       "    </tr>\n",
       "  </tbody>\n",
       "</table>\n",
       "<p>31230 rows × 8 columns</p>\n",
       "</div>"
      ],
      "text/plain": [
       "       Zipcode  State  CountyName  SizeRank  ROI_5yr  ROI_3yr   Date  value\n",
       "0        False  False       False     False    False    False  False  False\n",
       "1        False  False       False     False    False    False  False  False\n",
       "2        False  False       False     False    False    False  False  False\n",
       "3        False  False       False     False    False    False  False  False\n",
       "4        False  False       False     False    False    False  False  False\n",
       "...        ...    ...         ...       ...      ...      ...    ...    ...\n",
       "32060    False  False       False     False    False    False  False  False\n",
       "32061    False  False       False     False    False    False  False  False\n",
       "32062    False  False       False     False    False    False  False  False\n",
       "32063    False  False       False     False    False    False  False  False\n",
       "32064    False  False       False     False    False    False  False  False\n",
       "\n",
       "[31230 rows x 8 columns]"
      ]
     },
     "execution_count": 18,
     "metadata": {},
     "output_type": "execute_result"
    }
   ],
   "source": [
    "# Check for null values.\n",
    "melted_target.isna()"
   ]
  },
  {
   "cell_type": "code",
   "execution_count": 19,
   "metadata": {},
   "outputs": [],
   "source": [
    "# Make sure the data type of the 'Date' column is datetime\n",
    "melted_target['Date'] = pd.to_datetime(melted_target['Date'], format='%m/%y')\n",
    "\n",
    "# Set the 'Date' column as index\n",
    "melted_target.set_index('Date', inplace=True)"
   ]
  },
  {
   "cell_type": "code",
   "execution_count": 20,
   "metadata": {},
   "outputs": [
    {
     "data": {
      "text/plain": [
       "DatetimeIndex(['1996-04-01', '1996-04-01', '1996-04-01', '1996-04-01',\n",
       "               '1996-04-01', '1996-04-01', '1996-04-01', '1996-04-01',\n",
       "               '1996-04-01', '1996-04-01',\n",
       "               ...\n",
       "               '2018-04-01', '2018-04-01', '2018-04-01', '2018-04-01',\n",
       "               '2018-04-01', '2018-04-01', '2018-04-01', '2018-04-01',\n",
       "               '2018-04-01', '2018-04-01'],\n",
       "              dtype='datetime64[ns]', name='Date', length=31230, freq=None)"
      ]
     },
     "execution_count": 20,
     "metadata": {},
     "output_type": "execute_result"
    }
   ],
   "source": [
    "melted_target.index"
   ]
  },
  {
   "cell_type": "code",
   "execution_count": 21,
   "metadata": {},
   "outputs": [],
   "source": [
    "melted_target = melted_target['2008-04-01':'2018-04-01']"
   ]
  },
  {
   "cell_type": "code",
   "execution_count": 22,
   "metadata": {},
   "outputs": [
    {
     "data": {
      "text/plain": [
       "DatetimeIndex(['2008-04-01', '2008-05-01', '2008-06-01', '2008-07-01',\n",
       "               '2008-08-01', '2008-09-01', '2008-10-01', '2008-11-01',\n",
       "               '2008-12-01', '2009-01-01',\n",
       "               ...\n",
       "               '2017-07-01', '2017-08-01', '2017-09-01', '2017-10-01',\n",
       "               '2017-11-01', '2017-12-01', '2018-01-01', '2018-02-01',\n",
       "               '2018-03-01', '2018-04-01'],\n",
       "              dtype='datetime64[ns]', name='Date', length=121, freq='MS')"
      ]
     },
     "execution_count": 22,
     "metadata": {},
     "output_type": "execute_result"
    }
   ],
   "source": [
    "melted_target.resample('MS').mean().index"
   ]
  },
  {
   "cell_type": "code",
   "execution_count": 23,
   "metadata": {
    "scrolled": true
   },
   "outputs": [
    {
     "name": "stdout",
     "output_type": "stream",
     "text": [
      "<class 'pandas.core.frame.DataFrame'>\n",
      "DatetimeIndex: 14526 entries, 2008-04-01 to 2018-04-01\n",
      "Data columns (total 7 columns):\n",
      " #   Column      Non-Null Count  Dtype  \n",
      "---  ------      --------------  -----  \n",
      " 0   Zipcode     14526 non-null  string \n",
      " 1   State       14526 non-null  object \n",
      " 2   CountyName  14526 non-null  object \n",
      " 3   SizeRank    14526 non-null  int64  \n",
      " 4   ROI_5yr     14526 non-null  float64\n",
      " 5   ROI_3yr     14526 non-null  float64\n",
      " 6   value       14526 non-null  float64\n",
      "dtypes: float64(3), int64(1), object(2), string(1)\n",
      "memory usage: 907.9+ KB\n"
     ]
    },
    {
     "data": {
      "text/html": [
       "<div>\n",
       "<style scoped>\n",
       "    .dataframe tbody tr th:only-of-type {\n",
       "        vertical-align: middle;\n",
       "    }\n",
       "\n",
       "    .dataframe tbody tr th {\n",
       "        vertical-align: top;\n",
       "    }\n",
       "\n",
       "    .dataframe thead th {\n",
       "        text-align: right;\n",
       "    }\n",
       "</style>\n",
       "<table border=\"1\" class=\"dataframe\">\n",
       "  <thead>\n",
       "    <tr style=\"text-align: right;\">\n",
       "      <th></th>\n",
       "      <th>Zipcode</th>\n",
       "      <th>State</th>\n",
       "      <th>CountyName</th>\n",
       "      <th>SizeRank</th>\n",
       "      <th>ROI_5yr</th>\n",
       "      <th>ROI_3yr</th>\n",
       "      <th>value</th>\n",
       "    </tr>\n",
       "    <tr>\n",
       "      <th>Date</th>\n",
       "      <th></th>\n",
       "      <th></th>\n",
       "      <th></th>\n",
       "      <th></th>\n",
       "      <th></th>\n",
       "      <th></th>\n",
       "      <th></th>\n",
       "    </tr>\n",
       "  </thead>\n",
       "  <tbody>\n",
       "    <tr>\n",
       "      <th>2008-04-01</th>\n",
       "      <td>84404</td>\n",
       "      <td>UT</td>\n",
       "      <td>Weber</td>\n",
       "      <td>526</td>\n",
       "      <td>0.5093</td>\n",
       "      <td>0.4159</td>\n",
       "      <td>170000.0</td>\n",
       "    </tr>\n",
       "    <tr>\n",
       "      <th>2008-04-01</th>\n",
       "      <td>84015</td>\n",
       "      <td>UT</td>\n",
       "      <td>Davis</td>\n",
       "      <td>638</td>\n",
       "      <td>0.4672</td>\n",
       "      <td>0.3667</td>\n",
       "      <td>193200.0</td>\n",
       "    </tr>\n",
       "    <tr>\n",
       "      <th>2008-04-01</th>\n",
       "      <td>84043</td>\n",
       "      <td>UT</td>\n",
       "      <td>Utah</td>\n",
       "      <td>1089</td>\n",
       "      <td>0.4575</td>\n",
       "      <td>0.2789</td>\n",
       "      <td>289500.0</td>\n",
       "    </tr>\n",
       "    <tr>\n",
       "      <th>2008-04-01</th>\n",
       "      <td>84041</td>\n",
       "      <td>UT</td>\n",
       "      <td>Davis</td>\n",
       "      <td>1232</td>\n",
       "      <td>0.4407</td>\n",
       "      <td>0.3321</td>\n",
       "      <td>203600.0</td>\n",
       "    </tr>\n",
       "    <tr>\n",
       "      <th>2008-04-01</th>\n",
       "      <td>84119</td>\n",
       "      <td>UT</td>\n",
       "      <td>Salt Lake</td>\n",
       "      <td>1420</td>\n",
       "      <td>0.6553</td>\n",
       "      <td>0.4960</td>\n",
       "      <td>196200.0</td>\n",
       "    </tr>\n",
       "  </tbody>\n",
       "</table>\n",
       "</div>"
      ],
      "text/plain": [
       "           Zipcode State CountyName  SizeRank  ROI_5yr  ROI_3yr     value\n",
       "Date                                                                     \n",
       "2008-04-01   84404    UT      Weber       526   0.5093   0.4159  170000.0\n",
       "2008-04-01   84015    UT      Davis       638   0.4672   0.3667  193200.0\n",
       "2008-04-01   84043    UT       Utah      1089   0.4575   0.2789  289500.0\n",
       "2008-04-01   84041    UT      Davis      1232   0.4407   0.3321  203600.0\n",
       "2008-04-01   84119    UT  Salt Lake      1420   0.6553   0.4960  196200.0"
      ]
     },
     "execution_count": 23,
     "metadata": {},
     "output_type": "execute_result"
    }
   ],
   "source": [
    "melted_target.info()\n",
    "melted_target.head()"
   ]
  },
  {
   "cell_type": "markdown",
   "metadata": {},
   "source": [
    "## EDA\n",
    "\n",
    "### Home Values by County"
   ]
  },
  {
   "cell_type": "code",
   "execution_count": 24,
   "metadata": {},
   "outputs": [],
   "source": [
    "county = melted_target.groupby('CountyName')\n",
    "county = county.value.mean()\n",
    "county = county.sort_values(ascending=False).head(10)"
   ]
  },
  {
   "cell_type": "code",
   "execution_count": 25,
   "metadata": {
    "scrolled": true
   },
   "outputs": [
    {
     "data": {
      "image/png": "[encoded data removed]",
      "text/plain": [
       "<Figure size 432x288 with 1 Axes>"
      ]
     },
     "metadata": {
      "needs_background": "light"
     },
     "output_type": "display_data"
    }
   ],
   "source": [
    "county.plot.bar(color='blue')\n",
    "plt.title('10-Year Mean Value by County')\n",
    "plt.ylabel('Value in Millions of Dollars ($)')\n",
    "plt.show();"
   ]
  },
  {
   "cell_type": "markdown",
   "metadata": {},
   "source": [
    "#### We will now look at the top five counties with the highest mean values.  These are:  Summit, Wasatch, Morgan, Salt Lake, and Utah counties."
   ]
  },
  {
   "cell_type": "code",
   "execution_count": 26,
   "metadata": {},
   "outputs": [
    {
     "data": {
      "text/html": [
       "<div>\n",
       "<style scoped>\n",
       "    .dataframe tbody tr th:only-of-type {\n",
       "        vertical-align: middle;\n",
       "    }\n",
       "\n",
       "    .dataframe tbody tr th {\n",
       "        vertical-align: top;\n",
       "    }\n",
       "\n",
       "    .dataframe thead th {\n",
       "        text-align: right;\n",
       "    }\n",
       "</style>\n",
       "<table border=\"1\" class=\"dataframe\">\n",
       "  <thead>\n",
       "    <tr style=\"text-align: right;\">\n",
       "      <th></th>\n",
       "      <th>SizeRank</th>\n",
       "      <th>ROI_5yr</th>\n",
       "      <th>ROI_3yr</th>\n",
       "      <th>value</th>\n",
       "    </tr>\n",
       "  </thead>\n",
       "  <tbody>\n",
       "    <tr>\n",
       "      <th>count</th>\n",
       "      <td>242.000000</td>\n",
       "      <td>242.000000</td>\n",
       "      <td>242.000000</td>\n",
       "      <td>2.420000e+02</td>\n",
       "    </tr>\n",
       "    <tr>\n",
       "      <th>mean</th>\n",
       "      <td>7039.500000</td>\n",
       "      <td>0.479700</td>\n",
       "      <td>0.274550</td>\n",
       "      <td>7.722293e+05</td>\n",
       "    </tr>\n",
       "    <tr>\n",
       "      <th>std</th>\n",
       "      <td>1666.947672</td>\n",
       "      <td>0.020242</td>\n",
       "      <td>0.018989</td>\n",
       "      <td>1.914860e+05</td>\n",
       "    </tr>\n",
       "    <tr>\n",
       "      <th>min</th>\n",
       "      <td>5376.000000</td>\n",
       "      <td>0.459500</td>\n",
       "      <td>0.255600</td>\n",
       "      <td>5.183000e+05</td>\n",
       "    </tr>\n",
       "    <tr>\n",
       "      <th>25%</th>\n",
       "      <td>5376.000000</td>\n",
       "      <td>0.459500</td>\n",
       "      <td>0.255600</td>\n",
       "      <td>5.946500e+05</td>\n",
       "    </tr>\n",
       "    <tr>\n",
       "      <th>50%</th>\n",
       "      <td>7039.500000</td>\n",
       "      <td>0.479700</td>\n",
       "      <td>0.274550</td>\n",
       "      <td>7.838500e+05</td>\n",
       "    </tr>\n",
       "    <tr>\n",
       "      <th>75%</th>\n",
       "      <td>8703.000000</td>\n",
       "      <td>0.499900</td>\n",
       "      <td>0.293500</td>\n",
       "      <td>8.923000e+05</td>\n",
       "    </tr>\n",
       "    <tr>\n",
       "      <th>max</th>\n",
       "      <td>8703.000000</td>\n",
       "      <td>0.499900</td>\n",
       "      <td>0.293500</td>\n",
       "      <td>1.222100e+06</td>\n",
       "    </tr>\n",
       "  </tbody>\n",
       "</table>\n",
       "</div>"
      ],
      "text/plain": [
       "          SizeRank     ROI_5yr     ROI_3yr         value\n",
       "count   242.000000  242.000000  242.000000  2.420000e+02\n",
       "mean   7039.500000    0.479700    0.274550  7.722293e+05\n",
       "std    1666.947672    0.020242    0.018989  1.914860e+05\n",
       "min    5376.000000    0.459500    0.255600  5.183000e+05\n",
       "25%    5376.000000    0.459500    0.255600  5.946500e+05\n",
       "50%    7039.500000    0.479700    0.274550  7.838500e+05\n",
       "75%    8703.000000    0.499900    0.293500  8.923000e+05\n",
       "max    8703.000000    0.499900    0.293500  1.222100e+06"
      ]
     },
     "execution_count": 26,
     "metadata": {},
     "output_type": "execute_result"
    }
   ],
   "source": [
    "summit = melted_target.loc[melted_target['CountyName']=='Summit']\n",
    "summit.describe()"
   ]
  },
  {
   "cell_type": "code",
   "execution_count": 27,
   "metadata": {},
   "outputs": [
    {
     "data": {
      "text/html": [
       "<div>\n",
       "<style scoped>\n",
       "    .dataframe tbody tr th:only-of-type {\n",
       "        vertical-align: middle;\n",
       "    }\n",
       "\n",
       "    .dataframe tbody tr th {\n",
       "        vertical-align: top;\n",
       "    }\n",
       "\n",
       "    .dataframe thead th {\n",
       "        text-align: right;\n",
       "    }\n",
       "</style>\n",
       "<table border=\"1\" class=\"dataframe\">\n",
       "  <thead>\n",
       "    <tr style=\"text-align: right;\">\n",
       "      <th></th>\n",
       "      <th>SizeRank</th>\n",
       "      <th>ROI_5yr</th>\n",
       "      <th>ROI_3yr</th>\n",
       "      <th>value</th>\n",
       "    </tr>\n",
       "  </thead>\n",
       "  <tbody>\n",
       "    <tr>\n",
       "      <th>count</th>\n",
       "      <td>242.00000</td>\n",
       "      <td>242.000000</td>\n",
       "      <td>242.000000</td>\n",
       "      <td>242.000000</td>\n",
       "    </tr>\n",
       "    <tr>\n",
       "      <th>mean</th>\n",
       "      <td>8278.50000</td>\n",
       "      <td>0.459000</td>\n",
       "      <td>0.275000</td>\n",
       "      <td>335869.008264</td>\n",
       "    </tr>\n",
       "    <tr>\n",
       "      <th>std</th>\n",
       "      <td>2222.09586</td>\n",
       "      <td>0.002205</td>\n",
       "      <td>0.005712</td>\n",
       "      <td>54255.215921</td>\n",
       "    </tr>\n",
       "    <tr>\n",
       "      <th>min</th>\n",
       "      <td>6061.00000</td>\n",
       "      <td>0.456800</td>\n",
       "      <td>0.269300</td>\n",
       "      <td>253900.000000</td>\n",
       "    </tr>\n",
       "    <tr>\n",
       "      <th>25%</th>\n",
       "      <td>6061.00000</td>\n",
       "      <td>0.456800</td>\n",
       "      <td>0.269300</td>\n",
       "      <td>297425.000000</td>\n",
       "    </tr>\n",
       "    <tr>\n",
       "      <th>50%</th>\n",
       "      <td>8278.50000</td>\n",
       "      <td>0.459000</td>\n",
       "      <td>0.275000</td>\n",
       "      <td>328950.000000</td>\n",
       "    </tr>\n",
       "    <tr>\n",
       "      <th>75%</th>\n",
       "      <td>10496.00000</td>\n",
       "      <td>0.461200</td>\n",
       "      <td>0.280700</td>\n",
       "      <td>372500.000000</td>\n",
       "    </tr>\n",
       "    <tr>\n",
       "      <th>max</th>\n",
       "      <td>10496.00000</td>\n",
       "      <td>0.461200</td>\n",
       "      <td>0.280700</td>\n",
       "      <td>476100.000000</td>\n",
       "    </tr>\n",
       "  </tbody>\n",
       "</table>\n",
       "</div>"
      ],
      "text/plain": [
       "          SizeRank     ROI_5yr     ROI_3yr          value\n",
       "count    242.00000  242.000000  242.000000     242.000000\n",
       "mean    8278.50000    0.459000    0.275000  335869.008264\n",
       "std     2222.09586    0.002205    0.005712   54255.215921\n",
       "min     6061.00000    0.456800    0.269300  253900.000000\n",
       "25%     6061.00000    0.456800    0.269300  297425.000000\n",
       "50%     8278.50000    0.459000    0.275000  328950.000000\n",
       "75%    10496.00000    0.461200    0.280700  372500.000000\n",
       "max    10496.00000    0.461200    0.280700  476100.000000"
      ]
     },
     "execution_count": 27,
     "metadata": {},
     "output_type": "execute_result"
    }
   ],
   "source": [
    "wasatch = melted_target.loc[melted_target['CountyName']=='Wasatch']\n",
    "wasatch.describe()"
   ]
  },
  {
   "cell_type": "code",
   "execution_count": 28,
   "metadata": {},
   "outputs": [
    {
     "data": {
      "text/html": [
       "<div>\n",
       "<style scoped>\n",
       "    .dataframe tbody tr th:only-of-type {\n",
       "        vertical-align: middle;\n",
       "    }\n",
       "\n",
       "    .dataframe tbody tr th {\n",
       "        vertical-align: top;\n",
       "    }\n",
       "\n",
       "    .dataframe thead th {\n",
       "        text-align: right;\n",
       "    }\n",
       "</style>\n",
       "<table border=\"1\" class=\"dataframe\">\n",
       "  <thead>\n",
       "    <tr style=\"text-align: right;\">\n",
       "      <th></th>\n",
       "      <th>SizeRank</th>\n",
       "      <th>ROI_5yr</th>\n",
       "      <th>ROI_3yr</th>\n",
       "      <th>value</th>\n",
       "    </tr>\n",
       "  </thead>\n",
       "  <tbody>\n",
       "    <tr>\n",
       "      <th>count</th>\n",
       "      <td>121.0</td>\n",
       "      <td>121.0000</td>\n",
       "      <td>121.0000</td>\n",
       "      <td>121.000000</td>\n",
       "    </tr>\n",
       "    <tr>\n",
       "      <th>mean</th>\n",
       "      <td>9066.0</td>\n",
       "      <td>0.3322</td>\n",
       "      <td>0.3863</td>\n",
       "      <td>312657.024793</td>\n",
       "    </tr>\n",
       "    <tr>\n",
       "      <th>std</th>\n",
       "      <td>0.0</td>\n",
       "      <td>0.0000</td>\n",
       "      <td>0.0000</td>\n",
       "      <td>32396.709778</td>\n",
       "    </tr>\n",
       "    <tr>\n",
       "      <th>min</th>\n",
       "      <td>9066.0</td>\n",
       "      <td>0.3322</td>\n",
       "      <td>0.3863</td>\n",
       "      <td>266400.000000</td>\n",
       "    </tr>\n",
       "    <tr>\n",
       "      <th>25%</th>\n",
       "      <td>9066.0</td>\n",
       "      <td>0.3322</td>\n",
       "      <td>0.3863</td>\n",
       "      <td>292300.000000</td>\n",
       "    </tr>\n",
       "    <tr>\n",
       "      <th>50%</th>\n",
       "      <td>9066.0</td>\n",
       "      <td>0.3322</td>\n",
       "      <td>0.3863</td>\n",
       "      <td>304300.000000</td>\n",
       "    </tr>\n",
       "    <tr>\n",
       "      <th>75%</th>\n",
       "      <td>9066.0</td>\n",
       "      <td>0.3322</td>\n",
       "      <td>0.3863</td>\n",
       "      <td>334000.000000</td>\n",
       "    </tr>\n",
       "    <tr>\n",
       "      <th>max</th>\n",
       "      <td>9066.0</td>\n",
       "      <td>0.3322</td>\n",
       "      <td>0.3863</td>\n",
       "      <td>389400.000000</td>\n",
       "    </tr>\n",
       "  </tbody>\n",
       "</table>\n",
       "</div>"
      ],
      "text/plain": [
       "       SizeRank   ROI_5yr   ROI_3yr          value\n",
       "count     121.0  121.0000  121.0000     121.000000\n",
       "mean     9066.0    0.3322    0.3863  312657.024793\n",
       "std         0.0    0.0000    0.0000   32396.709778\n",
       "min      9066.0    0.3322    0.3863  266400.000000\n",
       "25%      9066.0    0.3322    0.3863  292300.000000\n",
       "50%      9066.0    0.3322    0.3863  304300.000000\n",
       "75%      9066.0    0.3322    0.3863  334000.000000\n",
       "max      9066.0    0.3322    0.3863  389400.000000"
      ]
     },
     "execution_count": 28,
     "metadata": {},
     "output_type": "execute_result"
    }
   ],
   "source": [
    "morgan = melted_target.loc[melted_target['CountyName']== 'Morgan']\n",
    "morgan.describe()"
   ]
  },
  {
   "cell_type": "code",
   "execution_count": 29,
   "metadata": {},
   "outputs": [
    {
     "data": {
      "text/html": [
       "<div>\n",
       "<style scoped>\n",
       "    .dataframe tbody tr th:only-of-type {\n",
       "        vertical-align: middle;\n",
       "    }\n",
       "\n",
       "    .dataframe tbody tr th {\n",
       "        vertical-align: top;\n",
       "    }\n",
       "\n",
       "    .dataframe thead th {\n",
       "        text-align: right;\n",
       "    }\n",
       "</style>\n",
       "<table border=\"1\" class=\"dataframe\">\n",
       "  <thead>\n",
       "    <tr style=\"text-align: right;\">\n",
       "      <th></th>\n",
       "      <th>SizeRank</th>\n",
       "      <th>ROI_5yr</th>\n",
       "      <th>ROI_3yr</th>\n",
       "      <th>value</th>\n",
       "    </tr>\n",
       "  </thead>\n",
       "  <tbody>\n",
       "    <tr>\n",
       "      <th>count</th>\n",
       "      <td>4235.000000</td>\n",
       "      <td>4235.000000</td>\n",
       "      <td>4235.000000</td>\n",
       "      <td>4235.000000</td>\n",
       "    </tr>\n",
       "    <tr>\n",
       "      <th>mean</th>\n",
       "      <td>3967.800000</td>\n",
       "      <td>0.582309</td>\n",
       "      <td>0.402129</td>\n",
       "      <td>269970.861865</td>\n",
       "    </tr>\n",
       "    <tr>\n",
       "      <th>std</th>\n",
       "      <td>1655.524263</td>\n",
       "      <td>0.121911</td>\n",
       "      <td>0.110430</td>\n",
       "      <td>91605.938430</td>\n",
       "    </tr>\n",
       "    <tr>\n",
       "      <th>min</th>\n",
       "      <td>1420.000000</td>\n",
       "      <td>0.327200</td>\n",
       "      <td>0.220700</td>\n",
       "      <td>109600.000000</td>\n",
       "    </tr>\n",
       "    <tr>\n",
       "      <th>25%</th>\n",
       "      <td>2239.000000</td>\n",
       "      <td>0.499100</td>\n",
       "      <td>0.305800</td>\n",
       "      <td>195400.000000</td>\n",
       "    </tr>\n",
       "    <tr>\n",
       "      <th>50%</th>\n",
       "      <td>3858.000000</td>\n",
       "      <td>0.574300</td>\n",
       "      <td>0.375400</td>\n",
       "      <td>255600.000000</td>\n",
       "    </tr>\n",
       "    <tr>\n",
       "      <th>75%</th>\n",
       "      <td>4934.000000</td>\n",
       "      <td>0.691100</td>\n",
       "      <td>0.496000</td>\n",
       "      <td>333200.000000</td>\n",
       "    </tr>\n",
       "    <tr>\n",
       "      <th>max</th>\n",
       "      <td>9059.000000</td>\n",
       "      <td>0.811200</td>\n",
       "      <td>0.623000</td>\n",
       "      <td>549300.000000</td>\n",
       "    </tr>\n",
       "  </tbody>\n",
       "</table>\n",
       "</div>"
      ],
      "text/plain": [
       "          SizeRank      ROI_5yr      ROI_3yr          value\n",
       "count  4235.000000  4235.000000  4235.000000    4235.000000\n",
       "mean   3967.800000     0.582309     0.402129  269970.861865\n",
       "std    1655.524263     0.121911     0.110430   91605.938430\n",
       "min    1420.000000     0.327200     0.220700  109600.000000\n",
       "25%    2239.000000     0.499100     0.305800  195400.000000\n",
       "50%    3858.000000     0.574300     0.375400  255600.000000\n",
       "75%    4934.000000     0.691100     0.496000  333200.000000\n",
       "max    9059.000000     0.811200     0.623000  549300.000000"
      ]
     },
     "execution_count": 29,
     "metadata": {},
     "output_type": "execute_result"
    }
   ],
   "source": [
    "salt_lake = melted_target.loc[melted_target['CountyName']=='Salt Lake']\n",
    "salt_lake.describe()"
   ]
  },
  {
   "cell_type": "code",
   "execution_count": 30,
   "metadata": {},
   "outputs": [
    {
     "data": {
      "text/html": [
       "<div>\n",
       "<style scoped>\n",
       "    .dataframe tbody tr th:only-of-type {\n",
       "        vertical-align: middle;\n",
       "    }\n",
       "\n",
       "    .dataframe tbody tr th {\n",
       "        vertical-align: top;\n",
       "    }\n",
       "\n",
       "    .dataframe thead th {\n",
       "        text-align: right;\n",
       "    }\n",
       "</style>\n",
       "<table border=\"1\" class=\"dataframe\">\n",
       "  <thead>\n",
       "    <tr style=\"text-align: right;\">\n",
       "      <th></th>\n",
       "      <th>SizeRank</th>\n",
       "      <th>ROI_5yr</th>\n",
       "      <th>ROI_3yr</th>\n",
       "      <th>value</th>\n",
       "    </tr>\n",
       "  </thead>\n",
       "  <tbody>\n",
       "    <tr>\n",
       "      <th>count</th>\n",
       "      <td>2299.000000</td>\n",
       "      <td>2299.000000</td>\n",
       "      <td>2299.000000</td>\n",
       "      <td>2299.000000</td>\n",
       "    </tr>\n",
       "    <tr>\n",
       "      <th>mean</th>\n",
       "      <td>5494.631579</td>\n",
       "      <td>0.480832</td>\n",
       "      <td>0.292432</td>\n",
       "      <td>269797.651153</td>\n",
       "    </tr>\n",
       "    <tr>\n",
       "      <th>std</th>\n",
       "      <td>2796.839284</td>\n",
       "      <td>0.059742</td>\n",
       "      <td>0.051711</td>\n",
       "      <td>87085.276393</td>\n",
       "    </tr>\n",
       "    <tr>\n",
       "      <th>min</th>\n",
       "      <td>1089.000000</td>\n",
       "      <td>0.375400</td>\n",
       "      <td>0.210200</td>\n",
       "      <td>155800.000000</td>\n",
       "    </tr>\n",
       "    <tr>\n",
       "      <th>25%</th>\n",
       "      <td>3227.000000</td>\n",
       "      <td>0.435700</td>\n",
       "      <td>0.259500</td>\n",
       "      <td>210550.000000</td>\n",
       "    </tr>\n",
       "    <tr>\n",
       "      <th>50%</th>\n",
       "      <td>4443.000000</td>\n",
       "      <td>0.481000</td>\n",
       "      <td>0.279800</td>\n",
       "      <td>250600.000000</td>\n",
       "    </tr>\n",
       "    <tr>\n",
       "      <th>75%</th>\n",
       "      <td>8963.000000</td>\n",
       "      <td>0.526500</td>\n",
       "      <td>0.341900</td>\n",
       "      <td>302550.000000</td>\n",
       "    </tr>\n",
       "    <tr>\n",
       "      <th>max</th>\n",
       "      <td>10033.000000</td>\n",
       "      <td>0.607800</td>\n",
       "      <td>0.380800</td>\n",
       "      <td>700200.000000</td>\n",
       "    </tr>\n",
       "  </tbody>\n",
       "</table>\n",
       "</div>"
      ],
      "text/plain": [
       "           SizeRank      ROI_5yr      ROI_3yr          value\n",
       "count   2299.000000  2299.000000  2299.000000    2299.000000\n",
       "mean    5494.631579     0.480832     0.292432  269797.651153\n",
       "std     2796.839284     0.059742     0.051711   87085.276393\n",
       "min     1089.000000     0.375400     0.210200  155800.000000\n",
       "25%     3227.000000     0.435700     0.259500  210550.000000\n",
       "50%     4443.000000     0.481000     0.279800  250600.000000\n",
       "75%     8963.000000     0.526500     0.341900  302550.000000\n",
       "max    10033.000000     0.607800     0.380800  700200.000000"
      ]
     },
     "execution_count": 30,
     "metadata": {},
     "output_type": "execute_result"
    }
   ],
   "source": [
    "utah_cnty = melted_target.loc[melted_target['CountyName']=='Utah']\n",
    "utah_cnty.describe()"
   ]
  },
  {
   "cell_type": "code",
   "execution_count": 31,
   "metadata": {
    "scrolled": true
   },
   "outputs": [
    {
     "data": {
      "text/plain": [
       "count    1.452600e+04\n",
       "mean     2.459903e+05\n",
       "std      1.067229e+05\n",
       "min      1.096000e+05\n",
       "25%      1.809000e+05\n",
       "50%      2.214000e+05\n",
       "75%      2.765000e+05\n",
       "max      1.222100e+06\n",
       "Name: value, dtype: float64"
      ]
     },
     "execution_count": 31,
     "metadata": {},
     "output_type": "execute_result"
    }
   ],
   "source": [
    "melted_target['value'].describe()"
   ]
  },
  {
   "cell_type": "markdown",
   "metadata": {},
   "source": [
    "### Value"
   ]
  },
  {
   "cell_type": "code",
   "execution_count": 32,
   "metadata": {},
   "outputs": [
    {
     "name": "stdout",
     "output_type": "stream",
     "text": [
      "10 year average target home value 245990.29\n"
     ]
    }
   ],
   "source": [
    "print('10 year average target home value' ,round(melted_target['value'].mean(), 2))"
   ]
  },
  {
   "cell_type": "code",
   "execution_count": 33,
   "metadata": {},
   "outputs": [
    {
     "data": {
      "image/png": "[encoded data removed]",
      "text/plain": [
       "<Figure size 432x288 with 1 Axes>"
      ]
     },
     "metadata": {
      "needs_background": "light"
     },
     "output_type": "display_data"
    }
   ],
   "source": [
    "# Value by month.\n",
    "monthly_data = melted_target.resample('MS').mean()['value']\n",
    "monthly_data.plot()\n",
    "plt.title('Typical Home Value by Month')\n",
    "plt.ylabel('Value in US Dollars ($)')\n",
    "plt.show();"
   ]
  },
  {
   "cell_type": "code",
   "execution_count": 34,
   "metadata": {
    "scrolled": true
   },
   "outputs": [
    {
     "data": {
      "image/png": "[encoded data removed]",
      "text/plain": [
       "<Figure size 432x288 with 1 Axes>"
      ]
     },
     "metadata": {
      "needs_background": "light"
     },
     "output_type": "display_data"
    }
   ],
   "source": [
    "#Value by year end.\n",
    "# https://stackoverflow.com/questions/17001389/pandas-resample-documentation.\n",
    "yearly_data = melted_target['value'].resample(rule='A').mean()\n",
    "yearly_data.plot.line(color='green')\n",
    "plt.title('Typical Home Value by Year')\n",
    "plt.ylabel('Value in US Dollars ($)')\n",
    "plt.show();"
   ]
  },
  {
   "cell_type": "markdown",
   "metadata": {},
   "source": [
    "## Mean value by zipcode"
   ]
  },
  {
   "cell_type": "code",
   "execution_count": 35,
   "metadata": {},
   "outputs": [],
   "source": [
    "zips = melted_target.groupby('Zipcode')"
   ]
  },
  {
   "cell_type": "code",
   "execution_count": 36,
   "metadata": {},
   "outputs": [],
   "source": [
    "mean_value = zips.value.mean()\n",
    "mean_value = mean_value.sort_values(ascending=False).head(10)"
   ]
  },
  {
   "cell_type": "code",
   "execution_count": 37,
   "metadata": {
    "scrolled": true
   },
   "outputs": [
    {
     "data": {
      "image/png": "[encoded data removed]",
      "text/plain": [
       "<Figure size 432x288 with 1 Axes>"
      ]
     },
     "metadata": {
      "needs_background": "light"
     },
     "output_type": "display_data"
    }
   ],
   "source": [
    "mean_value.plot.barh(color='red')\n",
    "plt.title('Top 10 Zipcodes  \\n Highest Mean Value 2008-2018')\n",
    "plt.xlabel('Value in Millions of Dollars ($)')\n",
    "plt.show();"
   ]
  },
  {
   "cell_type": "code",
   "execution_count": 38,
   "metadata": {
    "scrolled": false
   },
   "outputs": [
    {
     "data": {
      "text/plain": [
       "count    14526.000000\n",
       "mean         0.460834\n",
       "std          0.139671\n",
       "min          0.138200\n",
       "25%          0.366900\n",
       "50%          0.462500\n",
       "75%          0.543900\n",
       "max          0.811200\n",
       "Name: ROI_5yr, dtype: float64"
      ]
     },
     "execution_count": 38,
     "metadata": {},
     "output_type": "execute_result"
    }
   ],
   "source": [
    "melted_target['ROI_5yr'].describe()"
   ]
  },
  {
   "cell_type": "markdown",
   "metadata": {},
   "source": [
    "#### To narrow down the amount of zipcodes and find the best ones to invest in, I will take the top ten percent of zipcodes based on their 3 and 5 year ROIs."
   ]
  },
  {
   "cell_type": "code",
   "execution_count": 39,
   "metadata": {},
   "outputs": [],
   "source": [
    "ninety_perc_ROI_5yr = melted_target['ROI_5yr'].quantile(q=0.90)\n",
    "top_ten_perc = melted_target.loc[melted_target['ROI_5yr']>=ninety_perc_ROI_5yr]"
   ]
  },
  {
   "cell_type": "code",
   "execution_count": 40,
   "metadata": {},
   "outputs": [
    {
     "data": {
      "text/html": [
       "<div>\n",
       "<style scoped>\n",
       "    .dataframe tbody tr th:only-of-type {\n",
       "        vertical-align: middle;\n",
       "    }\n",
       "\n",
       "    .dataframe tbody tr th {\n",
       "        vertical-align: top;\n",
       "    }\n",
       "\n",
       "    .dataframe thead th {\n",
       "        text-align: right;\n",
       "    }\n",
       "</style>\n",
       "<table border=\"1\" class=\"dataframe\">\n",
       "  <thead>\n",
       "    <tr style=\"text-align: right;\">\n",
       "      <th></th>\n",
       "      <th>Zipcode</th>\n",
       "      <th>State</th>\n",
       "      <th>CountyName</th>\n",
       "      <th>SizeRank</th>\n",
       "      <th>ROI_5yr</th>\n",
       "      <th>ROI_3yr</th>\n",
       "      <th>value</th>\n",
       "    </tr>\n",
       "    <tr>\n",
       "      <th>Date</th>\n",
       "      <th></th>\n",
       "      <th></th>\n",
       "      <th></th>\n",
       "      <th></th>\n",
       "      <th></th>\n",
       "      <th></th>\n",
       "      <th></th>\n",
       "    </tr>\n",
       "  </thead>\n",
       "  <tbody>\n",
       "    <tr>\n",
       "      <th>2008-04-01</th>\n",
       "      <td>84119</td>\n",
       "      <td>UT</td>\n",
       "      <td>Salt Lake</td>\n",
       "      <td>1420</td>\n",
       "      <td>0.6553</td>\n",
       "      <td>0.4960</td>\n",
       "      <td>196200.0</td>\n",
       "    </tr>\n",
       "    <tr>\n",
       "      <th>2008-04-01</th>\n",
       "      <td>84120</td>\n",
       "      <td>UT</td>\n",
       "      <td>Salt Lake</td>\n",
       "      <td>2194</td>\n",
       "      <td>0.6762</td>\n",
       "      <td>0.4547</td>\n",
       "      <td>203000.0</td>\n",
       "    </tr>\n",
       "    <tr>\n",
       "      <th>2008-04-01</th>\n",
       "      <td>84106</td>\n",
       "      <td>UT</td>\n",
       "      <td>Salt Lake</td>\n",
       "      <td>2217</td>\n",
       "      <td>0.6911</td>\n",
       "      <td>0.4949</td>\n",
       "      <td>271100.0</td>\n",
       "    </tr>\n",
       "    <tr>\n",
       "      <th>2008-04-01</th>\n",
       "      <td>84403</td>\n",
       "      <td>UT</td>\n",
       "      <td>Weber</td>\n",
       "      <td>2705</td>\n",
       "      <td>0.6296</td>\n",
       "      <td>0.4443</td>\n",
       "      <td>176300.0</td>\n",
       "    </tr>\n",
       "    <tr>\n",
       "      <th>2008-04-01</th>\n",
       "      <td>84116</td>\n",
       "      <td>UT</td>\n",
       "      <td>Salt Lake</td>\n",
       "      <td>3638</td>\n",
       "      <td>0.7383</td>\n",
       "      <td>0.5812</td>\n",
       "      <td>181400.0</td>\n",
       "    </tr>\n",
       "    <tr>\n",
       "      <th>2008-04-01</th>\n",
       "      <td>84118</td>\n",
       "      <td>UT</td>\n",
       "      <td>Salt Lake</td>\n",
       "      <td>3653</td>\n",
       "      <td>0.7209</td>\n",
       "      <td>0.5133</td>\n",
       "      <td>197600.0</td>\n",
       "    </tr>\n",
       "    <tr>\n",
       "      <th>2008-04-01</th>\n",
       "      <td>84115</td>\n",
       "      <td>UT</td>\n",
       "      <td>Salt Lake</td>\n",
       "      <td>3858</td>\n",
       "      <td>0.7052</td>\n",
       "      <td>0.5521</td>\n",
       "      <td>189600.0</td>\n",
       "    </tr>\n",
       "    <tr>\n",
       "      <th>2008-04-01</th>\n",
       "      <td>84105</td>\n",
       "      <td>UT</td>\n",
       "      <td>Salt Lake</td>\n",
       "      <td>4656</td>\n",
       "      <td>0.7065</td>\n",
       "      <td>0.5072</td>\n",
       "      <td>305000.0</td>\n",
       "    </tr>\n",
       "    <tr>\n",
       "      <th>2008-04-01</th>\n",
       "      <td>84044</td>\n",
       "      <td>UT</td>\n",
       "      <td>Salt Lake</td>\n",
       "      <td>5281</td>\n",
       "      <td>0.7239</td>\n",
       "      <td>0.5612</td>\n",
       "      <td>182900.0</td>\n",
       "    </tr>\n",
       "    <tr>\n",
       "      <th>2008-04-01</th>\n",
       "      <td>84128</td>\n",
       "      <td>UT</td>\n",
       "      <td>Salt Lake</td>\n",
       "      <td>5718</td>\n",
       "      <td>0.6312</td>\n",
       "      <td>0.3899</td>\n",
       "      <td>219400.0</td>\n",
       "    </tr>\n",
       "  </tbody>\n",
       "</table>\n",
       "</div>"
      ],
      "text/plain": [
       "           Zipcode State CountyName  SizeRank  ROI_5yr  ROI_3yr     value\n",
       "Date                                                                     \n",
       "2008-04-01   84119    UT  Salt Lake      1420   0.6553   0.4960  196200.0\n",
       "2008-04-01   84120    UT  Salt Lake      2194   0.6762   0.4547  203000.0\n",
       "2008-04-01   84106    UT  Salt Lake      2217   0.6911   0.4949  271100.0\n",
       "2008-04-01   84403    UT      Weber      2705   0.6296   0.4443  176300.0\n",
       "2008-04-01   84116    UT  Salt Lake      3638   0.7383   0.5812  181400.0\n",
       "2008-04-01   84118    UT  Salt Lake      3653   0.7209   0.5133  197600.0\n",
       "2008-04-01   84115    UT  Salt Lake      3858   0.7052   0.5521  189600.0\n",
       "2008-04-01   84105    UT  Salt Lake      4656   0.7065   0.5072  305000.0\n",
       "2008-04-01   84044    UT  Salt Lake      5281   0.7239   0.5612  182900.0\n",
       "2008-04-01   84128    UT  Salt Lake      5718   0.6312   0.3899  219400.0"
      ]
     },
     "execution_count": 40,
     "metadata": {},
     "output_type": "execute_result"
    }
   ],
   "source": [
    "top_ten_perc.head(10)"
   ]
  },
  {
   "cell_type": "code",
   "execution_count": 41,
   "metadata": {
    "scrolled": false
   },
   "outputs": [
    {
     "data": {
      "text/plain": [
       "count    14526.000000\n",
       "mean         0.309420\n",
       "std          0.116767\n",
       "min         -0.033800\n",
       "25%          0.243600\n",
       "50%          0.290200\n",
       "75%          0.366700\n",
       "max          0.623000\n",
       "Name: ROI_3yr, dtype: float64"
      ]
     },
     "execution_count": 41,
     "metadata": {},
     "output_type": "execute_result"
    }
   ],
   "source": [
    "melted_target['ROI_3yr'].describe()"
   ]
  },
  {
   "cell_type": "code",
   "execution_count": 42,
   "metadata": {},
   "outputs": [],
   "source": [
    "ninety_perc_ROI_3yr = melted_target['ROI_3yr'].quantile(q=0.90)\n",
    "top_ten_perc_3yr = melted_target.loc[melted_target['ROI_3yr']>=ninety_perc_ROI_3yr]"
   ]
  },
  {
   "cell_type": "code",
   "execution_count": 43,
   "metadata": {},
   "outputs": [
    {
     "data": {
      "text/html": [
       "<div>\n",
       "<style scoped>\n",
       "    .dataframe tbody tr th:only-of-type {\n",
       "        vertical-align: middle;\n",
       "    }\n",
       "\n",
       "    .dataframe tbody tr th {\n",
       "        vertical-align: top;\n",
       "    }\n",
       "\n",
       "    .dataframe thead th {\n",
       "        text-align: right;\n",
       "    }\n",
       "</style>\n",
       "<table border=\"1\" class=\"dataframe\">\n",
       "  <thead>\n",
       "    <tr style=\"text-align: right;\">\n",
       "      <th></th>\n",
       "      <th>Zipcode</th>\n",
       "      <th>ROI_5yr</th>\n",
       "      <th>ROI_3yr</th>\n",
       "      <th>value</th>\n",
       "    </tr>\n",
       "    <tr>\n",
       "      <th>Date</th>\n",
       "      <th></th>\n",
       "      <th></th>\n",
       "      <th></th>\n",
       "      <th></th>\n",
       "    </tr>\n",
       "  </thead>\n",
       "  <tbody>\n",
       "    <tr>\n",
       "      <th>2008-04-01</th>\n",
       "      <td>84119</td>\n",
       "      <td>0.6553</td>\n",
       "      <td>0.4960</td>\n",
       "      <td>196200.0</td>\n",
       "    </tr>\n",
       "    <tr>\n",
       "      <th>2008-04-01</th>\n",
       "      <td>84106</td>\n",
       "      <td>0.6911</td>\n",
       "      <td>0.4949</td>\n",
       "      <td>271100.0</td>\n",
       "    </tr>\n",
       "    <tr>\n",
       "      <th>2008-04-01</th>\n",
       "      <td>84401</td>\n",
       "      <td>0.5439</td>\n",
       "      <td>0.4859</td>\n",
       "      <td>161100.0</td>\n",
       "    </tr>\n",
       "    <tr>\n",
       "      <th>2008-04-01</th>\n",
       "      <td>84116</td>\n",
       "      <td>0.7383</td>\n",
       "      <td>0.5812</td>\n",
       "      <td>181400.0</td>\n",
       "    </tr>\n",
       "    <tr>\n",
       "      <th>2008-04-01</th>\n",
       "      <td>84118</td>\n",
       "      <td>0.7209</td>\n",
       "      <td>0.5133</td>\n",
       "      <td>197600.0</td>\n",
       "    </tr>\n",
       "    <tr>\n",
       "      <th>2008-04-01</th>\n",
       "      <td>84115</td>\n",
       "      <td>0.7052</td>\n",
       "      <td>0.5521</td>\n",
       "      <td>189600.0</td>\n",
       "    </tr>\n",
       "    <tr>\n",
       "      <th>2008-04-01</th>\n",
       "      <td>84102</td>\n",
       "      <td>0.6192</td>\n",
       "      <td>0.4789</td>\n",
       "      <td>273400.0</td>\n",
       "    </tr>\n",
       "    <tr>\n",
       "      <th>2008-04-01</th>\n",
       "      <td>84105</td>\n",
       "      <td>0.7065</td>\n",
       "      <td>0.5072</td>\n",
       "      <td>305000.0</td>\n",
       "    </tr>\n",
       "    <tr>\n",
       "      <th>2008-04-01</th>\n",
       "      <td>84044</td>\n",
       "      <td>0.7239</td>\n",
       "      <td>0.5612</td>\n",
       "      <td>182900.0</td>\n",
       "    </tr>\n",
       "    <tr>\n",
       "      <th>2008-04-01</th>\n",
       "      <td>84104</td>\n",
       "      <td>0.7536</td>\n",
       "      <td>0.5719</td>\n",
       "      <td>151600.0</td>\n",
       "    </tr>\n",
       "  </tbody>\n",
       "</table>\n",
       "</div>"
      ],
      "text/plain": [
       "           Zipcode  ROI_5yr  ROI_3yr     value\n",
       "Date                                          \n",
       "2008-04-01   84119   0.6553   0.4960  196200.0\n",
       "2008-04-01   84106   0.6911   0.4949  271100.0\n",
       "2008-04-01   84401   0.5439   0.4859  161100.0\n",
       "2008-04-01   84116   0.7383   0.5812  181400.0\n",
       "2008-04-01   84118   0.7209   0.5133  197600.0\n",
       "2008-04-01   84115   0.7052   0.5521  189600.0\n",
       "2008-04-01   84102   0.6192   0.4789  273400.0\n",
       "2008-04-01   84105   0.7065   0.5072  305000.0\n",
       "2008-04-01   84044   0.7239   0.5612  182900.0\n",
       "2008-04-01   84104   0.7536   0.5719  151600.0"
      ]
     },
     "execution_count": 43,
     "metadata": {},
     "output_type": "execute_result"
    }
   ],
   "source": [
    "top_3_utah = top_ten_perc_3yr.drop(columns=['CountyName', 'State', 'SizeRank'])\n",
    "top_3_utah.head(10)"
   ]
  },
  {
   "cell_type": "code",
   "execution_count": 44,
   "metadata": {},
   "outputs": [
    {
     "name": "stdout",
     "output_type": "stream",
     "text": [
      "<class 'pandas.core.frame.DataFrame'>\n",
      "DatetimeIndex: 1573 entries, 2008-04-01 to 2018-04-01\n",
      "Data columns (total 4 columns):\n",
      " #   Column   Non-Null Count  Dtype  \n",
      "---  ------   --------------  -----  \n",
      " 0   Zipcode  1573 non-null   string \n",
      " 1   ROI_5yr  1573 non-null   float64\n",
      " 2   ROI_3yr  1573 non-null   float64\n",
      " 3   value    1573 non-null   float64\n",
      "dtypes: float64(3), string(1)\n",
      "memory usage: 61.4 KB\n"
     ]
    }
   ],
   "source": [
    "top_3_utah.info()"
   ]
  },
  {
   "cell_type": "code",
   "execution_count": 45,
   "metadata": {},
   "outputs": [],
   "source": [
    "zipcode = top_3_utah['Zipcode'].unique().tolist()"
   ]
  },
  {
   "cell_type": "code",
   "execution_count": 46,
   "metadata": {},
   "outputs": [],
   "source": [
    "TS = {}\n",
    "for zipcode in zipcode:\n",
    "    temp_df = top_3_utah.groupby('Zipcode').get_group(zipcode).sort_index()['value']\n",
    "    TS[zipcode] = temp_df"
   ]
  },
  {
   "cell_type": "code",
   "execution_count": 47,
   "metadata": {
    "scrolled": true
   },
   "outputs": [
    {
     "data": {
      "text/plain": [
       "13"
      ]
     },
     "execution_count": 47,
     "metadata": {},
     "output_type": "execute_result"
    }
   ],
   "source": [
    "len(TS.keys())"
   ]
  },
  {
   "cell_type": "code",
   "execution_count": 48,
   "metadata": {
    "scrolled": true
   },
   "outputs": [
    {
     "data": {
      "text/html": [
       "<div>\n",
       "<style scoped>\n",
       "    .dataframe tbody tr th:only-of-type {\n",
       "        vertical-align: middle;\n",
       "    }\n",
       "\n",
       "    .dataframe tbody tr th {\n",
       "        vertical-align: top;\n",
       "    }\n",
       "\n",
       "    .dataframe thead th {\n",
       "        text-align: right;\n",
       "    }\n",
       "</style>\n",
       "<table border=\"1\" class=\"dataframe\">\n",
       "  <thead>\n",
       "    <tr style=\"text-align: right;\">\n",
       "      <th></th>\n",
       "      <th>84119</th>\n",
       "      <th>84106</th>\n",
       "      <th>84401</th>\n",
       "      <th>84116</th>\n",
       "      <th>84118</th>\n",
       "      <th>84115</th>\n",
       "      <th>84102</th>\n",
       "      <th>84105</th>\n",
       "      <th>84044</th>\n",
       "      <th>84104</th>\n",
       "      <th>84111</th>\n",
       "      <th>84101</th>\n",
       "      <th>84757</th>\n",
       "    </tr>\n",
       "    <tr>\n",
       "      <th>Date</th>\n",
       "      <th></th>\n",
       "      <th></th>\n",
       "      <th></th>\n",
       "      <th></th>\n",
       "      <th></th>\n",
       "      <th></th>\n",
       "      <th></th>\n",
       "      <th></th>\n",
       "      <th></th>\n",
       "      <th></th>\n",
       "      <th></th>\n",
       "      <th></th>\n",
       "      <th></th>\n",
       "    </tr>\n",
       "  </thead>\n",
       "  <tbody>\n",
       "    <tr>\n",
       "      <th>2008-04-01</th>\n",
       "      <td>196200.0</td>\n",
       "      <td>271100.0</td>\n",
       "      <td>161100.0</td>\n",
       "      <td>181400.0</td>\n",
       "      <td>197600.0</td>\n",
       "      <td>189600.0</td>\n",
       "      <td>273400.0</td>\n",
       "      <td>305000.0</td>\n",
       "      <td>182900.0</td>\n",
       "      <td>151600.0</td>\n",
       "      <td>196500.0</td>\n",
       "      <td>141400.0</td>\n",
       "      <td>384100.0</td>\n",
       "    </tr>\n",
       "    <tr>\n",
       "      <th>2008-05-01</th>\n",
       "      <td>196200.0</td>\n",
       "      <td>271200.0</td>\n",
       "      <td>162300.0</td>\n",
       "      <td>181100.0</td>\n",
       "      <td>197700.0</td>\n",
       "      <td>188500.0</td>\n",
       "      <td>273000.0</td>\n",
       "      <td>304600.0</td>\n",
       "      <td>183000.0</td>\n",
       "      <td>152800.0</td>\n",
       "      <td>195200.0</td>\n",
       "      <td>139900.0</td>\n",
       "      <td>377700.0</td>\n",
       "    </tr>\n",
       "    <tr>\n",
       "      <th>2008-06-01</th>\n",
       "      <td>196100.0</td>\n",
       "      <td>270600.0</td>\n",
       "      <td>163300.0</td>\n",
       "      <td>180600.0</td>\n",
       "      <td>197200.0</td>\n",
       "      <td>187700.0</td>\n",
       "      <td>272900.0</td>\n",
       "      <td>303600.0</td>\n",
       "      <td>182900.0</td>\n",
       "      <td>153400.0</td>\n",
       "      <td>194600.0</td>\n",
       "      <td>139400.0</td>\n",
       "      <td>372400.0</td>\n",
       "    </tr>\n",
       "    <tr>\n",
       "      <th>2008-07-01</th>\n",
       "      <td>195400.0</td>\n",
       "      <td>269200.0</td>\n",
       "      <td>163600.0</td>\n",
       "      <td>180200.0</td>\n",
       "      <td>195900.0</td>\n",
       "      <td>187100.0</td>\n",
       "      <td>272400.0</td>\n",
       "      <td>302400.0</td>\n",
       "      <td>182700.0</td>\n",
       "      <td>153200.0</td>\n",
       "      <td>194400.0</td>\n",
       "      <td>139900.0</td>\n",
       "      <td>368800.0</td>\n",
       "    </tr>\n",
       "    <tr>\n",
       "      <th>2008-08-01</th>\n",
       "      <td>194200.0</td>\n",
       "      <td>267300.0</td>\n",
       "      <td>163300.0</td>\n",
       "      <td>179300.0</td>\n",
       "      <td>194100.0</td>\n",
       "      <td>186400.0</td>\n",
       "      <td>270800.0</td>\n",
       "      <td>300900.0</td>\n",
       "      <td>182100.0</td>\n",
       "      <td>152200.0</td>\n",
       "      <td>194100.0</td>\n",
       "      <td>140800.0</td>\n",
       "      <td>365300.0</td>\n",
       "    </tr>\n",
       "  </tbody>\n",
       "</table>\n",
       "</div>"
      ],
      "text/plain": [
       "               84119     84106     84401     84116     84118     84115  \\\n",
       "Date                                                                     \n",
       "2008-04-01  196200.0  271100.0  161100.0  181400.0  197600.0  189600.0   \n",
       "2008-05-01  196200.0  271200.0  162300.0  181100.0  197700.0  188500.0   \n",
       "2008-06-01  196100.0  270600.0  163300.0  180600.0  197200.0  187700.0   \n",
       "2008-07-01  195400.0  269200.0  163600.0  180200.0  195900.0  187100.0   \n",
       "2008-08-01  194200.0  267300.0  163300.0  179300.0  194100.0  186400.0   \n",
       "\n",
       "               84102     84105     84044     84104     84111     84101  \\\n",
       "Date                                                                     \n",
       "2008-04-01  273400.0  305000.0  182900.0  151600.0  196500.0  141400.0   \n",
       "2008-05-01  273000.0  304600.0  183000.0  152800.0  195200.0  139900.0   \n",
       "2008-06-01  272900.0  303600.0  182900.0  153400.0  194600.0  139400.0   \n",
       "2008-07-01  272400.0  302400.0  182700.0  153200.0  194400.0  139900.0   \n",
       "2008-08-01  270800.0  300900.0  182100.0  152200.0  194100.0  140800.0   \n",
       "\n",
       "               84757  \n",
       "Date                  \n",
       "2008-04-01  384100.0  \n",
       "2008-05-01  377700.0  \n",
       "2008-06-01  372400.0  \n",
       "2008-07-01  368800.0  \n",
       "2008-08-01  365300.0  "
      ]
     },
     "execution_count": 48,
     "metadata": {},
     "output_type": "execute_result"
    }
   ],
   "source": [
    "zip_df = pd.DataFrame(TS)\n",
    "zip_df.head()"
   ]
  },
  {
   "cell_type": "markdown",
   "metadata": {},
   "source": [
    "### Modeling\n",
    "\n",
    "##### We will construct a model manually first."
   ]
  },
  {
   "cell_type": "code",
   "execution_count": 49,
   "metadata": {},
   "outputs": [],
   "source": [
    "zip_one = '84119'"
   ]
  },
  {
   "cell_type": "code",
   "execution_count": 50,
   "metadata": {
    "scrolled": true
   },
   "outputs": [
    {
     "data": {
      "image/png": "[encoded data removed]",
      "text/plain": [
       "<Figure size 432x288 with 1 Axes>"
      ]
     },
     "metadata": {
      "needs_background": "light"
     },
     "output_type": "display_data"
    }
   ],
   "source": [
    "ts = zip_df[zip_one].copy()\n",
    "ax = ts.plot()\n",
    "ax.legend()\n",
    "plt.show()"
   ]
  },
  {
   "cell_type": "code",
   "execution_count": 51,
   "metadata": {},
   "outputs": [],
   "source": [
    "def plot_acf_pacf(ts, figsize=(10,8),lags=24):\n",
    "    \n",
    "    fig,ax = plt.subplots(nrows=3,\n",
    "                          figsize=figsize)\n",
    "    \n",
    "    ## Plot ts\n",
    "    ts.plot(ax=ax[0])\n",
    "    \n",
    "    ## Plot acf, pacf\n",
    "    plot_acf(ts,ax=ax[1],lags=lags)\n",
    "    plot_pacf(ts, ax=ax[2],lags=lags) \n",
    "    fig.tight_layout()\n",
    "    \n",
    "    fig.suptitle(f\"Zipcode: {ts.name}\",y=1.1,fontsize=20)\n",
    "    \n",
    "    return fig,ax"
   ]
  },
  {
   "cell_type": "code",
   "execution_count": 52,
   "metadata": {},
   "outputs": [
    {
     "data": {
      "image/png": "[encoded data removed]",
      "text/plain": [
       "<Figure size 720x576 with 3 Axes>"
      ]
     },
     "metadata": {
      "needs_background": "light"
     },
     "output_type": "display_data"
    }
   ],
   "source": [
    "plot_acf_pacf(ts,lags=20);"
   ]
  },
  {
   "cell_type": "code",
   "execution_count": 53,
   "metadata": {
    "scrolled": true
   },
   "outputs": [
    {
     "data": {
      "image/png": "[encoded data removed]",
      "text/plain": [
       "<Figure size 720x576 with 3 Axes>"
      ]
     },
     "metadata": {
      "needs_background": "light"
     },
     "output_type": "display_data"
    }
   ],
   "source": [
    "d = 1\n",
    "plot_acf_pacf(ts.diff(d).dropna(),lags=20);"
   ]
  },
  {
   "cell_type": "code",
   "execution_count": 54,
   "metadata": {},
   "outputs": [],
   "source": [
    "d = 1\n",
    "p = 1\n",
    "q = 1"
   ]
  },
  {
   "cell_type": "markdown",
   "metadata": {},
   "source": [
    "### We will now create our train test split.  We will reserve 20% of the values as the test sample."
   ]
  },
  {
   "cell_type": "code",
   "execution_count": 55,
   "metadata": {},
   "outputs": [
    {
     "data": {
      "image/png": "[encoded data removed]",
      "text/plain": [
       "<Figure size 432x288 with 1 Axes>"
      ]
     },
     "metadata": {
      "needs_background": "light"
     },
     "output_type": "display_data"
    }
   ],
   "source": [
    "train_size = 0.8\n",
    "split_idx = round(len(ts)* train_size)\n",
    "split_idx\n",
    "\n",
    "## Split\n",
    "train = ts.iloc[:split_idx]\n",
    "test = ts.iloc[split_idx:]\n",
    "\n",
    "## Visualize split\n",
    "fig,ax= plt.subplots()\n",
    "kws = dict(ax=ax,marker='o')\n",
    "train.plot(**kws)\n",
    "test.plot(**kws)\n",
    "ax.legend(bbox_to_anchor=[1,1])\n",
    "plt.show()"
   ]
  },
  {
   "cell_type": "code",
   "execution_count": 56,
   "metadata": {},
   "outputs": [
    {
     "data": {
      "text/html": [
       "<table class=\"simpletable\">\n",
       "<caption>SARIMAX Results</caption>\n",
       "<tr>\n",
       "  <th>Dep. Variable:</th>         <td>84119</td>      <th>  No. Observations:  </th>    <td>97</td>   \n",
       "</tr>\n",
       "<tr>\n",
       "  <th>Model:</th>           <td>SARIMAX(1, 1, 1)</td> <th>  Log Likelihood     </th> <td>-848.271</td>\n",
       "</tr>\n",
       "<tr>\n",
       "  <th>Date:</th>            <td>Wed, 25 Jan 2023</td> <th>  AIC                </th> <td>1702.542</td>\n",
       "</tr>\n",
       "<tr>\n",
       "  <th>Time:</th>                <td>16:48:48</td>     <th>  BIC                </th> <td>1710.235</td>\n",
       "</tr>\n",
       "<tr>\n",
       "  <th>Sample:</th>             <td>04-01-2008</td>    <th>  HQIC               </th> <td>1705.652</td>\n",
       "</tr>\n",
       "<tr>\n",
       "  <th></th>                   <td>- 04-01-2016</td>   <th>                     </th>     <td> </td>   \n",
       "</tr>\n",
       "<tr>\n",
       "  <th>Covariance Type:</th>        <td>opg</td>       <th>                     </th>     <td> </td>   \n",
       "</tr>\n",
       "</table>\n",
       "<table class=\"simpletable\">\n",
       "<tr>\n",
       "     <td></td>       <th>coef</th>     <th>std err</th>      <th>z</th>      <th>P>|z|</th>  <th>[0.025</th>    <th>0.975]</th>  \n",
       "</tr>\n",
       "<tr>\n",
       "  <th>ar.L1</th>  <td>    0.9999</td> <td>    2.394</td> <td>    0.418</td> <td> 0.676</td> <td>   -3.693</td> <td>    5.693</td>\n",
       "</tr>\n",
       "<tr>\n",
       "  <th>ma.L1</th>  <td>   -0.9999</td> <td>    2.432</td> <td>   -0.411</td> <td> 0.681</td> <td>   -5.767</td> <td>    3.767</td>\n",
       "</tr>\n",
       "<tr>\n",
       "  <th>sigma2</th> <td> 2.784e+06</td> <td> 1.02e-05</td> <td> 2.73e+11</td> <td> 0.000</td> <td> 2.78e+06</td> <td> 2.78e+06</td>\n",
       "</tr>\n",
       "</table>\n",
       "<table class=\"simpletable\">\n",
       "<tr>\n",
       "  <th>Ljung-Box (L1) (Q):</th>     <td>80.77</td> <th>  Jarque-Bera (JB):  </th> <td>6.26</td> \n",
       "</tr>\n",
       "<tr>\n",
       "  <th>Prob(Q):</th>                <td>0.00</td>  <th>  Prob(JB):          </th> <td>0.04</td> \n",
       "</tr>\n",
       "<tr>\n",
       "  <th>Heteroskedasticity (H):</th> <td>0.97</td>  <th>  Skew:              </th> <td>-0.62</td>\n",
       "</tr>\n",
       "<tr>\n",
       "  <th>Prob(H) (two-sided):</th>    <td>0.92</td>  <th>  Kurtosis:          </th> <td>3.08</td> \n",
       "</tr>\n",
       "</table><br/><br/>Warnings:<br/>[1] Covariance matrix calculated using the outer product of gradients (complex-step).<br/>[2] Covariance matrix is singular or near-singular, with condition number 1.47e+27. Standard errors may be unstable."
      ],
      "text/plain": [
       "<class 'statsmodels.iolib.summary.Summary'>\n",
       "\"\"\"\n",
       "                               SARIMAX Results                                \n",
       "==============================================================================\n",
       "Dep. Variable:                  84119   No. Observations:                   97\n",
       "Model:               SARIMAX(1, 1, 1)   Log Likelihood                -848.271\n",
       "Date:                Wed, 25 Jan 2023   AIC                           1702.542\n",
       "Time:                        16:48:48   BIC                           1710.235\n",
       "Sample:                    04-01-2008   HQIC                          1705.652\n",
       "                         - 04-01-2016                                         \n",
       "Covariance Type:                  opg                                         \n",
       "==============================================================================\n",
       "                 coef    std err          z      P>|z|      [0.025      0.975]\n",
       "------------------------------------------------------------------------------\n",
       "ar.L1          0.9999      2.394      0.418      0.676      -3.693       5.693\n",
       "ma.L1         -0.9999      2.432     -0.411      0.681      -5.767       3.767\n",
       "sigma2      2.784e+06   1.02e-05   2.73e+11      0.000    2.78e+06    2.78e+06\n",
       "===================================================================================\n",
       "Ljung-Box (L1) (Q):                  80.77   Jarque-Bera (JB):                 6.26\n",
       "Prob(Q):                              0.00   Prob(JB):                         0.04\n",
       "Heteroskedasticity (H):               0.97   Skew:                            -0.62\n",
       "Prob(H) (two-sided):                  0.92   Kurtosis:                         3.08\n",
       "===================================================================================\n",
       "\n",
       "Warnings:\n",
       "[1] Covariance matrix calculated using the outer product of gradients (complex-step).\n",
       "[2] Covariance matrix is singular or near-singular, with condition number 1.47e+27. Standard errors may be unstable.\n",
       "\"\"\""
      ]
     },
     "metadata": {},
     "output_type": "display_data"
    },
    {
     "data": {
      "image/png": "[encoded data removed]",
      "text/plain": [
       "<Figure size 432x288 with 4 Axes>"
      ]
     },
     "metadata": {
      "needs_background": "light"
     },
     "output_type": "display_data"
    }
   ],
   "source": [
    "model = SARIMAX(train,order=(p,d,q)).fit()\n",
    "display(model.summary())\n",
    "model.plot_diagnostics();\n",
    "plt.show()"
   ]
  },
  {
   "cell_type": "code",
   "execution_count": 57,
   "metadata": {},
   "outputs": [],
   "source": [
    "forecast = model.get_forecast(steps=len(test))"
   ]
  },
  {
   "cell_type": "code",
   "execution_count": 58,
   "metadata": {},
   "outputs": [],
   "source": [
    "def forecast_to_df(forecast,zipcode):\n",
    "    test_pred = forecast.conf_int()\n",
    "    test_pred[zipcode] = forecast.predicted_mean\n",
    "    test_pred.columns = ['lower','upper','prediction']\n",
    "    return test_pred\n",
    "\n",
    "\n",
    "pred_df = forecast_to_df(forecast,zipcode)"
   ]
  },
  {
   "cell_type": "code",
   "execution_count": 59,
   "metadata": {},
   "outputs": [],
   "source": [
    "def plot_train_test_pred(train,test,pred_df):\n",
    "    fig,ax = plt.subplots()\n",
    "    kws = dict(marker='o')\n",
    "    \n",
    "    ax.plot(train,label='Train',**kws)\n",
    "    ax.plot(test,label='Test',**kws)\n",
    "    ax.plot(pred_df['prediction'],label='prediction',ls='--',**kws)\n",
    "\n",
    "    ax.fill_between(x=pred_df.index,y1=pred_df['lower'],y2=pred_df['upper'])\n",
    "    ax.legend(bbox_to_anchor=[1,1])\n",
    "    fig.tight_layout()\n",
    "    return fig,ax"
   ]
  },
  {
   "cell_type": "code",
   "execution_count": 60,
   "metadata": {
    "scrolled": true
   },
   "outputs": [
    {
     "data": {
      "image/png": "[encoded data removed]",
      "text/plain": [
       "<Figure size 432x288 with 1 Axes>"
      ]
     },
     "metadata": {
      "needs_background": "light"
     },
     "output_type": "display_data"
    }
   ],
   "source": [
    "plot_train_test_pred(train,test,pred_df)\n",
    "plt.show()"
   ]
  },
  {
   "cell_type": "markdown",
   "metadata": {},
   "source": [
    "#### Here we will get the parameters from pmdarima, as building the model from scratch has not given us an optimal model."
   ]
  },
  {
   "cell_type": "code",
   "execution_count": 61,
   "metadata": {},
   "outputs": [],
   "source": [
    "# https://alkaline-ml.com/pmdarima/setup.html\n",
    "from pmdarima.arima import auto_arima"
   ]
  },
  {
   "cell_type": "code",
   "execution_count": 62,
   "metadata": {},
   "outputs": [
    {
     "name": "stdout",
     "output_type": "stream",
     "text": [
      "Performing stepwise search to minimize aic\n",
      " ARIMA(0,0,0)(0,0,0)[0]             : AIC=2614.624, Time=0.02 sec\n",
      " ARIMA(1,0,0)(0,0,0)[0]             : AIC=inf, Time=0.02 sec\n",
      " ARIMA(0,0,1)(0,0,0)[0]             : AIC=2546.769, Time=0.04 sec\n",
      " ARIMA(1,0,1)(0,0,0)[0]             : AIC=inf, Time=0.08 sec\n",
      " ARIMA(0,0,2)(0,0,0)[0]             : AIC=2531.457, Time=0.05 sec\n",
      " ARIMA(1,0,2)(0,0,0)[0]             : AIC=1531.474, Time=0.20 sec\n",
      " ARIMA(2,0,2)(0,0,0)[0]             : AIC=inf, Time=0.32 sec\n",
      " ARIMA(1,0,3)(0,0,0)[0]             : AIC=1505.435, Time=0.29 sec\n",
      " ARIMA(0,0,3)(0,0,0)[0]             : AIC=2528.085, Time=0.05 sec\n",
      " ARIMA(2,0,3)(0,0,0)[0]             : AIC=inf, Time=0.31 sec\n",
      " ARIMA(1,0,4)(0,0,0)[0]             : AIC=1494.998, Time=0.33 sec\n",
      " ARIMA(0,0,4)(0,0,0)[0]             : AIC=2527.716, Time=0.06 sec\n",
      " ARIMA(2,0,4)(0,0,0)[0]             : AIC=1499.948, Time=0.41 sec\n",
      " ARIMA(1,0,5)(0,0,0)[0]             : AIC=inf, Time=0.36 sec\n",
      " ARIMA(0,0,5)(0,0,0)[0]             : AIC=2528.666, Time=0.07 sec\n",
      " ARIMA(2,0,5)(0,0,0)[0]             : AIC=inf, Time=0.38 sec\n",
      " ARIMA(1,0,4)(0,0,0)[0] intercept   : AIC=inf, Time=0.36 sec\n",
      "\n",
      "Best model:  ARIMA(1,0,4)(0,0,0)[0]          \n",
      "Total fit time: 3.379 seconds\n",
      "                               SARIMAX Results                                \n",
      "==============================================================================\n",
      "Dep. Variable:                      y   No. Observations:                   97\n",
      "Model:               SARIMAX(1, 0, 4)   Log Likelihood                -741.499\n",
      "Date:                Wed, 25 Jan 2023   AIC                           1494.998\n",
      "Time:                        16:48:53   BIC                           1510.446\n",
      "Sample:                    04-01-2008   HQIC                          1501.244\n",
      "                         - 04-01-2016                                         \n",
      "Covariance Type:                  opg                                         \n",
      "==============================================================================\n",
      "                 coef    std err          z      P>|z|      [0.025      0.975]\n",
      "------------------------------------------------------------------------------\n",
      "ar.L1          1.0000    3.1e-07   3.23e+06      0.000       1.000       1.000\n",
      "ma.L1          1.9855      0.114     17.381      0.000       1.762       2.209\n",
      "ma.L2          1.9646      0.240      8.198      0.000       1.495       2.434\n",
      "ma.L3          1.1137      0.244      4.570      0.000       0.636       1.591\n",
      "ma.L4          0.3795      0.122      3.104      0.002       0.140       0.619\n",
      "sigma2      2.141e+05   1.78e-06    1.2e+11      0.000    2.14e+05    2.14e+05\n",
      "===================================================================================\n",
      "Ljung-Box (L1) (Q):                   0.96   Jarque-Bera (JB):                20.95\n",
      "Prob(Q):                              0.33   Prob(JB):                         0.00\n",
      "Heteroskedasticity (H):               1.69   Skew:                            -0.36\n",
      "Prob(H) (two-sided):                  0.14   Kurtosis:                         5.16\n",
      "===================================================================================\n",
      "\n",
      "Warnings:\n",
      "[1] Covariance matrix calculated using the outer product of gradients (complex-step).\n",
      "[2] Covariance matrix is singular or near-singular, with condition number 3.74e+26. Standard errors may be unstable.\n"
     ]
    }
   ],
   "source": [
    "auto_model = auto_arima(train, start_p=0, start_q=0,\n",
    "                     test='adf',\n",
    "                     max_p=5, max_q=5,\n",
    "                     m=1,\n",
    "                     d=0,\n",
    "                     seasonal = True,\n",
    "                     start_P=0,start_Q=0,\n",
    "                     D=0,\n",
    "                     trace=True,\n",
    "                     error_action= 'ignore',\n",
    "                     suppress_warnings=True,\n",
    "                     stepwise=True,with_intercept=False)\n",
    "\n",
    "\n",
    "\n",
    "print(auto_model.summary())"
   ]
  },
  {
   "cell_type": "code",
   "execution_count": 63,
   "metadata": {},
   "outputs": [
    {
     "data": {
      "text/plain": [
       "(1, 0, 4)"
      ]
     },
     "execution_count": 63,
     "metadata": {},
     "output_type": "execute_result"
    }
   ],
   "source": [
    "auto_model.order"
   ]
  },
  {
   "cell_type": "code",
   "execution_count": 64,
   "metadata": {
    "scrolled": true
   },
   "outputs": [
    {
     "data": {
      "text/plain": [
       "(0, 0, 0, 0)"
      ]
     },
     "execution_count": 64,
     "metadata": {},
     "output_type": "execute_result"
    }
   ],
   "source": [
    "auto_model.seasonal_order"
   ]
  },
  {
   "cell_type": "code",
   "execution_count": 65,
   "metadata": {
    "scrolled": true
   },
   "outputs": [
    {
     "name": "stdout",
     "output_type": "stream",
     "text": [
      "==============================================================================\n",
      "                 coef    std err          z      P>|z|      [0.025      0.975]\n",
      "------------------------------------------------------------------------------\n",
      "ar.L1          1.0004      0.002    466.802      0.000       0.996       1.005\n",
      "ma.L1          2.2639      0.153     14.757      0.000       1.963       2.565\n",
      "ma.L2          2.4323      0.287      8.467      0.000       1.869       2.995\n",
      "ma.L3          1.4953      0.267      5.598      0.000       0.972       2.019\n",
      "ma.L4          0.6292      0.121      5.181      0.000       0.391       0.867\n",
      "sigma2      1.636e+05   3.07e+04      5.330      0.000    1.03e+05    2.24e+05\n",
      "==============================================================================\n"
     ]
    },
    {
     "data": {
      "image/png": "[encoded data removed]",
      "text/plain": [
       "<Figure size 1296x1296 with 4 Axes>"
      ]
     },
     "metadata": {
      "needs_background": "light"
     },
     "output_type": "display_data"
    }
   ],
   "source": [
    "arima_model = sm.tsa.statespace.SARIMAX(train, \n",
    "                                        order=(1,0,4), \n",
    "                                        seasonal_order=(0, 0, 0, 0), \n",
    "                                        enforce_stationarity=False, \n",
    "                                        enforce_invertibility=False)\n",
    "\n",
    "# Fit the model and print results\n",
    "output = arima_model.fit()\n",
    "\n",
    "print(output.summary().tables[1])\n",
    "auto_model.plot_diagnostics(figsize=(18,18))\n",
    "plt.show()"
   ]
  },
  {
   "cell_type": "code",
   "execution_count": 66,
   "metadata": {},
   "outputs": [
    {
     "data": {
      "text/plain": [
       "Timestamp('2016-04-01 00:00:00')"
      ]
     },
     "execution_count": 66,
     "metadata": {},
     "output_type": "execute_result"
    }
   ],
   "source": [
    "train.index[-1]"
   ]
  },
  {
   "cell_type": "code",
   "execution_count": 67,
   "metadata": {
    "scrolled": true
   },
   "outputs": [
    {
     "data": {
      "text/html": [
       "<div>\n",
       "<style scoped>\n",
       "    .dataframe tbody tr th:only-of-type {\n",
       "        vertical-align: middle;\n",
       "    }\n",
       "\n",
       "    .dataframe tbody tr th {\n",
       "        vertical-align: top;\n",
       "    }\n",
       "\n",
       "    .dataframe thead th {\n",
       "        text-align: right;\n",
       "    }\n",
       "</style>\n",
       "<table border=\"1\" class=\"dataframe\">\n",
       "  <thead>\n",
       "    <tr style=\"text-align: right;\">\n",
       "      <th></th>\n",
       "      <th>lower 84119</th>\n",
       "      <th>upper 84119</th>\n",
       "    </tr>\n",
       "  </thead>\n",
       "  <tbody>\n",
       "    <tr>\n",
       "      <th>2016-04-01</th>\n",
       "      <td>194944.307285</td>\n",
       "      <td>196723.524059</td>\n",
       "    </tr>\n",
       "    <tr>\n",
       "      <th>2016-05-01</th>\n",
       "      <td>197115.532681</td>\n",
       "      <td>198894.748843</td>\n",
       "    </tr>\n",
       "    <tr>\n",
       "      <th>2016-06-01</th>\n",
       "      <td>196380.954079</td>\n",
       "      <td>202111.321712</td>\n",
       "    </tr>\n",
       "    <tr>\n",
       "      <th>2016-07-01</th>\n",
       "      <td>194550.808552</td>\n",
       "      <td>205406.639865</td>\n",
       "    </tr>\n",
       "    <tr>\n",
       "      <th>2016-08-01</th>\n",
       "      <td>192479.636284</td>\n",
       "      <td>208306.184390</td>\n",
       "    </tr>\n",
       "    <tr>\n",
       "      <th>2016-09-01</th>\n",
       "      <td>190418.591935</td>\n",
       "      <td>210530.474743</td>\n",
       "    </tr>\n",
       "    <tr>\n",
       "      <th>2016-10-01</th>\n",
       "      <td>188738.601843</td>\n",
       "      <td>212373.777332</td>\n",
       "    </tr>\n",
       "    <tr>\n",
       "      <th>2016-11-01</th>\n",
       "      <td>187287.965256</td>\n",
       "      <td>213987.792936</td>\n",
       "    </tr>\n",
       "    <tr>\n",
       "      <th>2016-12-01</th>\n",
       "      <td>185994.913717</td>\n",
       "      <td>215444.290038</td>\n",
       "    </tr>\n",
       "    <tr>\n",
       "      <th>2017-01-01</th>\n",
       "      <td>184818.738281</td>\n",
       "      <td>216783.977610</td>\n",
       "    </tr>\n",
       "    <tr>\n",
       "      <th>2017-02-01</th>\n",
       "      <td>183733.707238</td>\n",
       "      <td>218032.587392</td>\n",
       "    </tr>\n",
       "    <tr>\n",
       "      <th>2017-03-01</th>\n",
       "      <td>182722.328801</td>\n",
       "      <td>219207.611195</td>\n",
       "    </tr>\n",
       "    <tr>\n",
       "      <th>2017-04-01</th>\n",
       "      <td>181772.071905</td>\n",
       "      <td>220321.580112</td>\n",
       "    </tr>\n",
       "    <tr>\n",
       "      <th>2017-05-01</th>\n",
       "      <td>180873.595408</td>\n",
       "      <td>221383.835313</td>\n",
       "    </tr>\n",
       "    <tr>\n",
       "      <th>2017-06-01</th>\n",
       "      <td>180019.715500</td>\n",
       "      <td>222401.560634</td>\n",
       "    </tr>\n",
       "    <tr>\n",
       "      <th>2017-07-01</th>\n",
       "      <td>179204.766809</td>\n",
       "      <td>223380.421474</td>\n",
       "    </tr>\n",
       "    <tr>\n",
       "      <th>2017-08-01</th>\n",
       "      <td>178424.187934</td>\n",
       "      <td>224324.979263</td>\n",
       "    </tr>\n",
       "    <tr>\n",
       "      <th>2017-09-01</th>\n",
       "      <td>177674.241984</td>\n",
       "      <td>225238.970918</td>\n",
       "    </tr>\n",
       "    <tr>\n",
       "      <th>2017-10-01</th>\n",
       "      <td>176951.821972</td>\n",
       "      <td>226125.503453</td>\n",
       "    </tr>\n",
       "    <tr>\n",
       "      <th>2017-11-01</th>\n",
       "      <td>176254.311560</td>\n",
       "      <td>226987.193233</td>\n",
       "    </tr>\n",
       "    <tr>\n",
       "      <th>2017-12-01</th>\n",
       "      <td>175579.483032</td>\n",
       "      <td>227826.268002</td>\n",
       "    </tr>\n",
       "    <tr>\n",
       "      <th>2018-01-01</th>\n",
       "      <td>174925.421032</td>\n",
       "      <td>228644.643143</td>\n",
       "    </tr>\n",
       "    <tr>\n",
       "      <th>2018-02-01</th>\n",
       "      <td>174290.464518</td>\n",
       "      <td>229443.979726</td>\n",
       "    </tr>\n",
       "    <tr>\n",
       "      <th>2018-03-01</th>\n",
       "      <td>173673.161886</td>\n",
       "      <td>230225.729380</td>\n",
       "    </tr>\n",
       "    <tr>\n",
       "      <th>2018-04-01</th>\n",
       "      <td>173072.235794</td>\n",
       "      <td>230991.169476</td>\n",
       "    </tr>\n",
       "  </tbody>\n",
       "</table>\n",
       "</div>"
      ],
      "text/plain": [
       "              lower 84119    upper 84119\n",
       "2016-04-01  194944.307285  196723.524059\n",
       "2016-05-01  197115.532681  198894.748843\n",
       "2016-06-01  196380.954079  202111.321712\n",
       "2016-07-01  194550.808552  205406.639865\n",
       "2016-08-01  192479.636284  208306.184390\n",
       "2016-09-01  190418.591935  210530.474743\n",
       "2016-10-01  188738.601843  212373.777332\n",
       "2016-11-01  187287.965256  213987.792936\n",
       "2016-12-01  185994.913717  215444.290038\n",
       "2017-01-01  184818.738281  216783.977610\n",
       "2017-02-01  183733.707238  218032.587392\n",
       "2017-03-01  182722.328801  219207.611195\n",
       "2017-04-01  181772.071905  220321.580112\n",
       "2017-05-01  180873.595408  221383.835313\n",
       "2017-06-01  180019.715500  222401.560634\n",
       "2017-07-01  179204.766809  223380.421474\n",
       "2017-08-01  178424.187934  224324.979263\n",
       "2017-09-01  177674.241984  225238.970918\n",
       "2017-10-01  176951.821972  226125.503453\n",
       "2017-11-01  176254.311560  226987.193233\n",
       "2017-12-01  175579.483032  227826.268002\n",
       "2018-01-01  174925.421032  228644.643143\n",
       "2018-02-01  174290.464518  229443.979726\n",
       "2018-03-01  173673.161886  230225.729380\n",
       "2018-04-01  173072.235794  230991.169476"
      ]
     },
     "execution_count": 67,
     "metadata": {},
     "output_type": "execute_result"
    }
   ],
   "source": [
    "pred = output.get_prediction(start=pd.to_datetime('2016-04'), end=pd.to_datetime('2018-04'), dynamic=False)\n",
    "pred_conf = pred.conf_int()\n",
    "pred_conf"
   ]
  },
  {
   "cell_type": "code",
   "execution_count": 68,
   "metadata": {
    "scrolled": true
   },
   "outputs": [
    {
     "data": {
      "text/plain": [
       "{'maxiter': 50,\n",
       " 'method': 'lbfgs',\n",
       " 'order': (1, 0, 4),\n",
       " 'out_of_sample_size': 0,\n",
       " 'scoring': 'mse',\n",
       " 'scoring_args': {},\n",
       " 'seasonal_order': (0, 0, 0, 0),\n",
       " 'start_params': None,\n",
       " 'suppress_warnings': True,\n",
       " 'trend': None,\n",
       " 'with_intercept': False}"
      ]
     },
     "execution_count": 68,
     "metadata": {},
     "output_type": "execute_result"
    }
   ],
   "source": [
    "auto_model.get_params()"
   ]
  },
  {
   "cell_type": "markdown",
   "metadata": {},
   "source": [
    "#### Now that we have the best parameters, we will now input those into a SARIMAX model, since the data does not show stationarity."
   ]
  },
  {
   "cell_type": "code",
   "execution_count": 69,
   "metadata": {},
   "outputs": [
    {
     "data": {
      "text/html": [
       "<table class=\"simpletable\">\n",
       "<caption>SARIMAX Results</caption>\n",
       "<tr>\n",
       "  <th>Dep. Variable:</th>         <td>84119</td>      <th>  No. Observations:  </th>    <td>121</td>  \n",
       "</tr>\n",
       "<tr>\n",
       "  <th>Model:</th>           <td>SARIMAX(1, 0, 4)</td> <th>  Log Likelihood     </th> <td>-963.153</td>\n",
       "</tr>\n",
       "<tr>\n",
       "  <th>Date:</th>            <td>Wed, 25 Jan 2023</td> <th>  AIC                </th> <td>1938.305</td>\n",
       "</tr>\n",
       "<tr>\n",
       "  <th>Time:</th>                <td>16:48:55</td>     <th>  BIC                </th> <td>1955.080</td>\n",
       "</tr>\n",
       "<tr>\n",
       "  <th>Sample:</th>             <td>04-01-2008</td>    <th>  HQIC               </th> <td>1945.118</td>\n",
       "</tr>\n",
       "<tr>\n",
       "  <th></th>                   <td>- 04-01-2018</td>   <th>                     </th>     <td> </td>   \n",
       "</tr>\n",
       "<tr>\n",
       "  <th>Covariance Type:</th>        <td>opg</td>       <th>                     </th>     <td> </td>   \n",
       "</tr>\n",
       "</table>\n",
       "<table class=\"simpletable\">\n",
       "<tr>\n",
       "     <td></td>       <th>coef</th>     <th>std err</th>      <th>z</th>      <th>P>|z|</th>  <th>[0.025</th>    <th>0.975]</th>  \n",
       "</tr>\n",
       "<tr>\n",
       "  <th>ar.L1</th>  <td>    1.0000</td> <td> 5.35e-07</td> <td> 1.87e+06</td> <td> 0.000</td> <td>    1.000</td> <td>    1.000</td>\n",
       "</tr>\n",
       "<tr>\n",
       "  <th>ma.L1</th>  <td>    1.8756</td> <td>    0.101</td> <td>   18.596</td> <td> 0.000</td> <td>    1.678</td> <td>    2.073</td>\n",
       "</tr>\n",
       "<tr>\n",
       "  <th>ma.L2</th>  <td>    1.6288</td> <td>    0.206</td> <td>    7.904</td> <td> 0.000</td> <td>    1.225</td> <td>    2.033</td>\n",
       "</tr>\n",
       "<tr>\n",
       "  <th>ma.L3</th>  <td>    0.6649</td> <td>    0.213</td> <td>    3.128</td> <td> 0.002</td> <td>    0.248</td> <td>    1.081</td>\n",
       "</tr>\n",
       "<tr>\n",
       "  <th>ma.L4</th>  <td>   -0.0789</td> <td>    0.108</td> <td>   -0.729</td> <td> 0.466</td> <td>   -0.291</td> <td>    0.133</td>\n",
       "</tr>\n",
       "<tr>\n",
       "  <th>sigma2</th> <td>  4.17e+05</td> <td> 4.24e-07</td> <td> 9.83e+11</td> <td> 0.000</td> <td> 4.17e+05</td> <td> 4.17e+05</td>\n",
       "</tr>\n",
       "</table>\n",
       "<table class=\"simpletable\">\n",
       "<tr>\n",
       "  <th>Ljung-Box (L1) (Q):</th>     <td>0.04</td> <th>  Jarque-Bera (JB):  </th> <td>5.87</td>\n",
       "</tr>\n",
       "<tr>\n",
       "  <th>Prob(Q):</th>                <td>0.84</td> <th>  Prob(JB):          </th> <td>0.05</td>\n",
       "</tr>\n",
       "<tr>\n",
       "  <th>Heteroskedasticity (H):</th> <td>3.40</td> <th>  Skew:              </th> <td>0.30</td>\n",
       "</tr>\n",
       "<tr>\n",
       "  <th>Prob(H) (two-sided):</th>    <td>0.00</td> <th>  Kurtosis:          </th> <td>3.89</td>\n",
       "</tr>\n",
       "</table><br/><br/>Warnings:<br/>[1] Covariance matrix calculated using the outer product of gradients (complex-step).<br/>[2] Covariance matrix is singular or near-singular, with condition number 1.47e+28. Standard errors may be unstable."
      ],
      "text/plain": [
       "<class 'statsmodels.iolib.summary.Summary'>\n",
       "\"\"\"\n",
       "                               SARIMAX Results                                \n",
       "==============================================================================\n",
       "Dep. Variable:                  84119   No. Observations:                  121\n",
       "Model:               SARIMAX(1, 0, 4)   Log Likelihood                -963.153\n",
       "Date:                Wed, 25 Jan 2023   AIC                           1938.305\n",
       "Time:                        16:48:55   BIC                           1955.080\n",
       "Sample:                    04-01-2008   HQIC                          1945.118\n",
       "                         - 04-01-2018                                         \n",
       "Covariance Type:                  opg                                         \n",
       "==============================================================================\n",
       "                 coef    std err          z      P>|z|      [0.025      0.975]\n",
       "------------------------------------------------------------------------------\n",
       "ar.L1          1.0000   5.35e-07   1.87e+06      0.000       1.000       1.000\n",
       "ma.L1          1.8756      0.101     18.596      0.000       1.678       2.073\n",
       "ma.L2          1.6288      0.206      7.904      0.000       1.225       2.033\n",
       "ma.L3          0.6649      0.213      3.128      0.002       0.248       1.081\n",
       "ma.L4         -0.0789      0.108     -0.729      0.466      -0.291       0.133\n",
       "sigma2       4.17e+05   4.24e-07   9.83e+11      0.000    4.17e+05    4.17e+05\n",
       "===================================================================================\n",
       "Ljung-Box (L1) (Q):                   0.04   Jarque-Bera (JB):                 5.87\n",
       "Prob(Q):                              0.84   Prob(JB):                         0.05\n",
       "Heteroskedasticity (H):               3.40   Skew:                             0.30\n",
       "Prob(H) (two-sided):                  0.00   Kurtosis:                         3.89\n",
       "===================================================================================\n",
       "\n",
       "Warnings:\n",
       "[1] Covariance matrix calculated using the outer product of gradients (complex-step).\n",
       "[2] Covariance matrix is singular or near-singular, with condition number 1.47e+28. Standard errors may be unstable.\n",
       "\"\"\""
      ]
     },
     "metadata": {},
     "output_type": "display_data"
    },
    {
     "data": {
      "image/png": "[encoded data removed]",
      "text/plain": [
       "<Figure size 432x288 with 4 Axes>"
      ]
     },
     "metadata": {
      "needs_background": "light"
     },
     "output_type": "display_data"
    }
   ],
   "source": [
    "best_model = SARIMAX(ts,order=auto_model.order,\n",
    "                     seasonal_order=auto_model.seasonal_order).fit()\n",
    "display(best_model.summary())\n",
    "best_model.plot_diagnostics();"
   ]
  },
  {
   "cell_type": "code",
   "execution_count": 70,
   "metadata": {
    "scrolled": true
   },
   "outputs": [
    {
     "data": {
      "text/plain": [
       "(<Figure size 432x288 with 1 Axes>, <AxesSubplot:>)"
      ]
     },
     "metadata": {},
     "output_type": "display_data"
    },
    {
     "data": {
      "image/png": "[encoded data removed]",
      "text/plain": [
       "<Figure size 432x288 with 1 Axes>"
      ]
     },
     "metadata": {
      "needs_background": "light"
     },
     "output_type": "display_data"
    }
   ],
   "source": [
    "pred = best_model.get_forecast(steps=12)\n",
    "pred_df = forecast_to_df(pred,zipcode)\n",
    "display(plot_train_test_pred(train,test,pred_df));\n",
    "plt.show()"
   ]
  },
  {
   "cell_type": "markdown",
   "metadata": {},
   "source": [
    "#### Now that we have a working model, we will now input the top zip codes into the model to ascertain the top five zip codes to invest in."
   ]
  },
  {
   "cell_type": "code",
   "execution_count": 71,
   "metadata": {},
   "outputs": [
    {
     "name": "stdout",
     "output_type": "stream",
     "text": [
      "84119\n"
     ]
    },
    {
     "data": {
      "text/html": [
       "<table class=\"simpletable\">\n",
       "<caption>SARIMAX Results</caption>\n",
       "<tr>\n",
       "  <th>Dep. Variable:</th>         <td>84119</td>      <th>  No. Observations:  </th>    <td>121</td>  \n",
       "</tr>\n",
       "<tr>\n",
       "  <th>Model:</th>           <td>SARIMAX(0, 2, 0)</td> <th>  Log Likelihood     </th> <td>-953.421</td>\n",
       "</tr>\n",
       "<tr>\n",
       "  <th>Date:</th>            <td>Wed, 25 Jan 2023</td> <th>  AIC                </th> <td>1908.842</td>\n",
       "</tr>\n",
       "<tr>\n",
       "  <th>Time:</th>                <td>16:48:56</td>     <th>  BIC                </th> <td>1911.622</td>\n",
       "</tr>\n",
       "<tr>\n",
       "  <th>Sample:</th>             <td>04-01-2008</td>    <th>  HQIC               </th> <td>1909.971</td>\n",
       "</tr>\n",
       "<tr>\n",
       "  <th></th>                   <td>- 04-01-2018</td>   <th>                     </th>     <td> </td>   \n",
       "</tr>\n",
       "<tr>\n",
       "  <th>Covariance Type:</th>        <td>opg</td>       <th>                     </th>     <td> </td>   \n",
       "</tr>\n",
       "</table>\n",
       "<table class=\"simpletable\">\n",
       "<tr>\n",
       "     <td></td>       <th>coef</th>     <th>std err</th>      <th>z</th>      <th>P>|z|</th>  <th>[0.025</th>    <th>0.975]</th>  \n",
       "</tr>\n",
       "<tr>\n",
       "  <th>sigma2</th> <td> 5.327e+05</td> <td> 6.82e+04</td> <td>    7.816</td> <td> 0.000</td> <td> 3.99e+05</td> <td> 6.66e+05</td>\n",
       "</tr>\n",
       "</table>\n",
       "<table class=\"simpletable\">\n",
       "<tr>\n",
       "  <th>Ljung-Box (L1) (Q):</th>     <td>24.97</td> <th>  Jarque-Bera (JB):  </th> <td>0.20</td> \n",
       "</tr>\n",
       "<tr>\n",
       "  <th>Prob(Q):</th>                <td>0.00</td>  <th>  Prob(JB):          </th> <td>0.90</td> \n",
       "</tr>\n",
       "<tr>\n",
       "  <th>Heteroskedasticity (H):</th> <td>0.89</td>  <th>  Skew:              </th> <td>-0.10</td>\n",
       "</tr>\n",
       "<tr>\n",
       "  <th>Prob(H) (two-sided):</th>    <td>0.72</td>  <th>  Kurtosis:          </th> <td>3.06</td> \n",
       "</tr>\n",
       "</table><br/><br/>Warnings:<br/>[1] Covariance matrix calculated using the outer product of gradients (complex-step)."
      ],
      "text/plain": [
       "<class 'statsmodels.iolib.summary.Summary'>\n",
       "\"\"\"\n",
       "                               SARIMAX Results                                \n",
       "==============================================================================\n",
       "Dep. Variable:                  84119   No. Observations:                  121\n",
       "Model:               SARIMAX(0, 2, 0)   Log Likelihood                -953.421\n",
       "Date:                Wed, 25 Jan 2023   AIC                           1908.842\n",
       "Time:                        16:48:56   BIC                           1911.622\n",
       "Sample:                    04-01-2008   HQIC                          1909.971\n",
       "                         - 04-01-2018                                         \n",
       "Covariance Type:                  opg                                         \n",
       "==============================================================================\n",
       "                 coef    std err          z      P>|z|      [0.025      0.975]\n",
       "------------------------------------------------------------------------------\n",
       "sigma2      5.327e+05   6.82e+04      7.816      0.000    3.99e+05    6.66e+05\n",
       "===================================================================================\n",
       "Ljung-Box (L1) (Q):                  24.97   Jarque-Bera (JB):                 0.20\n",
       "Prob(Q):                              0.00   Prob(JB):                         0.90\n",
       "Heteroskedasticity (H):               0.89   Skew:                            -0.10\n",
       "Prob(H) (two-sided):                  0.72   Kurtosis:                         3.06\n",
       "===================================================================================\n",
       "\n",
       "Warnings:\n",
       "[1] Covariance matrix calculated using the outer product of gradients (complex-step).\n",
       "\"\"\""
      ]
     },
     "metadata": {},
     "output_type": "display_data"
    },
    {
     "data": {
      "image/png": "[encoded data removed]",
      "text/plain": [
       "<Figure size 432x288 with 1 Axes>"
      ]
     },
     "metadata": {
      "needs_background": "light"
     },
     "output_type": "display_data"
    },
    {
     "name": "stdout",
     "output_type": "stream",
     "text": [
      "------------------------------------------------------------\n",
      "\n",
      "84106\n"
     ]
    },
    {
     "data": {
      "text/html": [
       "<table class=\"simpletable\">\n",
       "<caption>SARIMAX Results</caption>\n",
       "<tr>\n",
       "  <th>Dep. Variable:</th>         <td>84106</td>      <th>  No. Observations:  </th>    <td>121</td>  \n",
       "</tr>\n",
       "<tr>\n",
       "  <th>Model:</th>           <td>SARIMAX(0, 2, 0)</td> <th>  Log Likelihood     </th> <td>-995.770</td>\n",
       "</tr>\n",
       "<tr>\n",
       "  <th>Date:</th>            <td>Wed, 25 Jan 2023</td> <th>  AIC                </th> <td>1993.539</td>\n",
       "</tr>\n",
       "<tr>\n",
       "  <th>Time:</th>                <td>16:48:57</td>     <th>  BIC                </th> <td>1996.319</td>\n",
       "</tr>\n",
       "<tr>\n",
       "  <th>Sample:</th>             <td>04-01-2008</td>    <th>  HQIC               </th> <td>1994.668</td>\n",
       "</tr>\n",
       "<tr>\n",
       "  <th></th>                   <td>- 04-01-2018</td>   <th>                     </th>     <td> </td>   \n",
       "</tr>\n",
       "<tr>\n",
       "  <th>Covariance Type:</th>        <td>opg</td>       <th>                     </th>     <td> </td>   \n",
       "</tr>\n",
       "</table>\n",
       "<table class=\"simpletable\">\n",
       "<tr>\n",
       "     <td></td>       <th>coef</th>     <th>std err</th>      <th>z</th>      <th>P>|z|</th>  <th>[0.025</th>    <th>0.975]</th>  \n",
       "</tr>\n",
       "<tr>\n",
       "  <th>sigma2</th> <td> 1.085e+06</td> <td>    1e+05</td> <td>   10.809</td> <td> 0.000</td> <td> 8.89e+05</td> <td> 1.28e+06</td>\n",
       "</tr>\n",
       "</table>\n",
       "<table class=\"simpletable\">\n",
       "<tr>\n",
       "  <th>Ljung-Box (L1) (Q):</th>     <td>10.82</td> <th>  Jarque-Bera (JB):  </th> <td>22.02</td>\n",
       "</tr>\n",
       "<tr>\n",
       "  <th>Prob(Q):</th>                <td>0.00</td>  <th>  Prob(JB):          </th> <td>0.00</td> \n",
       "</tr>\n",
       "<tr>\n",
       "  <th>Heteroskedasticity (H):</th> <td>0.95</td>  <th>  Skew:              </th> <td>-0.35</td>\n",
       "</tr>\n",
       "<tr>\n",
       "  <th>Prob(H) (two-sided):</th>    <td>0.86</td>  <th>  Kurtosis:          </th> <td>4.99</td> \n",
       "</tr>\n",
       "</table><br/><br/>Warnings:<br/>[1] Covariance matrix calculated using the outer product of gradients (complex-step)."
      ],
      "text/plain": [
       "<class 'statsmodels.iolib.summary.Summary'>\n",
       "\"\"\"\n",
       "                               SARIMAX Results                                \n",
       "==============================================================================\n",
       "Dep. Variable:                  84106   No. Observations:                  121\n",
       "Model:               SARIMAX(0, 2, 0)   Log Likelihood                -995.770\n",
       "Date:                Wed, 25 Jan 2023   AIC                           1993.539\n",
       "Time:                        16:48:57   BIC                           1996.319\n",
       "Sample:                    04-01-2008   HQIC                          1994.668\n",
       "                         - 04-01-2018                                         \n",
       "Covariance Type:                  opg                                         \n",
       "==============================================================================\n",
       "                 coef    std err          z      P>|z|      [0.025      0.975]\n",
       "------------------------------------------------------------------------------\n",
       "sigma2      1.085e+06      1e+05     10.809      0.000    8.89e+05    1.28e+06\n",
       "===================================================================================\n",
       "Ljung-Box (L1) (Q):                  10.82   Jarque-Bera (JB):                22.02\n",
       "Prob(Q):                              0.00   Prob(JB):                         0.00\n",
       "Heteroskedasticity (H):               0.95   Skew:                            -0.35\n",
       "Prob(H) (two-sided):                  0.86   Kurtosis:                         4.99\n",
       "===================================================================================\n",
       "\n",
       "Warnings:\n",
       "[1] Covariance matrix calculated using the outer product of gradients (complex-step).\n",
       "\"\"\""
      ]
     },
     "metadata": {},
     "output_type": "display_data"
    },
    {
     "data": {
      "image/png": "[encoded data removed]",
      "text/plain": [
       "<Figure size 432x288 with 1 Axes>"
      ]
     },
     "metadata": {
      "needs_background": "light"
     },
     "output_type": "display_data"
    },
    {
     "name": "stdout",
     "output_type": "stream",
     "text": [
      "------------------------------------------------------------\n",
      "\n",
      "84401\n"
     ]
    },
    {
     "data": {
      "text/html": [
       "<table class=\"simpletable\">\n",
       "<caption>SARIMAX Results</caption>\n",
       "<tr>\n",
       "  <th>Dep. Variable:</th>         <td>84401</td>      <th>  No. Observations:  </th>    <td>121</td>  \n",
       "</tr>\n",
       "<tr>\n",
       "  <th>Model:</th>           <td>SARIMAX(0, 2, 0)</td> <th>  Log Likelihood     </th> <td>-932.203</td>\n",
       "</tr>\n",
       "<tr>\n",
       "  <th>Date:</th>            <td>Wed, 25 Jan 2023</td> <th>  AIC                </th> <td>1866.406</td>\n",
       "</tr>\n",
       "<tr>\n",
       "  <th>Time:</th>                <td>16:48:58</td>     <th>  BIC                </th> <td>1869.185</td>\n",
       "</tr>\n",
       "<tr>\n",
       "  <th>Sample:</th>             <td>04-01-2008</td>    <th>  HQIC               </th> <td>1867.535</td>\n",
       "</tr>\n",
       "<tr>\n",
       "  <th></th>                   <td>- 04-01-2018</td>   <th>                     </th>     <td> </td>   \n",
       "</tr>\n",
       "<tr>\n",
       "  <th>Covariance Type:</th>        <td>opg</td>       <th>                     </th>     <td> </td>   \n",
       "</tr>\n",
       "</table>\n",
       "<table class=\"simpletable\">\n",
       "<tr>\n",
       "     <td></td>       <th>coef</th>     <th>std err</th>      <th>z</th>      <th>P>|z|</th>  <th>[0.025</th>    <th>0.975]</th>  \n",
       "</tr>\n",
       "<tr>\n",
       "  <th>sigma2</th> <td> 3.729e+05</td> <td> 3.89e+04</td> <td>    9.597</td> <td> 0.000</td> <td> 2.97e+05</td> <td> 4.49e+05</td>\n",
       "</tr>\n",
       "</table>\n",
       "<table class=\"simpletable\">\n",
       "<tr>\n",
       "  <th>Ljung-Box (L1) (Q):</th>     <td>9.62</td> <th>  Jarque-Bera (JB):  </th> <td>7.22</td>\n",
       "</tr>\n",
       "<tr>\n",
       "  <th>Prob(Q):</th>                <td>0.00</td> <th>  Prob(JB):          </th> <td>0.03</td>\n",
       "</tr>\n",
       "<tr>\n",
       "  <th>Heteroskedasticity (H):</th> <td>2.06</td> <th>  Skew:              </th> <td>0.30</td>\n",
       "</tr>\n",
       "<tr>\n",
       "  <th>Prob(H) (two-sided):</th>    <td>0.03</td> <th>  Kurtosis:          </th> <td>4.04</td>\n",
       "</tr>\n",
       "</table><br/><br/>Warnings:<br/>[1] Covariance matrix calculated using the outer product of gradients (complex-step)."
      ],
      "text/plain": [
       "<class 'statsmodels.iolib.summary.Summary'>\n",
       "\"\"\"\n",
       "                               SARIMAX Results                                \n",
       "==============================================================================\n",
       "Dep. Variable:                  84401   No. Observations:                  121\n",
       "Model:               SARIMAX(0, 2, 0)   Log Likelihood                -932.203\n",
       "Date:                Wed, 25 Jan 2023   AIC                           1866.406\n",
       "Time:                        16:48:58   BIC                           1869.185\n",
       "Sample:                    04-01-2008   HQIC                          1867.535\n",
       "                         - 04-01-2018                                         \n",
       "Covariance Type:                  opg                                         \n",
       "==============================================================================\n",
       "                 coef    std err          z      P>|z|      [0.025      0.975]\n",
       "------------------------------------------------------------------------------\n",
       "sigma2      3.729e+05   3.89e+04      9.597      0.000    2.97e+05    4.49e+05\n",
       "===================================================================================\n",
       "Ljung-Box (L1) (Q):                   9.62   Jarque-Bera (JB):                 7.22\n",
       "Prob(Q):                              0.00   Prob(JB):                         0.03\n",
       "Heteroskedasticity (H):               2.06   Skew:                             0.30\n",
       "Prob(H) (two-sided):                  0.03   Kurtosis:                         4.04\n",
       "===================================================================================\n",
       "\n",
       "Warnings:\n",
       "[1] Covariance matrix calculated using the outer product of gradients (complex-step).\n",
       "\"\"\""
      ]
     },
     "metadata": {},
     "output_type": "display_data"
    },
    {
     "data": {
      "image/png": "[encoded data removed]",
      "text/plain": [
       "<Figure size 432x288 with 1 Axes>"
      ]
     },
     "metadata": {
      "needs_background": "light"
     },
     "output_type": "display_data"
    },
    {
     "name": "stdout",
     "output_type": "stream",
     "text": [
      "------------------------------------------------------------\n",
      "\n",
      "84116\n"
     ]
    },
    {
     "data": {
      "text/html": [
       "<table class=\"simpletable\">\n",
       "<caption>SARIMAX Results</caption>\n",
       "<tr>\n",
       "  <th>Dep. Variable:</th>         <td>84116</td>      <th>  No. Observations:  </th>    <td>121</td>  \n",
       "</tr>\n",
       "<tr>\n",
       "  <th>Model:</th>           <td>SARIMAX(0, 2, 0)</td> <th>  Log Likelihood     </th> <td>-920.248</td>\n",
       "</tr>\n",
       "<tr>\n",
       "  <th>Date:</th>            <td>Wed, 25 Jan 2023</td> <th>  AIC                </th> <td>1842.497</td>\n",
       "</tr>\n",
       "<tr>\n",
       "  <th>Time:</th>                <td>16:48:58</td>     <th>  BIC                </th> <td>1845.276</td>\n",
       "</tr>\n",
       "<tr>\n",
       "  <th>Sample:</th>             <td>04-01-2008</td>    <th>  HQIC               </th> <td>1843.625</td>\n",
       "</tr>\n",
       "<tr>\n",
       "  <th></th>                   <td>- 04-01-2018</td>   <th>                     </th>     <td> </td>   \n",
       "</tr>\n",
       "<tr>\n",
       "  <th>Covariance Type:</th>        <td>opg</td>       <th>                     </th>     <td> </td>   \n",
       "</tr>\n",
       "</table>\n",
       "<table class=\"simpletable\">\n",
       "<tr>\n",
       "     <td></td>       <th>coef</th>     <th>std err</th>      <th>z</th>      <th>P>|z|</th>  <th>[0.025</th>    <th>0.975]</th>  \n",
       "</tr>\n",
       "<tr>\n",
       "  <th>sigma2</th> <td>  3.05e+05</td> <td> 3.58e+04</td> <td>    8.529</td> <td> 0.000</td> <td> 2.35e+05</td> <td> 3.75e+05</td>\n",
       "</tr>\n",
       "</table>\n",
       "<table class=\"simpletable\">\n",
       "<tr>\n",
       "  <th>Ljung-Box (L1) (Q):</th>     <td>6.92</td> <th>  Jarque-Bera (JB):  </th> <td>2.01</td>\n",
       "</tr>\n",
       "<tr>\n",
       "  <th>Prob(Q):</th>                <td>0.01</td> <th>  Prob(JB):          </th> <td>0.37</td>\n",
       "</tr>\n",
       "<tr>\n",
       "  <th>Heteroskedasticity (H):</th> <td>1.92</td> <th>  Skew:              </th> <td>0.24</td>\n",
       "</tr>\n",
       "<tr>\n",
       "  <th>Prob(H) (two-sided):</th>    <td>0.04</td> <th>  Kurtosis:          </th> <td>3.41</td>\n",
       "</tr>\n",
       "</table><br/><br/>Warnings:<br/>[1] Covariance matrix calculated using the outer product of gradients (complex-step)."
      ],
      "text/plain": [
       "<class 'statsmodels.iolib.summary.Summary'>\n",
       "\"\"\"\n",
       "                               SARIMAX Results                                \n",
       "==============================================================================\n",
       "Dep. Variable:                  84116   No. Observations:                  121\n",
       "Model:               SARIMAX(0, 2, 0)   Log Likelihood                -920.248\n",
       "Date:                Wed, 25 Jan 2023   AIC                           1842.497\n",
       "Time:                        16:48:58   BIC                           1845.276\n",
       "Sample:                    04-01-2008   HQIC                          1843.625\n",
       "                         - 04-01-2018                                         \n",
       "Covariance Type:                  opg                                         \n",
       "==============================================================================\n",
       "                 coef    std err          z      P>|z|      [0.025      0.975]\n",
       "------------------------------------------------------------------------------\n",
       "sigma2       3.05e+05   3.58e+04      8.529      0.000    2.35e+05    3.75e+05\n",
       "===================================================================================\n",
       "Ljung-Box (L1) (Q):                   6.92   Jarque-Bera (JB):                 2.01\n",
       "Prob(Q):                              0.01   Prob(JB):                         0.37\n",
       "Heteroskedasticity (H):               1.92   Skew:                             0.24\n",
       "Prob(H) (two-sided):                  0.04   Kurtosis:                         3.41\n",
       "===================================================================================\n",
       "\n",
       "Warnings:\n",
       "[1] Covariance matrix calculated using the outer product of gradients (complex-step).\n",
       "\"\"\""
      ]
     },
     "metadata": {},
     "output_type": "display_data"
    },
    {
     "data": {
      "image/png": "[encoded data removed]",
      "text/plain": [
       "<Figure size 432x288 with 1 Axes>"
      ]
     },
     "metadata": {
      "needs_background": "light"
     },
     "output_type": "display_data"
    },
    {
     "name": "stdout",
     "output_type": "stream",
     "text": [
      "------------------------------------------------------------\n",
      "\n",
      "84118\n"
     ]
    },
    {
     "data": {
      "text/html": [
       "<table class=\"simpletable\">\n",
       "<caption>SARIMAX Results</caption>\n",
       "<tr>\n",
       "  <th>Dep. Variable:</th>         <td>84118</td>      <th>  No. Observations:  </th>    <td>121</td>  \n",
       "</tr>\n",
       "<tr>\n",
       "  <th>Model:</th>           <td>SARIMAX(0, 2, 0)</td> <th>  Log Likelihood     </th> <td>-941.239</td>\n",
       "</tr>\n",
       "<tr>\n",
       "  <th>Date:</th>            <td>Wed, 25 Jan 2023</td> <th>  AIC                </th> <td>1884.478</td>\n",
       "</tr>\n",
       "<tr>\n",
       "  <th>Time:</th>                <td>16:48:59</td>     <th>  BIC                </th> <td>1887.257</td>\n",
       "</tr>\n",
       "<tr>\n",
       "  <th>Sample:</th>             <td>04-01-2008</td>    <th>  HQIC               </th> <td>1885.606</td>\n",
       "</tr>\n",
       "<tr>\n",
       "  <th></th>                   <td>- 04-01-2018</td>   <th>                     </th>     <td> </td>   \n",
       "</tr>\n",
       "<tr>\n",
       "  <th>Covariance Type:</th>        <td>opg</td>       <th>                     </th>     <td> </td>   \n",
       "</tr>\n",
       "</table>\n",
       "<table class=\"simpletable\">\n",
       "<tr>\n",
       "     <td></td>       <th>coef</th>     <th>std err</th>      <th>z</th>      <th>P>|z|</th>  <th>[0.025</th>    <th>0.975]</th>  \n",
       "</tr>\n",
       "<tr>\n",
       "  <th>sigma2</th> <td> 4.341e+05</td> <td> 4.42e+04</td> <td>    9.820</td> <td> 0.000</td> <td> 3.47e+05</td> <td> 5.21e+05</td>\n",
       "</tr>\n",
       "</table>\n",
       "<table class=\"simpletable\">\n",
       "<tr>\n",
       "  <th>Ljung-Box (L1) (Q):</th>     <td>8.56</td> <th>  Jarque-Bera (JB):  </th> <td>9.27</td>\n",
       "</tr>\n",
       "<tr>\n",
       "  <th>Prob(Q):</th>                <td>0.00</td> <th>  Prob(JB):          </th> <td>0.01</td>\n",
       "</tr>\n",
       "<tr>\n",
       "  <th>Heteroskedasticity (H):</th> <td>1.11</td> <th>  Skew:              </th> <td>0.32</td>\n",
       "</tr>\n",
       "<tr>\n",
       "  <th>Prob(H) (two-sided):</th>    <td>0.73</td> <th>  Kurtosis:          </th> <td>4.21</td>\n",
       "</tr>\n",
       "</table><br/><br/>Warnings:<br/>[1] Covariance matrix calculated using the outer product of gradients (complex-step)."
      ],
      "text/plain": [
       "<class 'statsmodels.iolib.summary.Summary'>\n",
       "\"\"\"\n",
       "                               SARIMAX Results                                \n",
       "==============================================================================\n",
       "Dep. Variable:                  84118   No. Observations:                  121\n",
       "Model:               SARIMAX(0, 2, 0)   Log Likelihood                -941.239\n",
       "Date:                Wed, 25 Jan 2023   AIC                           1884.478\n",
       "Time:                        16:48:59   BIC                           1887.257\n",
       "Sample:                    04-01-2008   HQIC                          1885.606\n",
       "                         - 04-01-2018                                         \n",
       "Covariance Type:                  opg                                         \n",
       "==============================================================================\n",
       "                 coef    std err          z      P>|z|      [0.025      0.975]\n",
       "------------------------------------------------------------------------------\n",
       "sigma2      4.341e+05   4.42e+04      9.820      0.000    3.47e+05    5.21e+05\n",
       "===================================================================================\n",
       "Ljung-Box (L1) (Q):                   8.56   Jarque-Bera (JB):                 9.27\n",
       "Prob(Q):                              0.00   Prob(JB):                         0.01\n",
       "Heteroskedasticity (H):               1.11   Skew:                             0.32\n",
       "Prob(H) (two-sided):                  0.73   Kurtosis:                         4.21\n",
       "===================================================================================\n",
       "\n",
       "Warnings:\n",
       "[1] Covariance matrix calculated using the outer product of gradients (complex-step).\n",
       "\"\"\""
      ]
     },
     "metadata": {},
     "output_type": "display_data"
    },
    {
     "data": {
      "image/png": "[encoded data removed]",
      "text/plain": [
       "<Figure size 432x288 with 1 Axes>"
      ]
     },
     "metadata": {
      "needs_background": "light"
     },
     "output_type": "display_data"
    },
    {
     "name": "stdout",
     "output_type": "stream",
     "text": [
      "------------------------------------------------------------\n",
      "\n",
      "84115\n"
     ]
    },
    {
     "data": {
      "text/html": [
       "<table class=\"simpletable\">\n",
       "<caption>SARIMAX Results</caption>\n",
       "<tr>\n",
       "  <th>Dep. Variable:</th>         <td>84115</td>      <th>  No. Observations:  </th>    <td>121</td>  \n",
       "</tr>\n",
       "<tr>\n",
       "  <th>Model:</th>           <td>SARIMAX(0, 2, 0)</td> <th>  Log Likelihood     </th> <td>-945.300</td>\n",
       "</tr>\n",
       "<tr>\n",
       "  <th>Date:</th>            <td>Wed, 25 Jan 2023</td> <th>  AIC                </th> <td>1892.600</td>\n",
       "</tr>\n",
       "<tr>\n",
       "  <th>Time:</th>                <td>16:49:00</td>     <th>  BIC                </th> <td>1895.380</td>\n",
       "</tr>\n",
       "<tr>\n",
       "  <th>Sample:</th>             <td>04-01-2008</td>    <th>  HQIC               </th> <td>1893.729</td>\n",
       "</tr>\n",
       "<tr>\n",
       "  <th></th>                   <td>- 04-01-2018</td>   <th>                     </th>     <td> </td>   \n",
       "</tr>\n",
       "<tr>\n",
       "  <th>Covariance Type:</th>        <td>opg</td>       <th>                     </th>     <td> </td>   \n",
       "</tr>\n",
       "</table>\n",
       "<table class=\"simpletable\">\n",
       "<tr>\n",
       "     <td></td>       <th>coef</th>     <th>std err</th>      <th>z</th>      <th>P>|z|</th>  <th>[0.025</th>    <th>0.975]</th>  \n",
       "</tr>\n",
       "<tr>\n",
       "  <th>sigma2</th> <td> 4.647e+05</td> <td> 5.65e+04</td> <td>    8.223</td> <td> 0.000</td> <td> 3.54e+05</td> <td> 5.76e+05</td>\n",
       "</tr>\n",
       "</table>\n",
       "<table class=\"simpletable\">\n",
       "<tr>\n",
       "  <th>Ljung-Box (L1) (Q):</th>     <td>20.47</td> <th>  Jarque-Bera (JB):  </th> <td>0.38</td> \n",
       "</tr>\n",
       "<tr>\n",
       "  <th>Prob(Q):</th>                <td>0.00</td>  <th>  Prob(JB):          </th> <td>0.83</td> \n",
       "</tr>\n",
       "<tr>\n",
       "  <th>Heteroskedasticity (H):</th> <td>1.37</td>  <th>  Skew:              </th> <td>-0.02</td>\n",
       "</tr>\n",
       "<tr>\n",
       "  <th>Prob(H) (two-sided):</th>    <td>0.32</td>  <th>  Kurtosis:          </th> <td>3.27</td> \n",
       "</tr>\n",
       "</table><br/><br/>Warnings:<br/>[1] Covariance matrix calculated using the outer product of gradients (complex-step)."
      ],
      "text/plain": [
       "<class 'statsmodels.iolib.summary.Summary'>\n",
       "\"\"\"\n",
       "                               SARIMAX Results                                \n",
       "==============================================================================\n",
       "Dep. Variable:                  84115   No. Observations:                  121\n",
       "Model:               SARIMAX(0, 2, 0)   Log Likelihood                -945.300\n",
       "Date:                Wed, 25 Jan 2023   AIC                           1892.600\n",
       "Time:                        16:49:00   BIC                           1895.380\n",
       "Sample:                    04-01-2008   HQIC                          1893.729\n",
       "                         - 04-01-2018                                         \n",
       "Covariance Type:                  opg                                         \n",
       "==============================================================================\n",
       "                 coef    std err          z      P>|z|      [0.025      0.975]\n",
       "------------------------------------------------------------------------------\n",
       "sigma2      4.647e+05   5.65e+04      8.223      0.000    3.54e+05    5.76e+05\n",
       "===================================================================================\n",
       "Ljung-Box (L1) (Q):                  20.47   Jarque-Bera (JB):                 0.38\n",
       "Prob(Q):                              0.00   Prob(JB):                         0.83\n",
       "Heteroskedasticity (H):               1.37   Skew:                            -0.02\n",
       "Prob(H) (two-sided):                  0.32   Kurtosis:                         3.27\n",
       "===================================================================================\n",
       "\n",
       "Warnings:\n",
       "[1] Covariance matrix calculated using the outer product of gradients (complex-step).\n",
       "\"\"\""
      ]
     },
     "metadata": {},
     "output_type": "display_data"
    },
    {
     "data": {
      "image/png": "[encoded data removed]",
      "text/plain": [
       "<Figure size 432x288 with 1 Axes>"
      ]
     },
     "metadata": {
      "needs_background": "light"
     },
     "output_type": "display_data"
    },
    {
     "name": "stdout",
     "output_type": "stream",
     "text": [
      "------------------------------------------------------------\n",
      "\n",
      "84102\n"
     ]
    },
    {
     "data": {
      "text/html": [
       "<table class=\"simpletable\">\n",
       "<caption>SARIMAX Results</caption>\n",
       "<tr>\n",
       "  <th>Dep. Variable:</th>         <td>84102</td>      <th>  No. Observations:  </th>    <td>121</td>   \n",
       "</tr>\n",
       "<tr>\n",
       "  <th>Model:</th>           <td>SARIMAX(0, 2, 0)</td> <th>  Log Likelihood     </th> <td>-1027.442</td>\n",
       "</tr>\n",
       "<tr>\n",
       "  <th>Date:</th>            <td>Wed, 25 Jan 2023</td> <th>  AIC                </th> <td>2056.884</td> \n",
       "</tr>\n",
       "<tr>\n",
       "  <th>Time:</th>                <td>16:49:00</td>     <th>  BIC                </th> <td>2059.663</td> \n",
       "</tr>\n",
       "<tr>\n",
       "  <th>Sample:</th>             <td>04-01-2008</td>    <th>  HQIC               </th> <td>2058.013</td> \n",
       "</tr>\n",
       "<tr>\n",
       "  <th></th>                   <td>- 04-01-2018</td>   <th>                     </th>     <td> </td>    \n",
       "</tr>\n",
       "<tr>\n",
       "  <th>Covariance Type:</th>        <td>opg</td>       <th>                     </th>     <td> </td>    \n",
       "</tr>\n",
       "</table>\n",
       "<table class=\"simpletable\">\n",
       "<tr>\n",
       "     <td></td>       <th>coef</th>     <th>std err</th>      <th>z</th>      <th>P>|z|</th>  <th>[0.025</th>    <th>0.975]</th>  \n",
       "</tr>\n",
       "<tr>\n",
       "  <th>sigma2</th> <td> 1.832e+06</td> <td> 2.15e+05</td> <td>    8.515</td> <td> 0.000</td> <td> 1.41e+06</td> <td> 2.25e+06</td>\n",
       "</tr>\n",
       "</table>\n",
       "<table class=\"simpletable\">\n",
       "<tr>\n",
       "  <th>Ljung-Box (L1) (Q):</th>     <td>13.48</td> <th>  Jarque-Bera (JB):  </th> <td>1.45</td>\n",
       "</tr>\n",
       "<tr>\n",
       "  <th>Prob(Q):</th>                <td>0.00</td>  <th>  Prob(JB):          </th> <td>0.48</td>\n",
       "</tr>\n",
       "<tr>\n",
       "  <th>Heteroskedasticity (H):</th> <td>2.58</td>  <th>  Skew:              </th> <td>0.20</td>\n",
       "</tr>\n",
       "<tr>\n",
       "  <th>Prob(H) (two-sided):</th>    <td>0.00</td>  <th>  Kurtosis:          </th> <td>3.36</td>\n",
       "</tr>\n",
       "</table><br/><br/>Warnings:<br/>[1] Covariance matrix calculated using the outer product of gradients (complex-step)."
      ],
      "text/plain": [
       "<class 'statsmodels.iolib.summary.Summary'>\n",
       "\"\"\"\n",
       "                               SARIMAX Results                                \n",
       "==============================================================================\n",
       "Dep. Variable:                  84102   No. Observations:                  121\n",
       "Model:               SARIMAX(0, 2, 0)   Log Likelihood               -1027.442\n",
       "Date:                Wed, 25 Jan 2023   AIC                           2056.884\n",
       "Time:                        16:49:00   BIC                           2059.663\n",
       "Sample:                    04-01-2008   HQIC                          2058.013\n",
       "                         - 04-01-2018                                         \n",
       "Covariance Type:                  opg                                         \n",
       "==============================================================================\n",
       "                 coef    std err          z      P>|z|      [0.025      0.975]\n",
       "------------------------------------------------------------------------------\n",
       "sigma2      1.832e+06   2.15e+05      8.515      0.000    1.41e+06    2.25e+06\n",
       "===================================================================================\n",
       "Ljung-Box (L1) (Q):                  13.48   Jarque-Bera (JB):                 1.45\n",
       "Prob(Q):                              0.00   Prob(JB):                         0.48\n",
       "Heteroskedasticity (H):               2.58   Skew:                             0.20\n",
       "Prob(H) (two-sided):                  0.00   Kurtosis:                         3.36\n",
       "===================================================================================\n",
       "\n",
       "Warnings:\n",
       "[1] Covariance matrix calculated using the outer product of gradients (complex-step).\n",
       "\"\"\""
      ]
     },
     "metadata": {},
     "output_type": "display_data"
    },
    {
     "data": {
      "image/png": "[encoded data removed]",
      "text/plain": [
       "<Figure size 432x288 with 1 Axes>"
      ]
     },
     "metadata": {
      "needs_background": "light"
     },
     "output_type": "display_data"
    },
    {
     "name": "stdout",
     "output_type": "stream",
     "text": [
      "------------------------------------------------------------\n",
      "\n",
      "84105\n"
     ]
    },
    {
     "data": {
      "text/html": [
       "<table class=\"simpletable\">\n",
       "<caption>SARIMAX Results</caption>\n",
       "<tr>\n",
       "  <th>Dep. Variable:</th>         <td>84105</td>      <th>  No. Observations:  </th>    <td>121</td>   \n",
       "</tr>\n",
       "<tr>\n",
       "  <th>Model:</th>           <td>SARIMAX(0, 2, 0)</td> <th>  Log Likelihood     </th> <td>-1020.103</td>\n",
       "</tr>\n",
       "<tr>\n",
       "  <th>Date:</th>            <td>Wed, 25 Jan 2023</td> <th>  AIC                </th> <td>2042.205</td> \n",
       "</tr>\n",
       "<tr>\n",
       "  <th>Time:</th>                <td>16:49:01</td>     <th>  BIC                </th> <td>2044.984</td> \n",
       "</tr>\n",
       "<tr>\n",
       "  <th>Sample:</th>             <td>04-01-2008</td>    <th>  HQIC               </th> <td>2043.334</td> \n",
       "</tr>\n",
       "<tr>\n",
       "  <th></th>                   <td>- 04-01-2018</td>   <th>                     </th>     <td> </td>    \n",
       "</tr>\n",
       "<tr>\n",
       "  <th>Covariance Type:</th>        <td>opg</td>       <th>                     </th>     <td> </td>    \n",
       "</tr>\n",
       "</table>\n",
       "<table class=\"simpletable\">\n",
       "<tr>\n",
       "     <td></td>       <th>coef</th>     <th>std err</th>      <th>z</th>      <th>P>|z|</th>  <th>[0.025</th>    <th>0.975]</th>  \n",
       "</tr>\n",
       "<tr>\n",
       "  <th>sigma2</th> <td>  1.62e+06</td> <td> 1.62e+05</td> <td>    9.974</td> <td> 0.000</td> <td>  1.3e+06</td> <td> 1.94e+06</td>\n",
       "</tr>\n",
       "</table>\n",
       "<table class=\"simpletable\">\n",
       "<tr>\n",
       "  <th>Ljung-Box (L1) (Q):</th>     <td>14.73</td> <th>  Jarque-Bera (JB):  </th> <td>8.28</td> \n",
       "</tr>\n",
       "<tr>\n",
       "  <th>Prob(Q):</th>                <td>0.00</td>  <th>  Prob(JB):          </th> <td>0.02</td> \n",
       "</tr>\n",
       "<tr>\n",
       "  <th>Heteroskedasticity (H):</th> <td>1.18</td>  <th>  Skew:              </th> <td>-0.03</td>\n",
       "</tr>\n",
       "<tr>\n",
       "  <th>Prob(H) (two-sided):</th>    <td>0.61</td>  <th>  Kurtosis:          </th> <td>4.29</td> \n",
       "</tr>\n",
       "</table><br/><br/>Warnings:<br/>[1] Covariance matrix calculated using the outer product of gradients (complex-step)."
      ],
      "text/plain": [
       "<class 'statsmodels.iolib.summary.Summary'>\n",
       "\"\"\"\n",
       "                               SARIMAX Results                                \n",
       "==============================================================================\n",
       "Dep. Variable:                  84105   No. Observations:                  121\n",
       "Model:               SARIMAX(0, 2, 0)   Log Likelihood               -1020.103\n",
       "Date:                Wed, 25 Jan 2023   AIC                           2042.205\n",
       "Time:                        16:49:01   BIC                           2044.984\n",
       "Sample:                    04-01-2008   HQIC                          2043.334\n",
       "                         - 04-01-2018                                         \n",
       "Covariance Type:                  opg                                         \n",
       "==============================================================================\n",
       "                 coef    std err          z      P>|z|      [0.025      0.975]\n",
       "------------------------------------------------------------------------------\n",
       "sigma2       1.62e+06   1.62e+05      9.974      0.000     1.3e+06    1.94e+06\n",
       "===================================================================================\n",
       "Ljung-Box (L1) (Q):                  14.73   Jarque-Bera (JB):                 8.28\n",
       "Prob(Q):                              0.00   Prob(JB):                         0.02\n",
       "Heteroskedasticity (H):               1.18   Skew:                            -0.03\n",
       "Prob(H) (two-sided):                  0.61   Kurtosis:                         4.29\n",
       "===================================================================================\n",
       "\n",
       "Warnings:\n",
       "[1] Covariance matrix calculated using the outer product of gradients (complex-step).\n",
       "\"\"\""
      ]
     },
     "metadata": {},
     "output_type": "display_data"
    },
    {
     "data": {
      "image/png": "[encoded data removed]",
      "text/plain": [
       "<Figure size 432x288 with 1 Axes>"
      ]
     },
     "metadata": {
      "needs_background": "light"
     },
     "output_type": "display_data"
    },
    {
     "name": "stdout",
     "output_type": "stream",
     "text": [
      "------------------------------------------------------------\n",
      "\n",
      "84044\n"
     ]
    },
    {
     "data": {
      "text/html": [
       "<table class=\"simpletable\">\n",
       "<caption>SARIMAX Results</caption>\n",
       "<tr>\n",
       "  <th>Dep. Variable:</th>         <td>84044</td>      <th>  No. Observations:  </th>    <td>121</td>  \n",
       "</tr>\n",
       "<tr>\n",
       "  <th>Model:</th>           <td>SARIMAX(0, 2, 0)</td> <th>  Log Likelihood     </th> <td>-923.872</td>\n",
       "</tr>\n",
       "<tr>\n",
       "  <th>Date:</th>            <td>Wed, 25 Jan 2023</td> <th>  AIC                </th> <td>1849.744</td>\n",
       "</tr>\n",
       "<tr>\n",
       "  <th>Time:</th>                <td>16:49:01</td>     <th>  BIC                </th> <td>1852.523</td>\n",
       "</tr>\n",
       "<tr>\n",
       "  <th>Sample:</th>             <td>04-01-2008</td>    <th>  HQIC               </th> <td>1850.872</td>\n",
       "</tr>\n",
       "<tr>\n",
       "  <th></th>                   <td>- 04-01-2018</td>   <th>                     </th>     <td> </td>   \n",
       "</tr>\n",
       "<tr>\n",
       "  <th>Covariance Type:</th>        <td>opg</td>       <th>                     </th>     <td> </td>   \n",
       "</tr>\n",
       "</table>\n",
       "<table class=\"simpletable\">\n",
       "<tr>\n",
       "     <td></td>       <th>coef</th>     <th>std err</th>      <th>z</th>      <th>P>|z|</th>  <th>[0.025</th>    <th>0.975]</th>  \n",
       "</tr>\n",
       "<tr>\n",
       "  <th>sigma2</th> <td> 3.242e+05</td> <td> 3.71e+04</td> <td>    8.745</td> <td> 0.000</td> <td> 2.52e+05</td> <td> 3.97e+05</td>\n",
       "</tr>\n",
       "</table>\n",
       "<table class=\"simpletable\">\n",
       "<tr>\n",
       "  <th>Ljung-Box (L1) (Q):</th>     <td>8.75</td> <th>  Jarque-Bera (JB):  </th> <td>1.71</td>\n",
       "</tr>\n",
       "<tr>\n",
       "  <th>Prob(Q):</th>                <td>0.00</td> <th>  Prob(JB):          </th> <td>0.43</td>\n",
       "</tr>\n",
       "<tr>\n",
       "  <th>Heteroskedasticity (H):</th> <td>1.36</td> <th>  Skew:              </th> <td>0.09</td>\n",
       "</tr>\n",
       "<tr>\n",
       "  <th>Prob(H) (two-sided):</th>    <td>0.34</td> <th>  Kurtosis:          </th> <td>3.56</td>\n",
       "</tr>\n",
       "</table><br/><br/>Warnings:<br/>[1] Covariance matrix calculated using the outer product of gradients (complex-step)."
      ],
      "text/plain": [
       "<class 'statsmodels.iolib.summary.Summary'>\n",
       "\"\"\"\n",
       "                               SARIMAX Results                                \n",
       "==============================================================================\n",
       "Dep. Variable:                  84044   No. Observations:                  121\n",
       "Model:               SARIMAX(0, 2, 0)   Log Likelihood                -923.872\n",
       "Date:                Wed, 25 Jan 2023   AIC                           1849.744\n",
       "Time:                        16:49:01   BIC                           1852.523\n",
       "Sample:                    04-01-2008   HQIC                          1850.872\n",
       "                         - 04-01-2018                                         \n",
       "Covariance Type:                  opg                                         \n",
       "==============================================================================\n",
       "                 coef    std err          z      P>|z|      [0.025      0.975]\n",
       "------------------------------------------------------------------------------\n",
       "sigma2      3.242e+05   3.71e+04      8.745      0.000    2.52e+05    3.97e+05\n",
       "===================================================================================\n",
       "Ljung-Box (L1) (Q):                   8.75   Jarque-Bera (JB):                 1.71\n",
       "Prob(Q):                              0.00   Prob(JB):                         0.43\n",
       "Heteroskedasticity (H):               1.36   Skew:                             0.09\n",
       "Prob(H) (two-sided):                  0.34   Kurtosis:                         3.56\n",
       "===================================================================================\n",
       "\n",
       "Warnings:\n",
       "[1] Covariance matrix calculated using the outer product of gradients (complex-step).\n",
       "\"\"\""
      ]
     },
     "metadata": {},
     "output_type": "display_data"
    },
    {
     "data": {
      "image/png": "[encoded data removed]",
      "text/plain": [
       "<Figure size 432x288 with 1 Axes>"
      ]
     },
     "metadata": {
      "needs_background": "light"
     },
     "output_type": "display_data"
    },
    {
     "name": "stdout",
     "output_type": "stream",
     "text": [
      "------------------------------------------------------------\n",
      "\n",
      "84104\n"
     ]
    },
    {
     "data": {
      "text/html": [
       "<table class=\"simpletable\">\n",
       "<caption>SARIMAX Results</caption>\n",
       "<tr>\n",
       "  <th>Dep. Variable:</th>         <td>84104</td>      <th>  No. Observations:  </th>    <td>121</td>  \n",
       "</tr>\n",
       "<tr>\n",
       "  <th>Model:</th>           <td>SARIMAX(1, 2, 0)</td> <th>  Log Likelihood     </th> <td>-940.399</td>\n",
       "</tr>\n",
       "<tr>\n",
       "  <th>Date:</th>            <td>Wed, 25 Jan 2023</td> <th>  AIC                </th> <td>1884.798</td>\n",
       "</tr>\n",
       "<tr>\n",
       "  <th>Time:</th>                <td>16:49:02</td>     <th>  BIC                </th> <td>1890.357</td>\n",
       "</tr>\n",
       "<tr>\n",
       "  <th>Sample:</th>             <td>04-01-2008</td>    <th>  HQIC               </th> <td>1887.056</td>\n",
       "</tr>\n",
       "<tr>\n",
       "  <th></th>                   <td>- 04-01-2018</td>   <th>                     </th>     <td> </td>   \n",
       "</tr>\n",
       "<tr>\n",
       "  <th>Covariance Type:</th>        <td>opg</td>       <th>                     </th>     <td> </td>   \n",
       "</tr>\n",
       "</table>\n",
       "<table class=\"simpletable\">\n",
       "<tr>\n",
       "     <td></td>       <th>coef</th>     <th>std err</th>      <th>z</th>      <th>P>|z|</th>  <th>[0.025</th>    <th>0.975]</th>  \n",
       "</tr>\n",
       "<tr>\n",
       "  <th>ar.L1</th>  <td>    0.0258</td> <td>    0.032</td> <td>    0.809</td> <td> 0.418</td> <td>   -0.037</td> <td>    0.088</td>\n",
       "</tr>\n",
       "<tr>\n",
       "  <th>sigma2</th> <td> 4.247e+05</td> <td> 5.69e+04</td> <td>    7.461</td> <td> 0.000</td> <td> 3.13e+05</td> <td> 5.36e+05</td>\n",
       "</tr>\n",
       "</table>\n",
       "<table class=\"simpletable\">\n",
       "<tr>\n",
       "  <th>Ljung-Box (L1) (Q):</th>     <td>6.94</td> <th>  Jarque-Bera (JB):  </th> <td>0.61</td>\n",
       "</tr>\n",
       "<tr>\n",
       "  <th>Prob(Q):</th>                <td>0.01</td> <th>  Prob(JB):          </th> <td>0.74</td>\n",
       "</tr>\n",
       "<tr>\n",
       "  <th>Heteroskedasticity (H):</th> <td>2.95</td> <th>  Skew:              </th> <td>0.16</td>\n",
       "</tr>\n",
       "<tr>\n",
       "  <th>Prob(H) (two-sided):</th>    <td>0.00</td> <th>  Kurtosis:          </th> <td>2.85</td>\n",
       "</tr>\n",
       "</table><br/><br/>Warnings:<br/>[1] Covariance matrix calculated using the outer product of gradients (complex-step)."
      ],
      "text/plain": [
       "<class 'statsmodels.iolib.summary.Summary'>\n",
       "\"\"\"\n",
       "                               SARIMAX Results                                \n",
       "==============================================================================\n",
       "Dep. Variable:                  84104   No. Observations:                  121\n",
       "Model:               SARIMAX(1, 2, 0)   Log Likelihood                -940.399\n",
       "Date:                Wed, 25 Jan 2023   AIC                           1884.798\n",
       "Time:                        16:49:02   BIC                           1890.357\n",
       "Sample:                    04-01-2008   HQIC                          1887.056\n",
       "                         - 04-01-2018                                         \n",
       "Covariance Type:                  opg                                         \n",
       "==============================================================================\n",
       "                 coef    std err          z      P>|z|      [0.025      0.975]\n",
       "------------------------------------------------------------------------------\n",
       "ar.L1          0.0258      0.032      0.809      0.418      -0.037       0.088\n",
       "sigma2      4.247e+05   5.69e+04      7.461      0.000    3.13e+05    5.36e+05\n",
       "===================================================================================\n",
       "Ljung-Box (L1) (Q):                   6.94   Jarque-Bera (JB):                 0.61\n",
       "Prob(Q):                              0.01   Prob(JB):                         0.74\n",
       "Heteroskedasticity (H):               2.95   Skew:                             0.16\n",
       "Prob(H) (two-sided):                  0.00   Kurtosis:                         2.85\n",
       "===================================================================================\n",
       "\n",
       "Warnings:\n",
       "[1] Covariance matrix calculated using the outer product of gradients (complex-step).\n",
       "\"\"\""
      ]
     },
     "metadata": {},
     "output_type": "display_data"
    },
    {
     "data": {
      "image/png": "[encoded data removed]",
      "text/plain": [
       "<Figure size 432x288 with 1 Axes>"
      ]
     },
     "metadata": {
      "needs_background": "light"
     },
     "output_type": "display_data"
    },
    {
     "name": "stdout",
     "output_type": "stream",
     "text": [
      "------------------------------------------------------------\n",
      "\n",
      "84111\n"
     ]
    },
    {
     "data": {
      "text/html": [
       "<table class=\"simpletable\">\n",
       "<caption>SARIMAX Results</caption>\n",
       "<tr>\n",
       "  <th>Dep. Variable:</th>         <td>84111</td>      <th>  No. Observations:  </th>    <td>121</td>  \n",
       "</tr>\n",
       "<tr>\n",
       "  <th>Model:</th>           <td>SARIMAX(0, 2, 0)</td> <th>  Log Likelihood     </th> <td>-975.926</td>\n",
       "</tr>\n",
       "<tr>\n",
       "  <th>Date:</th>            <td>Wed, 25 Jan 2023</td> <th>  AIC                </th> <td>1953.852</td>\n",
       "</tr>\n",
       "<tr>\n",
       "  <th>Time:</th>                <td>16:49:03</td>     <th>  BIC                </th> <td>1956.632</td>\n",
       "</tr>\n",
       "<tr>\n",
       "  <th>Sample:</th>             <td>04-01-2008</td>    <th>  HQIC               </th> <td>1954.981</td>\n",
       "</tr>\n",
       "<tr>\n",
       "  <th></th>                   <td>- 04-01-2018</td>   <th>                     </th>     <td> </td>   \n",
       "</tr>\n",
       "<tr>\n",
       "  <th>Covariance Type:</th>        <td>opg</td>       <th>                     </th>     <td> </td>   \n",
       "</tr>\n",
       "</table>\n",
       "<table class=\"simpletable\">\n",
       "<tr>\n",
       "     <td></td>       <th>coef</th>     <th>std err</th>      <th>z</th>      <th>P>|z|</th>  <th>[0.025</th>    <th>0.975]</th>  \n",
       "</tr>\n",
       "<tr>\n",
       "  <th>sigma2</th> <td> 7.776e+05</td> <td> 9.38e+04</td> <td>    8.294</td> <td> 0.000</td> <td> 5.94e+05</td> <td> 9.61e+05</td>\n",
       "</tr>\n",
       "</table>\n",
       "<table class=\"simpletable\">\n",
       "<tr>\n",
       "  <th>Ljung-Box (L1) (Q):</th>     <td>14.11</td> <th>  Jarque-Bera (JB):  </th> <td>1.06</td>\n",
       "</tr>\n",
       "<tr>\n",
       "  <th>Prob(Q):</th>                <td>0.00</td>  <th>  Prob(JB):          </th> <td>0.59</td>\n",
       "</tr>\n",
       "<tr>\n",
       "  <th>Heteroskedasticity (H):</th> <td>1.29</td>  <th>  Skew:              </th> <td>0.18</td>\n",
       "</tr>\n",
       "<tr>\n",
       "  <th>Prob(H) (two-sided):</th>    <td>0.43</td>  <th>  Kurtosis:          </th> <td>3.30</td>\n",
       "</tr>\n",
       "</table><br/><br/>Warnings:<br/>[1] Covariance matrix calculated using the outer product of gradients (complex-step)."
      ],
      "text/plain": [
       "<class 'statsmodels.iolib.summary.Summary'>\n",
       "\"\"\"\n",
       "                               SARIMAX Results                                \n",
       "==============================================================================\n",
       "Dep. Variable:                  84111   No. Observations:                  121\n",
       "Model:               SARIMAX(0, 2, 0)   Log Likelihood                -975.926\n",
       "Date:                Wed, 25 Jan 2023   AIC                           1953.852\n",
       "Time:                        16:49:03   BIC                           1956.632\n",
       "Sample:                    04-01-2008   HQIC                          1954.981\n",
       "                         - 04-01-2018                                         \n",
       "Covariance Type:                  opg                                         \n",
       "==============================================================================\n",
       "                 coef    std err          z      P>|z|      [0.025      0.975]\n",
       "------------------------------------------------------------------------------\n",
       "sigma2      7.776e+05   9.38e+04      8.294      0.000    5.94e+05    9.61e+05\n",
       "===================================================================================\n",
       "Ljung-Box (L1) (Q):                  14.11   Jarque-Bera (JB):                 1.06\n",
       "Prob(Q):                              0.00   Prob(JB):                         0.59\n",
       "Heteroskedasticity (H):               1.29   Skew:                             0.18\n",
       "Prob(H) (two-sided):                  0.43   Kurtosis:                         3.30\n",
       "===================================================================================\n",
       "\n",
       "Warnings:\n",
       "[1] Covariance matrix calculated using the outer product of gradients (complex-step).\n",
       "\"\"\""
      ]
     },
     "metadata": {},
     "output_type": "display_data"
    },
    {
     "data": {
      "image/png": "[encoded data removed]",
      "text/plain": [
       "<Figure size 432x288 with 1 Axes>"
      ]
     },
     "metadata": {
      "needs_background": "light"
     },
     "output_type": "display_data"
    },
    {
     "name": "stdout",
     "output_type": "stream",
     "text": [
      "------------------------------------------------------------\n",
      "\n",
      "84101\n"
     ]
    },
    {
     "data": {
      "text/html": [
       "<table class=\"simpletable\">\n",
       "<caption>SARIMAX Results</caption>\n",
       "<tr>\n",
       "  <th>Dep. Variable:</th>         <td>84101</td>      <th>  No. Observations:  </th>    <td>121</td>   \n",
       "</tr>\n",
       "<tr>\n",
       "  <th>Model:</th>           <td>SARIMAX(0, 2, 0)</td> <th>  Log Likelihood     </th> <td>-1012.402</td>\n",
       "</tr>\n",
       "<tr>\n",
       "  <th>Date:</th>            <td>Wed, 25 Jan 2023</td> <th>  AIC                </th> <td>2026.805</td> \n",
       "</tr>\n",
       "<tr>\n",
       "  <th>Time:</th>                <td>16:49:04</td>     <th>  BIC                </th> <td>2029.584</td> \n",
       "</tr>\n",
       "<tr>\n",
       "  <th>Sample:</th>             <td>04-01-2008</td>    <th>  HQIC               </th> <td>2027.933</td> \n",
       "</tr>\n",
       "<tr>\n",
       "  <th></th>                   <td>- 04-01-2018</td>   <th>                     </th>     <td> </td>    \n",
       "</tr>\n",
       "<tr>\n",
       "  <th>Covariance Type:</th>        <td>opg</td>       <th>                     </th>     <td> </td>    \n",
       "</tr>\n",
       "</table>\n",
       "<table class=\"simpletable\">\n",
       "<tr>\n",
       "     <td></td>       <th>coef</th>     <th>std err</th>      <th>z</th>      <th>P>|z|</th>  <th>[0.025</th>    <th>0.975]</th>  \n",
       "</tr>\n",
       "<tr>\n",
       "  <th>sigma2</th> <td> 1.435e+06</td> <td> 1.59e+05</td> <td>    9.025</td> <td> 0.000</td> <td> 1.12e+06</td> <td> 1.75e+06</td>\n",
       "</tr>\n",
       "</table>\n",
       "<table class=\"simpletable\">\n",
       "<tr>\n",
       "  <th>Ljung-Box (L1) (Q):</th>     <td>17.89</td> <th>  Jarque-Bera (JB):  </th> <td>3.66</td> \n",
       "</tr>\n",
       "<tr>\n",
       "  <th>Prob(Q):</th>                <td>0.00</td>  <th>  Prob(JB):          </th> <td>0.16</td> \n",
       "</tr>\n",
       "<tr>\n",
       "  <th>Heteroskedasticity (H):</th> <td>2.09</td>  <th>  Skew:              </th> <td>-0.21</td>\n",
       "</tr>\n",
       "<tr>\n",
       "  <th>Prob(H) (two-sided):</th>    <td>0.02</td>  <th>  Kurtosis:          </th> <td>3.75</td> \n",
       "</tr>\n",
       "</table><br/><br/>Warnings:<br/>[1] Covariance matrix calculated using the outer product of gradients (complex-step)."
      ],
      "text/plain": [
       "<class 'statsmodels.iolib.summary.Summary'>\n",
       "\"\"\"\n",
       "                               SARIMAX Results                                \n",
       "==============================================================================\n",
       "Dep. Variable:                  84101   No. Observations:                  121\n",
       "Model:               SARIMAX(0, 2, 0)   Log Likelihood               -1012.402\n",
       "Date:                Wed, 25 Jan 2023   AIC                           2026.805\n",
       "Time:                        16:49:04   BIC                           2029.584\n",
       "Sample:                    04-01-2008   HQIC                          2027.933\n",
       "                         - 04-01-2018                                         \n",
       "Covariance Type:                  opg                                         \n",
       "==============================================================================\n",
       "                 coef    std err          z      P>|z|      [0.025      0.975]\n",
       "------------------------------------------------------------------------------\n",
       "sigma2      1.435e+06   1.59e+05      9.025      0.000    1.12e+06    1.75e+06\n",
       "===================================================================================\n",
       "Ljung-Box (L1) (Q):                  17.89   Jarque-Bera (JB):                 3.66\n",
       "Prob(Q):                              0.00   Prob(JB):                         0.16\n",
       "Heteroskedasticity (H):               2.09   Skew:                            -0.21\n",
       "Prob(H) (two-sided):                  0.02   Kurtosis:                         3.75\n",
       "===================================================================================\n",
       "\n",
       "Warnings:\n",
       "[1] Covariance matrix calculated using the outer product of gradients (complex-step).\n",
       "\"\"\""
      ]
     },
     "metadata": {},
     "output_type": "display_data"
    },
    {
     "data": {
      "image/png": "[encoded data removed]",
      "text/plain": [
       "<Figure size 432x288 with 1 Axes>"
      ]
     },
     "metadata": {
      "needs_background": "light"
     },
     "output_type": "display_data"
    },
    {
     "name": "stdout",
     "output_type": "stream",
     "text": [
      "------------------------------------------------------------\n",
      "\n",
      "84757\n"
     ]
    },
    {
     "data": {
      "text/html": [
       "<table class=\"simpletable\">\n",
       "<caption>SARIMAX Results</caption>\n",
       "<tr>\n",
       "  <th>Dep. Variable:</th>         <td>84757</td>      <th>  No. Observations:  </th>    <td>121</td>   \n",
       "</tr>\n",
       "<tr>\n",
       "  <th>Model:</th>           <td>SARIMAX(0, 2, 0)</td> <th>  Log Likelihood     </th> <td>-1036.059</td>\n",
       "</tr>\n",
       "<tr>\n",
       "  <th>Date:</th>            <td>Wed, 25 Jan 2023</td> <th>  AIC                </th> <td>2074.117</td> \n",
       "</tr>\n",
       "<tr>\n",
       "  <th>Time:</th>                <td>16:49:04</td>     <th>  BIC                </th> <td>2076.896</td> \n",
       "</tr>\n",
       "<tr>\n",
       "  <th>Sample:</th>             <td>04-01-2008</td>    <th>  HQIC               </th> <td>2075.246</td> \n",
       "</tr>\n",
       "<tr>\n",
       "  <th></th>                   <td>- 04-01-2018</td>   <th>                     </th>     <td> </td>    \n",
       "</tr>\n",
       "<tr>\n",
       "  <th>Covariance Type:</th>        <td>opg</td>       <th>                     </th>     <td> </td>    \n",
       "</tr>\n",
       "</table>\n",
       "<table class=\"simpletable\">\n",
       "<tr>\n",
       "     <td></td>       <th>coef</th>     <th>std err</th>      <th>z</th>      <th>P>|z|</th>  <th>[0.025</th>    <th>0.975]</th>  \n",
       "</tr>\n",
       "<tr>\n",
       "  <th>sigma2</th> <td> 2.116e+06</td> <td> 2.16e+05</td> <td>    9.807</td> <td> 0.000</td> <td> 1.69e+06</td> <td> 2.54e+06</td>\n",
       "</tr>\n",
       "</table>\n",
       "<table class=\"simpletable\">\n",
       "<tr>\n",
       "  <th>Ljung-Box (L1) (Q):</th>     <td>7.21</td> <th>  Jarque-Bera (JB):  </th> <td>10.08</td>\n",
       "</tr>\n",
       "<tr>\n",
       "  <th>Prob(Q):</th>                <td>0.01</td> <th>  Prob(JB):          </th> <td>0.01</td> \n",
       "</tr>\n",
       "<tr>\n",
       "  <th>Heteroskedasticity (H):</th> <td>1.06</td> <th>  Skew:              </th> <td>-0.31</td>\n",
       "</tr>\n",
       "<tr>\n",
       "  <th>Prob(H) (two-sided):</th>    <td>0.85</td> <th>  Kurtosis:          </th> <td>4.28</td> \n",
       "</tr>\n",
       "</table><br/><br/>Warnings:<br/>[1] Covariance matrix calculated using the outer product of gradients (complex-step)."
      ],
      "text/plain": [
       "<class 'statsmodels.iolib.summary.Summary'>\n",
       "\"\"\"\n",
       "                               SARIMAX Results                                \n",
       "==============================================================================\n",
       "Dep. Variable:                  84757   No. Observations:                  121\n",
       "Model:               SARIMAX(0, 2, 0)   Log Likelihood               -1036.059\n",
       "Date:                Wed, 25 Jan 2023   AIC                           2074.117\n",
       "Time:                        16:49:04   BIC                           2076.896\n",
       "Sample:                    04-01-2008   HQIC                          2075.246\n",
       "                         - 04-01-2018                                         \n",
       "Covariance Type:                  opg                                         \n",
       "==============================================================================\n",
       "                 coef    std err          z      P>|z|      [0.025      0.975]\n",
       "------------------------------------------------------------------------------\n",
       "sigma2      2.116e+06   2.16e+05      9.807      0.000    1.69e+06    2.54e+06\n",
       "===================================================================================\n",
       "Ljung-Box (L1) (Q):                   7.21   Jarque-Bera (JB):                10.08\n",
       "Prob(Q):                              0.01   Prob(JB):                         0.01\n",
       "Heteroskedasticity (H):               1.06   Skew:                            -0.31\n",
       "Prob(H) (two-sided):                  0.85   Kurtosis:                         4.28\n",
       "===================================================================================\n",
       "\n",
       "Warnings:\n",
       "[1] Covariance matrix calculated using the outer product of gradients (complex-step).\n",
       "\"\"\""
      ]
     },
     "metadata": {},
     "output_type": "display_data"
    },
    {
     "data": {
      "image/png": "[encoded data removed]",
      "text/plain": [
       "<Figure size 432x288 with 1 Axes>"
      ]
     },
     "metadata": {
      "needs_background": "light"
     },
     "output_type": "display_data"
    },
    {
     "name": "stdout",
     "output_type": "stream",
     "text": [
      "------------------------------------------------------------\n",
      "\n"
     ]
    }
   ],
   "source": [
    "RESULTS = {}\n",
    "\n",
    "for zipcode in zip_df:\n",
    "    print(zipcode)\n",
    "    \n",
    "    zipcode_d = {}\n",
    "    \n",
    "    ## Copy Time Series\n",
    "    ts = zip_df[zipcode].copy()\n",
    "    \n",
    "    \n",
    "    ## Train Test Split Index\n",
    "    train_size = 0.8\n",
    "    split_idx = round(len(ts)* train_size)\n",
    "\n",
    "    ## Split\n",
    "    train = ts.iloc[:split_idx]\n",
    "    test = ts.iloc[split_idx:]\n",
    "    \n",
    "    \n",
    "    ## Get best params using auto_arima\n",
    "    gridsearch_model = auto_arima(ts,start_p=0,start_q=0)\n",
    "    best_model = SARIMAX(ts,order=gridsearch_model.order,\n",
    "                     seasonal_order=gridsearch_model.seasonal_order).fit()\n",
    "    \n",
    "    ## Get predictions\n",
    "    pred  = best_model.get_forecast(steps=36)\n",
    "    pred_df = forecast_to_df(pred,zipcode)\n",
    "\n",
    "    ## Save info to dict\n",
    "    zipcode_d['pred_df'] = pred_df\n",
    "    zipcode_d['model'] = best_model\n",
    "    zipcode_d['train'] = train\n",
    "    zipcode_d['test'] = test\n",
    "    \n",
    "    ## Display Results\n",
    "    display(best_model.summary())\n",
    "    plot_train_test_pred(train,test,pred_df)\n",
    "    plt.xlabel('Year')\n",
    "    plt.ylabel('Value in US Dollars ($)')\n",
    "    plt.show()\n",
    "    \n",
    "    \n",
    "    ## Save district dict in RESULTS\n",
    "    RESULTS[zipcode] = zipcode_d\n",
    "    print('---'*20,end='\\n\\n')"
   ]
  },
  {
   "cell_type": "code",
   "execution_count": 72,
   "metadata": {
    "scrolled": true
   },
   "outputs": [
    {
     "data": {
      "text/html": [
       "<div>\n",
       "<style scoped>\n",
       "    .dataframe tbody tr th:only-of-type {\n",
       "        vertical-align: middle;\n",
       "    }\n",
       "\n",
       "    .dataframe tbody tr th {\n",
       "        vertical-align: top;\n",
       "    }\n",
       "\n",
       "    .dataframe thead th {\n",
       "        text-align: right;\n",
       "    }\n",
       "</style>\n",
       "<table border=\"1\" class=\"dataframe\">\n",
       "  <thead>\n",
       "    <tr style=\"text-align: right;\">\n",
       "      <th></th>\n",
       "      <th>Zipcode</th>\n",
       "      <th>State</th>\n",
       "      <th>CountyName</th>\n",
       "      <th>SizeRank</th>\n",
       "      <th>ROI_5yr</th>\n",
       "      <th>ROI_3yr</th>\n",
       "      <th>value</th>\n",
       "    </tr>\n",
       "    <tr>\n",
       "      <th>Date</th>\n",
       "      <th></th>\n",
       "      <th></th>\n",
       "      <th></th>\n",
       "      <th></th>\n",
       "      <th></th>\n",
       "      <th></th>\n",
       "      <th></th>\n",
       "    </tr>\n",
       "  </thead>\n",
       "  <tbody>\n",
       "    <tr>\n",
       "      <th>2008-04-01</th>\n",
       "      <td>84119</td>\n",
       "      <td>UT</td>\n",
       "      <td>Salt Lake</td>\n",
       "      <td>1420</td>\n",
       "      <td>0.6553</td>\n",
       "      <td>0.4960</td>\n",
       "      <td>196200.0</td>\n",
       "    </tr>\n",
       "    <tr>\n",
       "      <th>2008-04-01</th>\n",
       "      <td>84106</td>\n",
       "      <td>UT</td>\n",
       "      <td>Salt Lake</td>\n",
       "      <td>2217</td>\n",
       "      <td>0.6911</td>\n",
       "      <td>0.4949</td>\n",
       "      <td>271100.0</td>\n",
       "    </tr>\n",
       "    <tr>\n",
       "      <th>2008-04-01</th>\n",
       "      <td>84401</td>\n",
       "      <td>UT</td>\n",
       "      <td>Weber</td>\n",
       "      <td>2273</td>\n",
       "      <td>0.5439</td>\n",
       "      <td>0.4859</td>\n",
       "      <td>161100.0</td>\n",
       "    </tr>\n",
       "    <tr>\n",
       "      <th>2008-04-01</th>\n",
       "      <td>84116</td>\n",
       "      <td>UT</td>\n",
       "      <td>Salt Lake</td>\n",
       "      <td>3638</td>\n",
       "      <td>0.7383</td>\n",
       "      <td>0.5812</td>\n",
       "      <td>181400.0</td>\n",
       "    </tr>\n",
       "    <tr>\n",
       "      <th>2008-04-01</th>\n",
       "      <td>84118</td>\n",
       "      <td>UT</td>\n",
       "      <td>Salt Lake</td>\n",
       "      <td>3653</td>\n",
       "      <td>0.7209</td>\n",
       "      <td>0.5133</td>\n",
       "      <td>197600.0</td>\n",
       "    </tr>\n",
       "  </tbody>\n",
       "</table>\n",
       "</div>"
      ],
      "text/plain": [
       "           Zipcode State CountyName  SizeRank  ROI_5yr  ROI_3yr     value\n",
       "Date                                                                     \n",
       "2008-04-01   84119    UT  Salt Lake      1420   0.6553   0.4960  196200.0\n",
       "2008-04-01   84106    UT  Salt Lake      2217   0.6911   0.4949  271100.0\n",
       "2008-04-01   84401    UT      Weber      2273   0.5439   0.4859  161100.0\n",
       "2008-04-01   84116    UT  Salt Lake      3638   0.7383   0.5812  181400.0\n",
       "2008-04-01   84118    UT  Salt Lake      3653   0.7209   0.5133  197600.0"
      ]
     },
     "execution_count": 72,
     "metadata": {},
     "output_type": "execute_result"
    }
   ],
   "source": [
    "top_ten_perc_3yr.head(5)"
   ]
  },
  {
   "cell_type": "markdown",
   "metadata": {},
   "source": [
    "## Conclusion\n",
    "\n",
    "#### The top zip codes to invest in are:\n",
    "##### 84116 with a 3 year ROI of 58.12% and a 5 year ROI of 73.83%\n",
    "##### 84118 with a 3 year ROI of 51.33% and a 5 year ROI of 72.09%\n",
    "#####  84119 with a 3 year ROI of 49.6% and a 5 year ROI of 65.53%\n",
    "##### 84106 with a 3 year ROI of 49.49% and a 5 year ROI of 69.11%\n",
    "##### 84401 with a 3 year ROI of 48.59% and a 5 year ROI of 54.39%\n",
    "\n"
   ]
  }
 ],
 "metadata": {
  "kernelspec": {
   "display_name": "Python 3",
   "language": "python",
   "name": "python3"
  },
  "language_info": {
   "codemirror_mode": {
    "name": "ipython",
    "version": 3
   },
   "file_extension": ".py",
   "mimetype": "text/x-python",
   "name": "python",
   "nbconvert_exporter": "python",
   "pygments_lexer": "ipython3",
   "version": "3.8.5"
  }
 },
 "nbformat": 4,
 "nbformat_minor": 4
}
